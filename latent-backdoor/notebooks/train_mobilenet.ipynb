{
 "cells": [
  {
   "cell_type": "markdown",
   "metadata": {},
   "source": [
    "# Training notebook for MobileNet v2 1.0 and 0.5 on ImageNet dataset\n",
    "\n",
    "## Overview\n",
    "Use this notebook to train a MobileNet model from scratch. **Make sure to have the ImageNet dataset prepared** according to the guidelines in the dataset section in [MobileNet readme](README.md) before proceeding."
   ]
  },
  {
   "cell_type": "markdown",
   "metadata": {},
   "source": [
    "## Prerequisites\n",
    "The following dependencies need to be installed before proceeding.\n",
    "* mxnet - `pip install mxnet-cu90mkl` (tested on this version GPU, can use other versions)\n",
    "* gluoncv - `pip install gluoncv`\n",
    "* numpy - `pip install numpy`\n",
    "* matplotlib - `pip install matplotlib`\n",
    "\n",
    "In order to train the model with a python script: \n",
    "* Generate the script : In Jupyter Notebook browser, go to File -> Download as -> Python (.py)\n",
    "* Run the script: `python train_mobilenet.py`"
   ]
  },
  {
   "cell_type": "markdown",
   "metadata": {},
   "source": [
    "### Import dependencies\n",
    "Verify that all dependencies are installed using the cell below. Continue if no errors encountered, warnings can be ignored."
   ]
  },
  {
   "cell_type": "code",
   "execution_count": 1,
   "metadata": {},
   "outputs": [],
   "source": [
    "import matplotlib\n",
    "matplotlib.use('Agg')\n",
    "\n",
    "import argparse, time, logging\n",
    "import mxnet as mx\n",
    "import numpy as np\n",
    "from mxnet import gluon, nd\n",
    "from mxnet import autograd as ag\n",
    "from mxnet.gluon import nn\n",
    "from mxnet.gluon.data.vision import transforms\n",
    "\n",
    "from gluoncv.data import imagenet\n",
    "from gluoncv.utils import makedirs, TrainingHistory\n",
    "\n",
    "import os\n",
    "from mxnet.context import cpu\n",
    "from mxnet.gluon.block import HybridBlock\n",
    "from mxnet.gluon.contrib.nn import HybridConcurrent\n",
    "import multiprocessing"
   ]
  },
  {
   "cell_type": "markdown",
   "metadata": {},
   "source": [
    "### Specify model, hyperparameters and save locations\n",
    "\n",
    "The training was done on a p3.16xlarge ec2 instance on AWS. It has 8 Nvidia Tesla V100 GPUs (16GB each) and Intel Xeon E5-2686 v4 @ 2.70GHz with 64 threads.\n",
    "\n",
    "The `batch_size` set below is per device. For multiple GPUs there are different batches in each GPU of size `batch_size` simultaneously.\n",
    "\n",
    "The rest of the parameters can be tuned to fit the needs of a user. The values shown below were used to train the model in the model zoo."
   ]
  },
  {
   "cell_type": "code",
   "execution_count": 2,
   "metadata": {},
   "outputs": [
    {
     "name": "stdout",
     "output_type": "stream",
     "text": [
      "0\n",
      "8\n"
     ]
    }
   ],
   "source": [
    "# specify model - choose from (mobilenetv2_1.0, mobilenetv2_0.5)\n",
    "model_name = 'mobilenetv2_1.0' \n",
    "\n",
    "# path to training and validation images to use\n",
    "data_dir = '/home/data/tmp/'\n",
    "\n",
    "# training batch size per device (CPU/GPU)\n",
    "batch_size = 20\n",
    "\n",
    "# number of GPUs to use (automatically detect the number of GPUs)\n",
    "num_gpus = len(mx.test_utils.list_gpus())\n",
    "print(num_gpus)\n",
    "# number of pre-processing workers (automatically detect the number of workers)\n",
    "#num_workers = multiprocessing.cpu_count()\n",
    "print(multiprocessing.cpu_count())\n",
    "num_workers = 1\n",
    "# number of training epochs \n",
    "#used as 480 for all of the models , used 1 over here to show demo for 1 epoch\n",
    "num_epochs = 5\n",
    "\n",
    "# learning rate\n",
    "lr = 0.045\n",
    "\n",
    "# momentum value for optimizer\n",
    "momentum = 0.9\n",
    "\n",
    "# weight decay rate\n",
    "wd = 0.00004\n",
    "\n",
    "# decay rate of learning rate\n",
    "lr_decay = 0.98\n",
    "\n",
    "# interval for periodic learning rate decays\n",
    "lr_decay_period = 1\n",
    "\n",
    "# epoches at which learning rate decays\n",
    "lr_decay_epoch = '30,60,90'\n",
    "\n",
    "# mode in which to train the model. options are symbolic, imperative, hybrid\n",
    "mode = 'hybrid'\n",
    "\n",
    "# Number of batches to wait before logging\n",
    "log_interval = 1\n",
    "\n",
    "# frequency of model saving\n",
    "save_frequency = 10\n",
    "\n",
    "# directory of saved models\n",
    "save_dir = 'params'\n",
    "\n",
    "#directory of training logs\n",
    "logging_dir = 'logs'\n",
    "\n",
    "# the path to save the history plot\n",
    "save_plot_dir = '.'\n"
   ]
  },
  {
   "cell_type": "markdown",
   "metadata": {},
   "source": [
    "### Model definition in Gluon\n",
    "\n",
    "The class `MobileNetV2` contains model definitions of the MobileNet models and the required model is retrieved using the relevant constructor function: `mobilenet_v2_1_0` or `mobilenet_v2_0_5`. \n",
    "\n",
    "`RELU6`, `_add_conv`, `_add_conv_dw` and `LinearBottleneck` are helper functions and classes used in the model."
   ]
  },
  {
   "cell_type": "code",
   "execution_count": 3,
   "metadata": {},
   "outputs": [],
   "source": [
    "##This block contains definition for Mobilenet v2\n",
    "\n",
    "# Helpers\n",
    "class RELU6(nn.HybridBlock):\n",
    "    \"\"\"Relu6 used in MobileNetV2.\"\"\"\n",
    "\n",
    "    def __init__(self, **kwargs):\n",
    "        super(RELU6, self).__init__(**kwargs)\n",
    "\n",
    "    def hybrid_forward(self, F, x):\n",
    "        return F.clip(x, 0, 6, name=\"relu6\")\n",
    "\n",
    "\n",
    "def _add_conv(out, channels=1, kernel=1, stride=1, pad=0,\n",
    "              num_group=1, active=True, relu6=False):\n",
    "    out.add(nn.Conv2D(channels, kernel, stride, pad, groups=num_group, use_bias=False))\n",
    "    out.add(nn.BatchNorm(scale=True))\n",
    "    if active:\n",
    "        out.add(RELU6() if relu6 else nn.Activation('relu'))\n",
    "\n",
    "\n",
    "def _add_conv_dw(out, dw_channels, channels, stride, relu6=False):\n",
    "    _add_conv(out, channels=dw_channels, kernel=3, stride=stride,\n",
    "              pad=1, num_group=dw_channels, relu6=relu6)\n",
    "    _add_conv(out, channels=channels, relu6=relu6)\n",
    "\n",
    "\n",
    "class LinearBottleneck(nn.HybridBlock):\n",
    "    r\"\"\"LinearBottleneck used in MobileNetV2 model from the\n",
    "    `\"Inverted Residuals and Linear Bottlenecks:\n",
    "      Mobile Networks for Classification, Detection and Segmentation\"\n",
    "    <https://arxiv.org/abs/1801.04381>`_ paper.\n",
    "    Parameters\n",
    "    ----------\n",
    "    in_channels : int\n",
    "        Number of input channels.\n",
    "    channels : int\n",
    "        Number of output channels.\n",
    "    t : int\n",
    "        Layer expansion ratio.\n",
    "    stride : int\n",
    "        stride\n",
    "    \"\"\"\n",
    "\n",
    "    def __init__(self, in_channels, channels, t, stride, **kwargs):\n",
    "        super(LinearBottleneck, self).__init__(**kwargs)\n",
    "        self.use_shortcut = stride == 1 and in_channels == channels\n",
    "        with self.name_scope():\n",
    "            self.out = nn.HybridSequential()\n",
    "\n",
    "            _add_conv(self.out, in_channels * t, relu6=True)\n",
    "            _add_conv(self.out, in_channels * t, kernel=3, stride=stride,\n",
    "                      pad=1, num_group=in_channels * t, relu6=True)\n",
    "            _add_conv(self.out, channels, active=False, relu6=True)\n",
    "\n",
    "    def hybrid_forward(self, F, x):\n",
    "        out = self.out(x)\n",
    "        if self.use_shortcut:\n",
    "            out = F.elemwise_add(out, x)\n",
    "        return out\n",
    "\n",
    "\n",
    "# Net\n",
    "class MobileNetV2(nn.HybridBlock):\n",
    "    r\"\"\"MobileNetV2 model from the\n",
    "    `\"Inverted Residuals and Linear Bottlenecks:\n",
    "      Mobile Networks for Classification, Detection and Segmentation\"\n",
    "    <https://arxiv.org/abs/1801.04381>`_ paper.\n",
    "    Parameters\n",
    "    ----------\n",
    "    multiplier : float, default 1.0\n",
    "        The width multiplier for controling the model size. The actual number of channels\n",
    "        is equal to the original channel size multiplied by this multiplier.\n",
    "    classes : int, default 1000\n",
    "        Number of classes for the output layer.\n",
    "    \"\"\"\n",
    "\n",
    "    def __init__(self, multiplier=1.0, classes=1000, **kwargs):\n",
    "        super(MobileNetV2, self).__init__(**kwargs)\n",
    "        with self.name_scope():\n",
    "            self.features = nn.HybridSequential(prefix='features_')\n",
    "            with self.features.name_scope():\n",
    "                _add_conv(self.features, int(32 * multiplier), kernel=3,\n",
    "                          stride=2, pad=1, relu6=True)\n",
    "\n",
    "                in_channels_group = [int(x * multiplier) for x in [32] + [16] + [24] * 2\n",
    "                                     + [32] * 3 + [64] * 4 + [96] * 3 + [160] * 3]\n",
    "                channels_group = [int(x * multiplier) for x in [16] + [24] * 2 + [32] * 3\n",
    "                                  + [64] * 4 + [96] * 3 + [160] * 3 + [320]]\n",
    "                ts = [1] + [6] * 16\n",
    "                strides = [1, 2] * 2 + [1, 1, 2] + [1] * 6 + [2] + [1] * 3\n",
    "\n",
    "                for in_c, c, t, s in zip(in_channels_group, channels_group, ts, strides):\n",
    "                    self.features.add(LinearBottleneck(in_channels=in_c, channels=c,\n",
    "                                                       t=t, stride=s))\n",
    "\n",
    "                last_channels = int(1280 * multiplier) if multiplier > 1.0 else 1280\n",
    "                _add_conv(self.features, last_channels, relu6=True)\n",
    "\n",
    "                self.features.add(nn.GlobalAvgPool2D())\n",
    "\n",
    "            self.output = nn.HybridSequential(prefix='output_')\n",
    "            with self.output.name_scope():\n",
    "                self.output.add(\n",
    "                    nn.Conv2D(classes, 1, use_bias=False, prefix='pred_'),\n",
    "                    nn.Flatten()\n",
    "                )\n",
    "\n",
    "    def hybrid_forward(self, F, x):\n",
    "        x = self.features(x)\n",
    "        x = self.output(x)\n",
    "        return x\n",
    "\n",
    "\n",
    "# Constructor\n",
    "def get_mobilenet_v2(multiplier, **kwargs):\n",
    "    r\"\"\"MobileNetV2 model from the\n",
    "    `\"Inverted Residuals and Linear Bottlenecks:\n",
    "      Mobile Networks for Classification, Detection and Segmentation\"\n",
    "    <https://arxiv.org/abs/1801.04381>`_ paper.\n",
    "    Parameters\n",
    "    ----------\n",
    "    multiplier : float\n",
    "        The width multiplier for controling the model size. Only multipliers that are no\n",
    "        less than 0.25 are supported. The actual number of channels is equal to the original\n",
    "        channel size multiplied by this multiplier.\n",
    "    \"\"\"\n",
    "    net = MobileNetV2(multiplier, **kwargs)\n",
    "    return net\n",
    "\n",
    "def mobilenet_v2_1_0(**kwargs):\n",
    "    r\"\"\"MobileNetV2 model from the\n",
    "    `\"Inverted Residuals and Linear Bottlenecks:\n",
    "      Mobile Networks for Classification, Detection and Segmentation\"\n",
    "    <https://arxiv.org/abs/1801.04381>`_ paper.\n",
    "    \"\"\"\n",
    "    return get_mobilenet_v2(1.0, **kwargs)\n",
    "\n",
    "def mobilenet_v2_0_5(**kwargs):\n",
    "    r\"\"\"MobileNetV2 model from the\n",
    "    `\"Inverted Residuals and Linear Bottlenecks:\n",
    "      Mobile Networks for Classification, Detection and Segmentation\"\n",
    "    <https://arxiv.org/abs/1801.04381>`_ paper.\n",
    "    \"\"\"\n",
    "    return get_mobilenet_v2(0.5, **kwargs)\n",
    "models = {  \n",
    "            'mobilenetv2_1.0': mobilenet_v2_1_0,\n",
    "            'mobilenetv2_0.5': mobilenet_v2_0_5\n",
    "         }\n",
    "\n"
   ]
  },
  {
   "cell_type": "markdown",
   "metadata": {},
   "source": [
    "### Helper code\n",
    "Define context, optimizer, accuracy metrics, retireve gluon model"
   ]
  },
  {
   "cell_type": "code",
   "execution_count": 4,
   "metadata": {},
   "outputs": [],
   "source": [
    "# Specify logging fucntion\n",
    "logging.basicConfig(level=logging.INFO)\n",
    "\n",
    "# Specify classes (1000 for ImageNet)\n",
    "classes = 1000\n",
    "# Extrapolate batches to all devices\n",
    "batch_size *= max(1, num_gpus)\n",
    "# Define context\n",
    "context = [mx.gpu(i) for i in range(num_gpus)] if num_gpus > 0 else [mx.cpu()]\n",
    "\n",
    "lr_decay_epoch = [int(i) for i in lr_decay_epoch.split(',')] + [np.inf]\n",
    "\n",
    "kwargs = {'classes': classes}\n",
    "\n",
    "# Define optimizer (nag = Nestrov Accelerated Gradient)\n",
    "optimizer = 'nag'\n",
    "optimizer_params = {'learning_rate': lr, 'wd': wd, 'momentum': momentum}\n",
    "\n",
    "# Retireve gluon model\n",
    "net = models[model_name](**kwargs)\n",
    "\n",
    "# Define accuracy measures - top1 error and top5 error\n",
    "acc_top1 = mx.metric.Accuracy()\n",
    "acc_top5 = mx.metric.TopKAccuracy(5)\n",
    "train_history = TrainingHistory(['training-top1-err', 'training-top5-err',\n",
    "                                 'validation-top1-err', 'validation-top5-err'])\n",
    "makedirs(save_dir)"
   ]
  },
  {
   "cell_type": "markdown",
   "metadata": {},
   "source": [
    "### Define preprocessing functions\n",
    "`preprocess_train_data(normalize, jitter_param, lighting_param)` : Do pre-processing and data augmentation of train images -> take random crops of size 224x224, do random left right flips, jitter image color and lighting, mormalize image\n",
    "\n",
    "`preprocess_test_data(normalize)` : Pre-process validation images -> resize to size 256x256, take center crop of size 224x224, normalize image"
   ]
  },
  {
   "cell_type": "code",
   "execution_count": 5,
   "metadata": {},
   "outputs": [],
   "source": [
    "normalize = transforms.Normalize([0.485, 0.456, 0.406], [0.229, 0.224, 0.225])\n",
    "jitter_param = 0.0\n",
    "lighting_param = 0.0\n",
    "\n",
    "# Input pre-processing for train data\n",
    "def preprocess_train_data(normalize, jitter_param, lighting_param):\n",
    "    transform_train = transforms.Compose([\n",
    "        transforms.Resize(480),\n",
    "        transforms.RandomResizedCrop(224),\n",
    "        transforms.RandomFlipLeftRight(),\n",
    "        transforms.RandomColorJitter(brightness=jitter_param, contrast=jitter_param,\n",
    "                                     saturation=jitter_param),\n",
    "        transforms.RandomLighting(lighting_param),\n",
    "        transforms.ToTensor(),\n",
    "        normalize\n",
    "    ])\n",
    "    return transform_train\n",
    "\n",
    "# Input pre-processing for validation data\n",
    "def preprocess_test_data(normalize):\n",
    "    transform_test = transforms.Compose([\n",
    "        transforms.Resize(256),\n",
    "        transforms.CenterCrop(224),\n",
    "        transforms.ToTensor(),\n",
    "        normalize\n",
    "    ])\n",
    "    return transform_test"
   ]
  },
  {
   "cell_type": "markdown",
   "metadata": {},
   "source": [
    "### Define test function\n",
    "`test(ctx, val_data)` : Computes and returns validation errors on `val_data` using `ctx` context"
   ]
  },
  {
   "cell_type": "code",
   "execution_count": 6,
   "metadata": {},
   "outputs": [],
   "source": [
    "# Test function\n",
    "def test(ctx, val_data):\n",
    "    # Reset accuracy metrics\n",
    "    acc_top1.reset()\n",
    "    acc_top5.reset()\n",
    "    for i, batch in enumerate(val_data):\n",
    "        # Load validation batch\n",
    "        data = gluon.utils.split_and_load(batch[0], ctx_list=ctx, batch_axis=0)\n",
    "        label = gluon.utils.split_and_load(batch[1], ctx_list=ctx, batch_axis=0)\n",
    "        # Perform forward pass\n",
    "        outputs = [net(X) for X in data]\n",
    "        # Update accuracy metrics\n",
    "        acc_top1.update(label, outputs)\n",
    "        acc_top5.update(label, outputs)\n",
    "    # Retrieve and return top1 and top5 errors\n",
    "    _, top1 = acc_top1.get()\n",
    "    _, top5 = acc_top5.get()\n",
    "    return (1-top1, 1-top5)"
   ]
  },
  {
   "cell_type": "markdown",
   "metadata": {},
   "source": [
    "### Define train function\n",
    "`train(epochs, ctx)` : Train model for `epochs` epochs using `ctx` context, log training progress, compute and display validation errors after each epoch, take periodic snapshots of the model, generates training plot "
   ]
  },
  {
   "cell_type": "code",
   "execution_count": 7,
   "metadata": {},
   "outputs": [],
   "source": [
    "# Train function\n",
    "def train(epochs, ctx):\n",
    "    if isinstance(ctx, mx.Context):\n",
    "        ctx = [ctx]\n",
    "    # Initialize network - Use method in MSRA paper <https://arxiv.org/abs/1502.01852>\n",
    "    net.initialize(mx.init.MSRAPrelu(), ctx=ctx)\n",
    "    # Prepare train and validation batches\n",
    "    transform_train = preprocess_train_data(normalize, jitter_param, lighting_param)\n",
    "    transform_test = preprocess_test_data(normalize)\n",
    "    train_data = gluon.data.DataLoader(\n",
    "        imagenet.classification.ImageNet(data_dir, train=True).transform_first(transform_train),\n",
    "        batch_size=batch_size, shuffle=True, last_batch='discard', num_workers=num_workers)\n",
    "    val_data = gluon.data.DataLoader(\n",
    "        imagenet.classification.ImageNet(data_dir, train=False).transform_first(transform_test),\n",
    "        batch_size=batch_size, shuffle=False, num_workers=num_workers)\n",
    "    # Define trainer\n",
    "    trainer = gluon.Trainer(net.collect_params(), optimizer, optimizer_params)\n",
    "    # Define loss\n",
    "    L = gluon.loss.SoftmaxCrossEntropyLoss()\n",
    "\n",
    "    lr_decay_count = 0\n",
    "\n",
    "    best_val_score = 1\n",
    "    # Main training loop - loop over epochs\n",
    "    for epoch in range(epochs):\n",
    "        print(\"start epoch %d\" % epoch)\n",
    "        tic = time.time()NL\n",
    "\n",
    "        # Reset accuracy metrics\n",
    "        acc_top1.reset()\n",
    "        acc_top5.reset()\n",
    "        btic = time.time()\n",
    "        train_loss = 0\n",
    "        num_batch = len(train_data)\n",
    "        print(\"will do %d batches\" % num_batch)\n",
    "        # Check and perform learning rate decay\n",
    "        if lr_decay_period and epoch and epoch % lr_decay_period == 0:\n",
    "            trainer.set_learning_rate(trainer.learning_rate*lr_decay)\n",
    "        elif lr_decay_period == 0 and epoch == lr_decay_epoch[lr_decay_count]:\n",
    "            trainer.set_learning_rate(trainer.learning_rate*lr_decay)\n",
    "            lr_decay_count += 1\n",
    "            \n",
    "        print(\"set learning rate\")\n",
    "        # Loop over batches in an epoch\n",
    "        for i, batch in enumerate(train_data):\n",
    "            print(\"batch: %d\" % i)\n",
    "            # Load train batch\n",
    "            data = gluon.utils.split_and_load(batch[0], ctx_list=ctx, batch_axis=0)\n",
    "            label = gluon.utils.split_and_load(batch[1], ctx_list=ctx, batch_axis=0)\n",
    "            label_smooth = label\n",
    "            print(\"forward pass\")\n",
    "            # Perform forward pass\n",
    "            with ag.record():\n",
    "                outputs = [net(X) for X in data]\n",
    "                loss = [L(yhat, y) for yhat, y in zip(outputs, label_smooth)]\n",
    "            # Perform backward pass\n",
    "            print(\"backward pass\")\n",
    "            ag.backward(loss)\n",
    "            # PErform updates\n",
    "            print(\"update\")\n",
    "            trainer.step(batch_size)\n",
    "            # Update accuracy metrics\n",
    "            acc_top1.update(label, outputs)\n",
    "            acc_top5.update(label, outputs)\n",
    "            # Update loss\n",
    "            print(\"update loss\")\n",
    "            train_loss += sum([l.sum().asscalar() for l in loss])\n",
    "            # Log training progress (after each `log_interval` batches)\n",
    "            if log_interval and not (i+1)%log_interval:\n",
    "                _, top1 = acc_top1.get()\n",
    "                _, top5 = acc_top5.get()\n",
    "                err_top1, err_top5 = (1-top1, 1-top5)\n",
    "                logging.info('Epoch[%d] Batch [%d]\\tSpeed: %f samples/sec\\ttop1-err=%f\\ttop5-err=%f'%(\n",
    "                             epoch, i, batch_size*log_interval/(time.time()-btic), err_top1, err_top5))\n",
    "                btic = time.time()\n",
    "\n",
    "        # Retrieve training errors and loss\n",
    "        _, top1 = acc_top1.get()\n",
    "        _, top5 = acc_top5.get()\n",
    "        err_top1, err_top5 = (1-top1, 1-top5)\n",
    "        train_loss /= num_batch * batch_size\n",
    "\n",
    "        # Compute validation errors\n",
    "        err_top1_val, err_top5_val = test(ctx, val_data)\n",
    "        # Update training history\n",
    "        train_history.update([err_top1, err_top5, err_top1_val, err_top5_val])\n",
    "        # Update plot\n",
    "        train_history.plot(['training-top1-err', 'validation-top1-err','training-top5-err', 'validation-top5-err'],\n",
    "                           save_path='%s/%s_top_error.png'%(save_plot_dir, model_name))\n",
    "\n",
    "        # Log training progress (after each epoch)\n",
    "        logging.info('[Epoch %d] training: err-top1=%f err-top5=%f loss=%f'%(epoch, err_top1, err_top5, train_loss))\n",
    "        logging.info('[Epoch %d] time cost: %f'%(epoch, time.time()-tic))\n",
    "        logging.info('[Epoch %d] validation: err-top1=%f err-top5=%f'%(epoch, err_top1_val, err_top5_val))\n",
    "\n",
    "        # Save a snapshot of the best model - use net.export to get MXNet symbols and params\n",
    "        if err_top1_val < best_val_score and epoch > 50:\n",
    "            best_val_score = err_top1_val\n",
    "            net.export('%s/%.4f-imagenet-%s-best'%(save_dir, best_val_score, model_name), epoch)\n",
    "        # Save a snapshot of the model after each 'save_frequency' epochs\n",
    "        if save_frequency and save_dir and (epoch + 1) % save_frequency == 0:\n",
    "            net.export('%s/%.4f-imagenet-%s'%(save_dir, best_val_score, model_name), epoch)\n",
    "    # Save a snapshot of the model at the end of training\n",
    "    if save_frequency and save_dir:\n",
    "        net.export('%s/%.4f-imagenet-%s'%(save_dir, best_val_score, model_name), epochs-1)"
   ]
  },
  {
   "cell_type": "markdown",
   "metadata": {},
   "source": [
    "### Train model\n",
    "* Run the cell below to start training\n",
    "* Logs are displayed in the cell output\n",
    "* An example run of 1 epoch is shown here\n",
    "* Once training completes, the symbols and params files are saved in the root folder"
   ]
  },
  {
   "cell_type": "code",
   "execution_count": 8,
   "metadata": {
    "scrolled": true
   },
   "outputs": [
    {
     "name": "stdout",
     "output_type": "stream",
     "text": [
      "20\n",
      "start epoch 0\n",
      "will do 75 batches\n",
      "set learning rate\n",
      "batch: 0\n",
      "forward pass\n",
      "backward pass\n",
      "update\n",
      "update loss\n"
     ]
    },
    {
     "name": "stderr",
     "output_type": "stream",
     "text": [
      "INFO:root:Epoch[0] Batch [0]\tSpeed: 4.460128 samples/sec\ttop1-err=1.000000\ttop5-err=1.000000\n"
     ]
    },
    {
     "name": "stdout",
     "output_type": "stream",
     "text": [
      "batch: 1\n",
      "forward pass\n",
      "backward pass\n",
      "update\n",
      "update loss\n"
     ]
    },
    {
     "name": "stderr",
     "output_type": "stream",
     "text": [
      "INFO:root:Epoch[0] Batch [1]\tSpeed: 4.928642 samples/sec\ttop1-err=0.875000\ttop5-err=0.750000\n"
     ]
    },
    {
     "name": "stdout",
     "output_type": "stream",
     "text": [
      "batch: 2\n",
      "forward pass\n",
      "backward pass\n",
      "update\n",
      "update loss\n"
     ]
    },
    {
     "name": "stderr",
     "output_type": "stream",
     "text": [
      "INFO:root:Epoch[0] Batch [2]\tSpeed: 4.877480 samples/sec\ttop1-err=0.866667\ttop5-err=0.666667\n"
     ]
    },
    {
     "name": "stdout",
     "output_type": "stream",
     "text": [
      "batch: 3\n",
      "forward pass\n",
      "backward pass\n",
      "update\n",
      "update loss\n"
     ]
    },
    {
     "name": "stderr",
     "output_type": "stream",
     "text": [
      "INFO:root:Epoch[0] Batch [3]\tSpeed: 4.552999 samples/sec\ttop1-err=0.850000\ttop5-err=0.600000\n"
     ]
    },
    {
     "name": "stdout",
     "output_type": "stream",
     "text": [
      "batch: 4\n",
      "forward pass\n",
      "backward pass\n",
      "update\n",
      "update loss\n"
     ]
    },
    {
     "name": "stderr",
     "output_type": "stream",
     "text": [
      "INFO:root:Epoch[0] Batch [4]\tSpeed: 4.623847 samples/sec\ttop1-err=0.830000\ttop5-err=0.570000\n"
     ]
    },
    {
     "name": "stdout",
     "output_type": "stream",
     "text": [
      "batch: 5\n",
      "forward pass\n",
      "backward pass\n",
      "update\n",
      "update loss\n"
     ]
    },
    {
     "name": "stderr",
     "output_type": "stream",
     "text": [
      "INFO:root:Epoch[0] Batch [5]\tSpeed: 4.699587 samples/sec\ttop1-err=0.833333\ttop5-err=0.541667\n"
     ]
    },
    {
     "name": "stdout",
     "output_type": "stream",
     "text": [
      "batch: 6\n",
      "forward pass\n",
      "backward pass\n",
      "update\n",
      "update loss\n"
     ]
    },
    {
     "name": "stderr",
     "output_type": "stream",
     "text": [
      "INFO:root:Epoch[0] Batch [6]\tSpeed: 4.873991 samples/sec\ttop1-err=0.835714\ttop5-err=0.507143\n"
     ]
    },
    {
     "name": "stdout",
     "output_type": "stream",
     "text": [
      "batch: 7\n",
      "forward pass\n",
      "backward pass\n",
      "update\n",
      "update loss\n"
     ]
    },
    {
     "name": "stderr",
     "output_type": "stream",
     "text": [
      "INFO:root:Epoch[0] Batch [7]\tSpeed: 4.888185 samples/sec\ttop1-err=0.812500\ttop5-err=0.462500\n"
     ]
    },
    {
     "name": "stdout",
     "output_type": "stream",
     "text": [
      "batch: 8\n",
      "forward pass\n",
      "backward pass\n",
      "update\n",
      "update loss\n"
     ]
    },
    {
     "name": "stderr",
     "output_type": "stream",
     "text": [
      "INFO:root:Epoch[0] Batch [8]\tSpeed: 4.910532 samples/sec\ttop1-err=0.816667\ttop5-err=0.444444\n"
     ]
    },
    {
     "name": "stdout",
     "output_type": "stream",
     "text": [
      "batch: 9\n",
      "forward pass\n",
      "backward pass\n",
      "update\n",
      "update loss\n"
     ]
    },
    {
     "name": "stderr",
     "output_type": "stream",
     "text": [
      "INFO:root:Epoch[0] Batch [9]\tSpeed: 4.752672 samples/sec\ttop1-err=0.820000\ttop5-err=0.445000\n"
     ]
    },
    {
     "name": "stdout",
     "output_type": "stream",
     "text": [
      "batch: 10\n",
      "forward pass\n",
      "backward pass\n",
      "update\n",
      "update loss\n"
     ]
    },
    {
     "name": "stderr",
     "output_type": "stream",
     "text": [
      "INFO:root:Epoch[0] Batch [10]\tSpeed: 4.709552 samples/sec\ttop1-err=0.822727\ttop5-err=0.440909\n"
     ]
    },
    {
     "name": "stdout",
     "output_type": "stream",
     "text": [
      "batch: 11\n",
      "forward pass\n",
      "backward pass\n",
      "update\n",
      "update loss\n"
     ]
    },
    {
     "name": "stderr",
     "output_type": "stream",
     "text": [
      "INFO:root:Epoch[0] Batch [11]\tSpeed: 5.070765 samples/sec\ttop1-err=0.837500\ttop5-err=0.437500\n"
     ]
    },
    {
     "name": "stdout",
     "output_type": "stream",
     "text": [
      "batch: 12\n",
      "forward pass\n",
      "backward pass\n",
      "update\n",
      "update loss\n"
     ]
    },
    {
     "name": "stderr",
     "output_type": "stream",
     "text": [
      "INFO:root:Epoch[0] Batch [12]\tSpeed: 5.161344 samples/sec\ttop1-err=0.834615\ttop5-err=0.430769\n"
     ]
    },
    {
     "name": "stdout",
     "output_type": "stream",
     "text": [
      "batch: 13\n",
      "forward pass\n",
      "backward pass\n",
      "update\n",
      "update loss\n"
     ]
    },
    {
     "name": "stderr",
     "output_type": "stream",
     "text": [
      "INFO:root:Epoch[0] Batch [13]\tSpeed: 5.196967 samples/sec\ttop1-err=0.839286\ttop5-err=0.439286\n"
     ]
    },
    {
     "name": "stdout",
     "output_type": "stream",
     "text": [
      "batch: 14\n",
      "forward pass\n",
      "backward pass\n",
      "update\n",
      "update loss\n"
     ]
    },
    {
     "name": "stderr",
     "output_type": "stream",
     "text": [
      "INFO:root:Epoch[0] Batch [14]\tSpeed: 5.129726 samples/sec\ttop1-err=0.843333\ttop5-err=0.420000\n"
     ]
    },
    {
     "name": "stdout",
     "output_type": "stream",
     "text": [
      "batch: 15\n",
      "forward pass\n",
      "backward pass\n",
      "update\n",
      "update loss\n"
     ]
    },
    {
     "name": "stderr",
     "output_type": "stream",
     "text": [
      "INFO:root:Epoch[0] Batch [15]\tSpeed: 5.297176 samples/sec\ttop1-err=0.837500\ttop5-err=0.403125\n"
     ]
    },
    {
     "name": "stdout",
     "output_type": "stream",
     "text": [
      "batch: 16\n",
      "forward pass\n",
      "backward pass\n",
      "update\n",
      "update loss\n"
     ]
    },
    {
     "name": "stderr",
     "output_type": "stream",
     "text": [
      "INFO:root:Epoch[0] Batch [16]\tSpeed: 5.173068 samples/sec\ttop1-err=0.844118\ttop5-err=0.411765\n"
     ]
    },
    {
     "name": "stdout",
     "output_type": "stream",
     "text": [
      "batch: 17\n",
      "forward pass\n",
      "backward pass\n",
      "update\n",
      "update loss\n"
     ]
    },
    {
     "name": "stderr",
     "output_type": "stream",
     "text": [
      "INFO:root:Epoch[0] Batch [17]\tSpeed: 5.097279 samples/sec\ttop1-err=0.847222\ttop5-err=0.405556\n"
     ]
    },
    {
     "name": "stdout",
     "output_type": "stream",
     "text": [
      "batch: 18\n",
      "forward pass\n",
      "backward pass\n",
      "update\n",
      "update loss\n"
     ]
    },
    {
     "name": "stderr",
     "output_type": "stream",
     "text": [
      "INFO:root:Epoch[0] Batch [18]\tSpeed: 4.909553 samples/sec\ttop1-err=0.847368\ttop5-err=0.407895\n"
     ]
    },
    {
     "name": "stdout",
     "output_type": "stream",
     "text": [
      "batch: 19\n",
      "forward pass\n",
      "backward pass\n",
      "update\n",
      "update loss\n"
     ]
    },
    {
     "name": "stderr",
     "output_type": "stream",
     "text": [
      "INFO:root:Epoch[0] Batch [19]\tSpeed: 4.954603 samples/sec\ttop1-err=0.852500\ttop5-err=0.410000\n"
     ]
    },
    {
     "name": "stdout",
     "output_type": "stream",
     "text": [
      "batch: 20\n",
      "forward pass\n",
      "backward pass\n",
      "update\n",
      "update loss\n"
     ]
    },
    {
     "name": "stderr",
     "output_type": "stream",
     "text": [
      "INFO:root:Epoch[0] Batch [20]\tSpeed: 5.016738 samples/sec\ttop1-err=0.854762\ttop5-err=0.404762\n"
     ]
    },
    {
     "name": "stdout",
     "output_type": "stream",
     "text": [
      "batch: 21\n",
      "forward pass\n",
      "backward pass\n",
      "update\n",
      "update loss\n"
     ]
    },
    {
     "name": "stderr",
     "output_type": "stream",
     "text": [
      "INFO:root:Epoch[0] Batch [21]\tSpeed: 5.460812 samples/sec\ttop1-err=0.856818\ttop5-err=0.404545\n"
     ]
    },
    {
     "name": "stdout",
     "output_type": "stream",
     "text": [
      "batch: 22\n",
      "forward pass\n",
      "backward pass\n",
      "update\n",
      "update loss\n"
     ]
    },
    {
     "name": "stderr",
     "output_type": "stream",
     "text": [
      "INFO:root:Epoch[0] Batch [22]\tSpeed: 5.151016 samples/sec\ttop1-err=0.863043\ttop5-err=0.413043\n"
     ]
    },
    {
     "name": "stdout",
     "output_type": "stream",
     "text": [
      "batch: 23\n",
      "forward pass\n",
      "backward pass\n",
      "update\n",
      "update loss\n"
     ]
    },
    {
     "name": "stderr",
     "output_type": "stream",
     "text": [
      "INFO:root:Epoch[0] Batch [23]\tSpeed: 4.821672 samples/sec\ttop1-err=0.864583\ttop5-err=0.412500\n"
     ]
    },
    {
     "name": "stdout",
     "output_type": "stream",
     "text": [
      "batch: 24\n",
      "forward pass\n",
      "backward pass\n",
      "update\n",
      "update loss\n"
     ]
    },
    {
     "name": "stderr",
     "output_type": "stream",
     "text": [
      "INFO:root:Epoch[0] Batch [24]\tSpeed: 5.123209 samples/sec\ttop1-err=0.864000\ttop5-err=0.412000\n"
     ]
    },
    {
     "name": "stdout",
     "output_type": "stream",
     "text": [
      "batch: 25\n",
      "forward pass\n",
      "backward pass\n",
      "update\n",
      "update loss\n"
     ]
    },
    {
     "name": "stderr",
     "output_type": "stream",
     "text": [
      "INFO:root:Epoch[0] Batch [25]\tSpeed: 4.928271 samples/sec\ttop1-err=0.867308\ttop5-err=0.411538\n"
     ]
    },
    {
     "name": "stdout",
     "output_type": "stream",
     "text": [
      "batch: 26\n",
      "forward pass\n",
      "backward pass\n",
      "update\n",
      "update loss\n"
     ]
    },
    {
     "name": "stderr",
     "output_type": "stream",
     "text": [
      "INFO:root:Epoch[0] Batch [26]\tSpeed: 4.640025 samples/sec\ttop1-err=0.864815\ttop5-err=0.407407\n"
     ]
    },
    {
     "name": "stdout",
     "output_type": "stream",
     "text": [
      "batch: 27\n",
      "forward pass\n",
      "backward pass\n",
      "update\n",
      "update loss\n"
     ]
    },
    {
     "name": "stderr",
     "output_type": "stream",
     "text": [
      "INFO:root:Epoch[0] Batch [27]\tSpeed: 4.302321 samples/sec\ttop1-err=0.866071\ttop5-err=0.403571\n"
     ]
    },
    {
     "name": "stdout",
     "output_type": "stream",
     "text": [
      "batch: 28\n",
      "forward pass\n",
      "backward pass\n",
      "update\n",
      "update loss\n"
     ]
    },
    {
     "name": "stderr",
     "output_type": "stream",
     "text": [
      "INFO:root:Epoch[0] Batch [28]\tSpeed: 4.532249 samples/sec\ttop1-err=0.868966\ttop5-err=0.401724\n"
     ]
    },
    {
     "name": "stdout",
     "output_type": "stream",
     "text": [
      "batch: 29\n",
      "forward pass\n",
      "backward pass\n",
      "update\n",
      "update loss\n"
     ]
    },
    {
     "name": "stderr",
     "output_type": "stream",
     "text": [
      "INFO:root:Epoch[0] Batch [29]\tSpeed: 3.887085 samples/sec\ttop1-err=0.868333\ttop5-err=0.400000\n"
     ]
    },
    {
     "name": "stdout",
     "output_type": "stream",
     "text": [
      "batch: 30\n",
      "forward pass\n",
      "backward pass\n",
      "update\n",
      "update loss\n"
     ]
    },
    {
     "name": "stderr",
     "output_type": "stream",
     "text": [
      "INFO:root:Epoch[0] Batch [30]\tSpeed: 4.523198 samples/sec\ttop1-err=0.870968\ttop5-err=0.401613\n"
     ]
    },
    {
     "name": "stdout",
     "output_type": "stream",
     "text": [
      "batch: 31\n",
      "forward pass\n",
      "backward pass\n",
      "update\n",
      "update loss\n"
     ]
    },
    {
     "name": "stderr",
     "output_type": "stream",
     "text": [
      "INFO:root:Epoch[0] Batch [31]\tSpeed: 4.759204 samples/sec\ttop1-err=0.870313\ttop5-err=0.404687\n"
     ]
    },
    {
     "name": "stdout",
     "output_type": "stream",
     "text": [
      "batch: 32\n",
      "forward pass\n",
      "backward pass\n",
      "update\n",
      "update loss\n"
     ]
    },
    {
     "name": "stderr",
     "output_type": "stream",
     "text": [
      "INFO:root:Epoch[0] Batch [32]\tSpeed: 4.641793 samples/sec\ttop1-err=0.868182\ttop5-err=0.406061\n"
     ]
    },
    {
     "name": "stdout",
     "output_type": "stream",
     "text": [
      "batch: 33\n",
      "forward pass\n",
      "backward pass\n",
      "update\n",
      "update loss\n"
     ]
    },
    {
     "name": "stderr",
     "output_type": "stream",
     "text": [
      "INFO:root:Epoch[0] Batch [33]\tSpeed: 4.498050 samples/sec\ttop1-err=0.861765\ttop5-err=0.402941\n"
     ]
    },
    {
     "name": "stdout",
     "output_type": "stream",
     "text": [
      "batch: 34\n",
      "forward pass\n",
      "backward pass\n",
      "update\n",
      "update loss\n"
     ]
    },
    {
     "name": "stderr",
     "output_type": "stream",
     "text": [
      "INFO:root:Epoch[0] Batch [34]\tSpeed: 4.148216 samples/sec\ttop1-err=0.860000\ttop5-err=0.397143\n"
     ]
    },
    {
     "name": "stdout",
     "output_type": "stream",
     "text": [
      "batch: 35\n",
      "forward pass\n",
      "backward pass\n",
      "update\n",
      "update loss\n"
     ]
    },
    {
     "name": "stderr",
     "output_type": "stream",
     "text": [
      "INFO:root:Epoch[0] Batch [35]\tSpeed: 4.383781 samples/sec\ttop1-err=0.861111\ttop5-err=0.394444\n"
     ]
    },
    {
     "name": "stdout",
     "output_type": "stream",
     "text": [
      "batch: 36\n",
      "forward pass\n",
      "backward pass\n",
      "update\n",
      "update loss\n"
     ]
    },
    {
     "name": "stderr",
     "output_type": "stream",
     "text": [
      "INFO:root:Epoch[0] Batch [36]\tSpeed: 4.152014 samples/sec\ttop1-err=0.862162\ttop5-err=0.391892\n"
     ]
    },
    {
     "name": "stdout",
     "output_type": "stream",
     "text": [
      "batch: 37\n",
      "forward pass\n",
      "backward pass\n",
      "update\n",
      "update loss\n"
     ]
    },
    {
     "name": "stderr",
     "output_type": "stream",
     "text": [
      "INFO:root:Epoch[0] Batch [37]\tSpeed: 4.679066 samples/sec\ttop1-err=0.864474\ttop5-err=0.394737\n"
     ]
    },
    {
     "name": "stdout",
     "output_type": "stream",
     "text": [
      "batch: 38\n",
      "forward pass\n",
      "backward pass\n",
      "update\n",
      "update loss\n"
     ]
    },
    {
     "name": "stderr",
     "output_type": "stream",
     "text": [
      "INFO:root:Epoch[0] Batch [38]\tSpeed: 4.727843 samples/sec\ttop1-err=0.865385\ttop5-err=0.397436\n"
     ]
    },
    {
     "name": "stdout",
     "output_type": "stream",
     "text": [
      "batch: 39\n",
      "forward pass\n",
      "backward pass\n",
      "update\n",
      "update loss\n"
     ]
    },
    {
     "name": "stderr",
     "output_type": "stream",
     "text": [
      "INFO:root:Epoch[0] Batch [39]\tSpeed: 4.664229 samples/sec\ttop1-err=0.863750\ttop5-err=0.393750\n"
     ]
    },
    {
     "name": "stdout",
     "output_type": "stream",
     "text": [
      "batch: 40\n",
      "forward pass\n",
      "backward pass\n",
      "update\n",
      "update loss\n"
     ]
    },
    {
     "name": "stderr",
     "output_type": "stream",
     "text": [
      "INFO:root:Epoch[0] Batch [40]\tSpeed: 1.849712 samples/sec\ttop1-err=0.862195\ttop5-err=0.389024\n"
     ]
    },
    {
     "name": "stdout",
     "output_type": "stream",
     "text": [
      "batch: 41\n",
      "forward pass\n",
      "backward pass\n",
      "update\n",
      "update loss\n"
     ]
    },
    {
     "name": "stderr",
     "output_type": "stream",
     "text": [
      "INFO:root:Epoch[0] Batch [41]\tSpeed: 4.854110 samples/sec\ttop1-err=0.860714\ttop5-err=0.388095\n"
     ]
    },
    {
     "name": "stdout",
     "output_type": "stream",
     "text": [
      "batch: 42\n",
      "forward pass\n",
      "backward pass\n",
      "update\n",
      "update loss\n"
     ]
    },
    {
     "name": "stderr",
     "output_type": "stream",
     "text": [
      "INFO:root:Epoch[0] Batch [42]\tSpeed: 4.711705 samples/sec\ttop1-err=0.861628\ttop5-err=0.386047\n"
     ]
    },
    {
     "name": "stdout",
     "output_type": "stream",
     "text": [
      "batch: 43\n",
      "forward pass\n",
      "backward pass\n",
      "update\n",
      "update loss\n"
     ]
    },
    {
     "name": "stderr",
     "output_type": "stream",
     "text": [
      "INFO:root:Epoch[0] Batch [43]\tSpeed: 4.827230 samples/sec\ttop1-err=0.861364\ttop5-err=0.379545\n"
     ]
    },
    {
     "name": "stdout",
     "output_type": "stream",
     "text": [
      "batch: 44\n",
      "forward pass\n",
      "backward pass\n",
      "update\n",
      "update loss\n"
     ]
    },
    {
     "name": "stderr",
     "output_type": "stream",
     "text": [
      "INFO:root:Epoch[0] Batch [44]\tSpeed: 4.815445 samples/sec\ttop1-err=0.860000\ttop5-err=0.376667\n"
     ]
    },
    {
     "name": "stdout",
     "output_type": "stream",
     "text": [
      "batch: 45\n",
      "forward pass\n",
      "backward pass\n",
      "update\n",
      "update loss\n"
     ]
    },
    {
     "name": "stderr",
     "output_type": "stream",
     "text": [
      "INFO:root:Epoch[0] Batch [45]\tSpeed: 4.754408 samples/sec\ttop1-err=0.861957\ttop5-err=0.376087\n"
     ]
    },
    {
     "name": "stdout",
     "output_type": "stream",
     "text": [
      "batch: 46\n",
      "forward pass\n",
      "backward pass\n",
      "update\n",
      "update loss\n"
     ]
    },
    {
     "name": "stderr",
     "output_type": "stream",
     "text": [
      "INFO:root:Epoch[0] Batch [46]\tSpeed: 4.813057 samples/sec\ttop1-err=0.862766\ttop5-err=0.372340\n"
     ]
    },
    {
     "name": "stdout",
     "output_type": "stream",
     "text": [
      "batch: 47\n",
      "forward pass\n",
      "backward pass\n",
      "update\n",
      "update loss\n"
     ]
    },
    {
     "name": "stderr",
     "output_type": "stream",
     "text": [
      "INFO:root:Epoch[0] Batch [47]\tSpeed: 4.748944 samples/sec\ttop1-err=0.861458\ttop5-err=0.371875\n"
     ]
    },
    {
     "name": "stdout",
     "output_type": "stream",
     "text": [
      "batch: 48\n",
      "forward pass\n",
      "backward pass\n",
      "update\n",
      "update loss\n"
     ]
    },
    {
     "name": "stderr",
     "output_type": "stream",
     "text": [
      "INFO:root:Epoch[0] Batch [48]\tSpeed: 4.666805 samples/sec\ttop1-err=0.864286\ttop5-err=0.373469\n"
     ]
    },
    {
     "name": "stdout",
     "output_type": "stream",
     "text": [
      "batch: 49\n",
      "forward pass\n",
      "backward pass\n",
      "update\n",
      "update loss\n"
     ]
    },
    {
     "name": "stderr",
     "output_type": "stream",
     "text": [
      "INFO:root:Epoch[0] Batch [49]\tSpeed: 4.731457 samples/sec\ttop1-err=0.864000\ttop5-err=0.374000\n"
     ]
    },
    {
     "name": "stdout",
     "output_type": "stream",
     "text": [
      "batch: 50\n",
      "forward pass\n",
      "backward pass\n",
      "update\n",
      "update loss\n"
     ]
    },
    {
     "name": "stderr",
     "output_type": "stream",
     "text": [
      "INFO:root:Epoch[0] Batch [50]\tSpeed: 4.795073 samples/sec\ttop1-err=0.863725\ttop5-err=0.371569\n"
     ]
    },
    {
     "name": "stdout",
     "output_type": "stream",
     "text": [
      "batch: 51\n",
      "forward pass\n",
      "backward pass\n",
      "update\n",
      "update loss\n"
     ]
    },
    {
     "name": "stderr",
     "output_type": "stream",
     "text": [
      "INFO:root:Epoch[0] Batch [51]\tSpeed: 4.728837 samples/sec\ttop1-err=0.864423\ttop5-err=0.371154\n"
     ]
    },
    {
     "name": "stdout",
     "output_type": "stream",
     "text": [
      "batch: 52\n",
      "forward pass\n",
      "backward pass\n",
      "update\n",
      "update loss\n"
     ]
    },
    {
     "name": "stderr",
     "output_type": "stream",
     "text": [
      "INFO:root:Epoch[0] Batch [52]\tSpeed: 4.689326 samples/sec\ttop1-err=0.865094\ttop5-err=0.373585\n"
     ]
    },
    {
     "name": "stdout",
     "output_type": "stream",
     "text": [
      "batch: 53\n",
      "forward pass\n",
      "backward pass\n",
      "update\n",
      "update loss\n"
     ]
    },
    {
     "name": "stderr",
     "output_type": "stream",
     "text": [
      "INFO:root:Epoch[0] Batch [53]\tSpeed: 4.715695 samples/sec\ttop1-err=0.866667\ttop5-err=0.375000\n"
     ]
    },
    {
     "name": "stdout",
     "output_type": "stream",
     "text": [
      "batch: 54\n",
      "forward pass\n",
      "backward pass\n",
      "update\n",
      "update loss\n"
     ]
    },
    {
     "name": "stderr",
     "output_type": "stream",
     "text": [
      "INFO:root:Epoch[0] Batch [54]\tSpeed: 4.670074 samples/sec\ttop1-err=0.868182\ttop5-err=0.376364\n"
     ]
    },
    {
     "name": "stdout",
     "output_type": "stream",
     "text": [
      "batch: 55\n",
      "forward pass\n",
      "backward pass\n",
      "update\n",
      "update loss\n"
     ]
    },
    {
     "name": "stderr",
     "output_type": "stream",
     "text": [
      "INFO:root:Epoch[0] Batch [55]\tSpeed: 4.637163 samples/sec\ttop1-err=0.868750\ttop5-err=0.376786\n"
     ]
    },
    {
     "name": "stdout",
     "output_type": "stream",
     "text": [
      "batch: 56\n",
      "forward pass\n",
      "backward pass\n",
      "update\n",
      "update loss\n"
     ]
    },
    {
     "name": "stderr",
     "output_type": "stream",
     "text": [
      "INFO:root:Epoch[0] Batch [56]\tSpeed: 1.997443 samples/sec\ttop1-err=0.869298\ttop5-err=0.375439\n"
     ]
    },
    {
     "name": "stdout",
     "output_type": "stream",
     "text": [
      "batch: 57\n",
      "forward pass\n",
      "backward pass\n",
      "update\n",
      "update loss\n"
     ]
    },
    {
     "name": "stderr",
     "output_type": "stream",
     "text": [
      "INFO:root:Epoch[0] Batch [57]\tSpeed: 4.901266 samples/sec\ttop1-err=0.869828\ttop5-err=0.375000\n"
     ]
    },
    {
     "name": "stdout",
     "output_type": "stream",
     "text": [
      "batch: 58\n",
      "forward pass\n",
      "backward pass\n",
      "update\n",
      "update loss\n"
     ]
    },
    {
     "name": "stderr",
     "output_type": "stream",
     "text": [
      "INFO:root:Epoch[0] Batch [58]\tSpeed: 4.861813 samples/sec\ttop1-err=0.868644\ttop5-err=0.372881\n"
     ]
    },
    {
     "name": "stdout",
     "output_type": "stream",
     "text": [
      "batch: 59\n",
      "forward pass\n",
      "backward pass\n",
      "update\n",
      "update loss\n"
     ]
    },
    {
     "name": "stderr",
     "output_type": "stream",
     "text": [
      "INFO:root:Epoch[0] Batch [59]\tSpeed: 4.773902 samples/sec\ttop1-err=0.868333\ttop5-err=0.369167\n"
     ]
    },
    {
     "name": "stdout",
     "output_type": "stream",
     "text": [
      "batch: 60\n",
      "forward pass\n",
      "backward pass\n",
      "update\n",
      "update loss\n"
     ]
    },
    {
     "name": "stderr",
     "output_type": "stream",
     "text": [
      "INFO:root:Epoch[0] Batch [60]\tSpeed: 4.636560 samples/sec\ttop1-err=0.864754\ttop5-err=0.366393\n"
     ]
    },
    {
     "name": "stdout",
     "output_type": "stream",
     "text": [
      "batch: 61\n",
      "forward pass\n",
      "backward pass\n",
      "update\n",
      "update loss\n"
     ]
    },
    {
     "name": "stderr",
     "output_type": "stream",
     "text": [
      "INFO:root:Epoch[0] Batch [61]\tSpeed: 4.701768 samples/sec\ttop1-err=0.863710\ttop5-err=0.363710\n"
     ]
    },
    {
     "name": "stdout",
     "output_type": "stream",
     "text": [
      "batch: 62\n",
      "forward pass\n",
      "backward pass\n",
      "update\n",
      "update loss\n"
     ]
    },
    {
     "name": "stderr",
     "output_type": "stream",
     "text": [
      "INFO:root:Epoch[0] Batch [62]\tSpeed: 4.844086 samples/sec\ttop1-err=0.861905\ttop5-err=0.362698\n"
     ]
    },
    {
     "name": "stdout",
     "output_type": "stream",
     "text": [
      "batch: 63\n",
      "forward pass\n",
      "backward pass\n",
      "update\n",
      "update loss\n"
     ]
    },
    {
     "name": "stderr",
     "output_type": "stream",
     "text": [
      "INFO:root:Epoch[0] Batch [63]\tSpeed: 4.706201 samples/sec\ttop1-err=0.858594\ttop5-err=0.360156\n"
     ]
    },
    {
     "name": "stdout",
     "output_type": "stream",
     "text": [
      "batch: 64\n",
      "forward pass\n",
      "backward pass\n",
      "update\n",
      "update loss\n"
     ]
    },
    {
     "name": "stderr",
     "output_type": "stream",
     "text": [
      "INFO:root:Epoch[0] Batch [64]\tSpeed: 4.665012 samples/sec\ttop1-err=0.858462\ttop5-err=0.361538\n"
     ]
    },
    {
     "name": "stdout",
     "output_type": "stream",
     "text": [
      "batch: 65\n",
      "forward pass\n",
      "backward pass\n",
      "update\n",
      "update loss\n"
     ]
    },
    {
     "name": "stderr",
     "output_type": "stream",
     "text": [
      "INFO:root:Epoch[0] Batch [65]\tSpeed: 4.684389 samples/sec\ttop1-err=0.859091\ttop5-err=0.362121\n"
     ]
    },
    {
     "name": "stdout",
     "output_type": "stream",
     "text": [
      "batch: 66\n",
      "forward pass\n",
      "backward pass\n",
      "update\n",
      "update loss\n"
     ]
    },
    {
     "name": "stderr",
     "output_type": "stream",
     "text": [
      "INFO:root:Epoch[0] Batch [66]\tSpeed: 4.640381 samples/sec\ttop1-err=0.858955\ttop5-err=0.361194\n"
     ]
    },
    {
     "name": "stdout",
     "output_type": "stream",
     "text": [
      "batch: 67\n",
      "forward pass\n",
      "backward pass\n",
      "update\n",
      "update loss\n"
     ]
    },
    {
     "name": "stderr",
     "output_type": "stream",
     "text": [
      "INFO:root:Epoch[0] Batch [67]\tSpeed: 1.639739 samples/sec\ttop1-err=0.860294\ttop5-err=0.363971\n"
     ]
    },
    {
     "name": "stdout",
     "output_type": "stream",
     "text": [
      "batch: 68\n",
      "forward pass\n",
      "backward pass\n",
      "update\n",
      "update loss\n"
     ]
    },
    {
     "name": "stderr",
     "output_type": "stream",
     "text": [
      "INFO:root:Epoch[0] Batch [68]\tSpeed: 4.294376 samples/sec\ttop1-err=0.859420\ttop5-err=0.363768\n"
     ]
    },
    {
     "name": "stdout",
     "output_type": "stream",
     "text": [
      "batch: 69\n",
      "forward pass\n",
      "backward pass\n",
      "update\n",
      "update loss\n"
     ]
    },
    {
     "name": "stderr",
     "output_type": "stream",
     "text": [
      "INFO:root:Epoch[0] Batch [69]\tSpeed: 4.250891 samples/sec\ttop1-err=0.858571\ttop5-err=0.363571\n"
     ]
    },
    {
     "name": "stdout",
     "output_type": "stream",
     "text": [
      "batch: 70\n",
      "forward pass\n",
      "backward pass\n",
      "update\n",
      "update loss\n"
     ]
    },
    {
     "name": "stderr",
     "output_type": "stream",
     "text": [
      "INFO:root:Epoch[0] Batch [70]\tSpeed: 4.521578 samples/sec\ttop1-err=0.858451\ttop5-err=0.364085\n"
     ]
    },
    {
     "name": "stdout",
     "output_type": "stream",
     "text": [
      "batch: 71\n",
      "forward pass\n",
      "backward pass\n",
      "update\n",
      "update loss\n"
     ]
    },
    {
     "name": "stderr",
     "output_type": "stream",
     "text": [
      "INFO:root:Epoch[0] Batch [71]\tSpeed: 4.703198 samples/sec\ttop1-err=0.859028\ttop5-err=0.361111\n"
     ]
    },
    {
     "name": "stdout",
     "output_type": "stream",
     "text": [
      "batch: 72\n",
      "forward pass\n",
      "backward pass\n",
      "update\n",
      "update loss\n"
     ]
    },
    {
     "name": "stderr",
     "output_type": "stream",
     "text": [
      "INFO:root:Epoch[0] Batch [72]\tSpeed: 4.496396 samples/sec\ttop1-err=0.858904\ttop5-err=0.360274\n"
     ]
    },
    {
     "name": "stdout",
     "output_type": "stream",
     "text": [
      "batch: 73\n",
      "forward pass\n",
      "backward pass\n",
      "update\n",
      "update loss\n"
     ]
    },
    {
     "name": "stderr",
     "output_type": "stream",
     "text": [
      "INFO:root:Epoch[0] Batch [73]\tSpeed: 4.698703 samples/sec\ttop1-err=0.858784\ttop5-err=0.360135\n"
     ]
    },
    {
     "name": "stdout",
     "output_type": "stream",
     "text": [
      "batch: 74\n",
      "forward pass\n",
      "backward pass\n",
      "update\n",
      "update loss\n"
     ]
    },
    {
     "name": "stderr",
     "output_type": "stream",
     "text": [
      "INFO:root:Epoch[0] Batch [74]\tSpeed: 4.656575 samples/sec\ttop1-err=0.857333\ttop5-err=0.358667\n",
      "INFO:root:[Epoch 0] training: err-top1=0.857333 err-top5=0.358667 loss=3.261408\n",
      "INFO:root:[Epoch 0] time cost: 367.147962\n",
      "INFO:root:[Epoch 0] validation: err-top1=0.802500 err-top5=0.305000\n"
     ]
    },
    {
     "name": "stdout",
     "output_type": "stream",
     "text": [
      "start epoch 1\n",
      "will do 75 batches\n",
      "set learning rate\n",
      "batch: 0\n",
      "forward pass\n",
      "backward pass\n",
      "update\n",
      "update loss\n"
     ]
    },
    {
     "name": "stderr",
     "output_type": "stream",
     "text": [
      "INFO:root:Epoch[1] Batch [0]\tSpeed: 2.477629 samples/sec\ttop1-err=0.900000\ttop5-err=0.200000\n"
     ]
    },
    {
     "name": "stdout",
     "output_type": "stream",
     "text": [
      "batch: 1\n",
      "forward pass\n",
      "backward pass\n",
      "update\n",
      "update loss\n"
     ]
    },
    {
     "name": "stderr",
     "output_type": "stream",
     "text": [
      "INFO:root:Epoch[1] Batch [1]\tSpeed: 2.201568 samples/sec\ttop1-err=0.900000\ttop5-err=0.250000\n"
     ]
    },
    {
     "name": "stdout",
     "output_type": "stream",
     "text": [
      "batch: 2\n",
      "forward pass\n",
      "backward pass\n",
      "update\n",
      "update loss\n"
     ]
    },
    {
     "name": "stderr",
     "output_type": "stream",
     "text": [
      "INFO:root:Epoch[1] Batch [2]\tSpeed: 4.798941 samples/sec\ttop1-err=0.883333\ttop5-err=0.216667\n"
     ]
    },
    {
     "name": "stdout",
     "output_type": "stream",
     "text": [
      "batch: 3\n",
      "forward pass\n",
      "backward pass\n",
      "update\n",
      "update loss\n"
     ]
    },
    {
     "name": "stderr",
     "output_type": "stream",
     "text": [
      "INFO:root:Epoch[1] Batch [3]\tSpeed: 4.806423 samples/sec\ttop1-err=0.887500\ttop5-err=0.212500\n"
     ]
    },
    {
     "name": "stdout",
     "output_type": "stream",
     "text": [
      "batch: 4\n",
      "forward pass\n",
      "backward pass\n",
      "update\n",
      "update loss\n"
     ]
    },
    {
     "name": "stderr",
     "output_type": "stream",
     "text": [
      "INFO:root:Epoch[1] Batch [4]\tSpeed: 4.804354 samples/sec\ttop1-err=0.840000\ttop5-err=0.220000\n"
     ]
    },
    {
     "name": "stdout",
     "output_type": "stream",
     "text": [
      "batch: 5\n",
      "forward pass\n",
      "backward pass\n",
      "update\n",
      "update loss\n"
     ]
    },
    {
     "name": "stderr",
     "output_type": "stream",
     "text": [
      "INFO:root:Epoch[1] Batch [5]\tSpeed: 4.747451 samples/sec\ttop1-err=0.808333\ttop5-err=0.208333\n"
     ]
    },
    {
     "name": "stdout",
     "output_type": "stream",
     "text": [
      "batch: 6\n",
      "forward pass\n",
      "backward pass\n",
      "update\n",
      "update loss\n"
     ]
    },
    {
     "name": "stderr",
     "output_type": "stream",
     "text": [
      "INFO:root:Epoch[1] Batch [6]\tSpeed: 4.747682 samples/sec\ttop1-err=0.792857\ttop5-err=0.221429\n"
     ]
    },
    {
     "name": "stdout",
     "output_type": "stream",
     "text": [
      "batch: 7\n",
      "forward pass\n",
      "backward pass\n",
      "update\n",
      "update loss\n"
     ]
    },
    {
     "name": "stderr",
     "output_type": "stream",
     "text": [
      "INFO:root:Epoch[1] Batch [7]\tSpeed: 4.696922 samples/sec\ttop1-err=0.775000\ttop5-err=0.218750\n"
     ]
    },
    {
     "name": "stdout",
     "output_type": "stream",
     "text": [
      "batch: 8\n",
      "forward pass\n",
      "backward pass\n",
      "update\n",
      "update loss\n"
     ]
    },
    {
     "name": "stderr",
     "output_type": "stream",
     "text": [
      "INFO:root:Epoch[1] Batch [8]\tSpeed: 4.734673 samples/sec\ttop1-err=0.788889\ttop5-err=0.227778\n"
     ]
    },
    {
     "name": "stdout",
     "output_type": "stream",
     "text": [
      "batch: 9\n",
      "forward pass\n",
      "backward pass\n",
      "update\n",
      "update loss\n"
     ]
    },
    {
     "name": "stderr",
     "output_type": "stream",
     "text": [
      "INFO:root:Epoch[1] Batch [9]\tSpeed: 4.696995 samples/sec\ttop1-err=0.775000\ttop5-err=0.225000\n"
     ]
    },
    {
     "name": "stdout",
     "output_type": "stream",
     "text": [
      "batch: 10\n",
      "forward pass\n",
      "backward pass\n",
      "update\n",
      "update loss\n"
     ]
    },
    {
     "name": "stderr",
     "output_type": "stream",
     "text": [
      "INFO:root:Epoch[1] Batch [10]\tSpeed: 4.757820 samples/sec\ttop1-err=0.777273\ttop5-err=0.236364\n"
     ]
    },
    {
     "name": "stdout",
     "output_type": "stream",
     "text": [
      "batch: 11\n",
      "forward pass\n",
      "backward pass\n",
      "update\n",
      "update loss\n"
     ]
    },
    {
     "name": "stderr",
     "output_type": "stream",
     "text": [
      "INFO:root:Epoch[1] Batch [11]\tSpeed: 4.757907 samples/sec\ttop1-err=0.791667\ttop5-err=0.241667\n"
     ]
    },
    {
     "name": "stdout",
     "output_type": "stream",
     "text": [
      "batch: 12\n",
      "forward pass\n",
      "backward pass\n",
      "update\n",
      "update loss\n"
     ]
    },
    {
     "name": "stderr",
     "output_type": "stream",
     "text": [
      "INFO:root:Epoch[1] Batch [12]\tSpeed: 4.681787 samples/sec\ttop1-err=0.788462\ttop5-err=0.246154\n"
     ]
    },
    {
     "name": "stdout",
     "output_type": "stream",
     "text": [
      "batch: 13\n",
      "forward pass\n",
      "backward pass\n",
      "update\n",
      "update loss\n"
     ]
    },
    {
     "name": "stderr",
     "output_type": "stream",
     "text": [
      "INFO:root:Epoch[1] Batch [13]\tSpeed: 4.725784 samples/sec\ttop1-err=0.800000\ttop5-err=0.260714\n"
     ]
    },
    {
     "name": "stdout",
     "output_type": "stream",
     "text": [
      "batch: 14\n",
      "forward pass\n",
      "backward pass\n",
      "update\n",
      "update loss\n"
     ]
    },
    {
     "name": "stderr",
     "output_type": "stream",
     "text": [
      "INFO:root:Epoch[1] Batch [14]\tSpeed: 2.276019 samples/sec\ttop1-err=0.803333\ttop5-err=0.266667\n"
     ]
    },
    {
     "name": "stdout",
     "output_type": "stream",
     "text": [
      "batch: 15\n",
      "forward pass\n",
      "backward pass\n",
      "update\n",
      "update loss\n"
     ]
    },
    {
     "name": "stderr",
     "output_type": "stream",
     "text": [
      "INFO:root:Epoch[1] Batch [15]\tSpeed: 3.202070 samples/sec\ttop1-err=0.803125\ttop5-err=0.265625\n"
     ]
    },
    {
     "name": "stdout",
     "output_type": "stream",
     "text": [
      "batch: 16\n",
      "forward pass\n",
      "backward pass\n",
      "update\n",
      "update loss\n"
     ]
    },
    {
     "name": "stderr",
     "output_type": "stream",
     "text": [
      "INFO:root:Epoch[1] Batch [16]\tSpeed: 4.836866 samples/sec\ttop1-err=0.805882\ttop5-err=0.258824\n"
     ]
    },
    {
     "name": "stdout",
     "output_type": "stream",
     "text": [
      "batch: 17\n",
      "forward pass\n",
      "backward pass\n",
      "update\n",
      "update loss\n"
     ]
    },
    {
     "name": "stderr",
     "output_type": "stream",
     "text": [
      "INFO:root:Epoch[1] Batch [17]\tSpeed: 4.745300 samples/sec\ttop1-err=0.808333\ttop5-err=0.275000\n"
     ]
    },
    {
     "name": "stdout",
     "output_type": "stream",
     "text": [
      "batch: 18\n",
      "forward pass\n",
      "backward pass\n",
      "update\n",
      "update loss\n"
     ]
    },
    {
     "name": "stderr",
     "output_type": "stream",
     "text": [
      "INFO:root:Epoch[1] Batch [18]\tSpeed: 4.807394 samples/sec\ttop1-err=0.807895\ttop5-err=0.278947\n"
     ]
    },
    {
     "name": "stdout",
     "output_type": "stream",
     "text": [
      "batch: 19\n",
      "forward pass\n",
      "backward pass\n",
      "update\n",
      "update loss\n"
     ]
    },
    {
     "name": "stderr",
     "output_type": "stream",
     "text": [
      "INFO:root:Epoch[1] Batch [19]\tSpeed: 4.748872 samples/sec\ttop1-err=0.807500\ttop5-err=0.277500\n"
     ]
    },
    {
     "name": "stdout",
     "output_type": "stream",
     "text": [
      "batch: 20\n",
      "forward pass\n",
      "backward pass\n",
      "update\n",
      "update loss\n"
     ]
    },
    {
     "name": "stderr",
     "output_type": "stream",
     "text": [
      "INFO:root:Epoch[1] Batch [20]\tSpeed: 4.722247 samples/sec\ttop1-err=0.804762\ttop5-err=0.280952\n"
     ]
    },
    {
     "name": "stdout",
     "output_type": "stream",
     "text": [
      "batch: 21\n",
      "forward pass\n",
      "backward pass\n",
      "update\n",
      "update loss\n"
     ]
    },
    {
     "name": "stderr",
     "output_type": "stream",
     "text": [
      "INFO:root:Epoch[1] Batch [21]\tSpeed: 4.599003 samples/sec\ttop1-err=0.802273\ttop5-err=0.286364\n"
     ]
    },
    {
     "name": "stdout",
     "output_type": "stream",
     "text": [
      "batch: 22\n",
      "forward pass\n",
      "backward pass\n",
      "update\n",
      "update loss\n"
     ]
    },
    {
     "name": "stderr",
     "output_type": "stream",
     "text": [
      "INFO:root:Epoch[1] Batch [22]\tSpeed: 4.649598 samples/sec\ttop1-err=0.804348\ttop5-err=0.284783\n"
     ]
    },
    {
     "name": "stdout",
     "output_type": "stream",
     "text": [
      "batch: 23\n",
      "forward pass\n",
      "backward pass\n",
      "update\n",
      "update loss\n"
     ]
    },
    {
     "name": "stderr",
     "output_type": "stream",
     "text": [
      "INFO:root:Epoch[1] Batch [23]\tSpeed: 4.740413 samples/sec\ttop1-err=0.800000\ttop5-err=0.279167\n"
     ]
    },
    {
     "name": "stdout",
     "output_type": "stream",
     "text": [
      "batch: 24\n",
      "forward pass\n",
      "backward pass\n",
      "update\n",
      "update loss\n"
     ]
    },
    {
     "name": "stderr",
     "output_type": "stream",
     "text": [
      "INFO:root:Epoch[1] Batch [24]\tSpeed: 4.742021 samples/sec\ttop1-err=0.798000\ttop5-err=0.284000\n"
     ]
    },
    {
     "name": "stdout",
     "output_type": "stream",
     "text": [
      "batch: 25\n",
      "forward pass\n",
      "backward pass\n",
      "update\n",
      "update loss\n"
     ]
    },
    {
     "name": "stderr",
     "output_type": "stream",
     "text": [
      "INFO:root:Epoch[1] Batch [25]\tSpeed: 4.570882 samples/sec\ttop1-err=0.800000\ttop5-err=0.290385\n"
     ]
    },
    {
     "name": "stdout",
     "output_type": "stream",
     "text": [
      "batch: 26\n",
      "forward pass\n",
      "backward pass\n",
      "update\n",
      "update loss\n"
     ]
    },
    {
     "name": "stderr",
     "output_type": "stream",
     "text": [
      "INFO:root:Epoch[1] Batch [26]\tSpeed: 4.662321 samples/sec\ttop1-err=0.801852\ttop5-err=0.290741\n"
     ]
    },
    {
     "name": "stdout",
     "output_type": "stream",
     "text": [
      "batch: 27\n",
      "forward pass\n",
      "backward pass\n",
      "update\n",
      "update loss\n"
     ]
    },
    {
     "name": "stderr",
     "output_type": "stream",
     "text": [
      "INFO:root:Epoch[1] Batch [27]\tSpeed: 4.687190 samples/sec\ttop1-err=0.798214\ttop5-err=0.287500\n"
     ]
    },
    {
     "name": "stdout",
     "output_type": "stream",
     "text": [
      "batch: 28\n",
      "forward pass\n",
      "backward pass\n",
      "update\n",
      "update loss\n"
     ]
    },
    {
     "name": "stderr",
     "output_type": "stream",
     "text": [
      "INFO:root:Epoch[1] Batch [28]\tSpeed: 4.710533 samples/sec\ttop1-err=0.800000\ttop5-err=0.284483\n"
     ]
    },
    {
     "name": "stdout",
     "output_type": "stream",
     "text": [
      "batch: 29\n",
      "forward pass\n",
      "backward pass\n",
      "update\n",
      "update loss\n"
     ]
    },
    {
     "name": "stderr",
     "output_type": "stream",
     "text": [
      "INFO:root:Epoch[1] Batch [29]\tSpeed: 4.531302 samples/sec\ttop1-err=0.800000\ttop5-err=0.288333\n"
     ]
    },
    {
     "name": "stdout",
     "output_type": "stream",
     "text": [
      "batch: 30\n",
      "forward pass\n",
      "backward pass\n",
      "update\n",
      "update loss\n"
     ]
    },
    {
     "name": "stderr",
     "output_type": "stream",
     "text": [
      "INFO:root:Epoch[1] Batch [30]\tSpeed: 4.594930 samples/sec\ttop1-err=0.804839\ttop5-err=0.293548\n"
     ]
    },
    {
     "name": "stdout",
     "output_type": "stream",
     "text": [
      "batch: 31\n",
      "forward pass\n",
      "backward pass\n",
      "update\n",
      "update loss\n"
     ]
    },
    {
     "name": "stderr",
     "output_type": "stream",
     "text": [
      "INFO:root:Epoch[1] Batch [31]\tSpeed: 4.742113 samples/sec\ttop1-err=0.806250\ttop5-err=0.300000\n"
     ]
    },
    {
     "name": "stdout",
     "output_type": "stream",
     "text": [
      "batch: 32\n",
      "forward pass\n",
      "backward pass\n",
      "update\n",
      "update loss\n"
     ]
    },
    {
     "name": "stderr",
     "output_type": "stream",
     "text": [
      "INFO:root:Epoch[1] Batch [32]\tSpeed: 4.667934 samples/sec\ttop1-err=0.806061\ttop5-err=0.300000\n"
     ]
    },
    {
     "name": "stdout",
     "output_type": "stream",
     "text": [
      "batch: 33\n",
      "forward pass\n",
      "backward pass\n",
      "update\n",
      "update loss\n"
     ]
    },
    {
     "name": "stderr",
     "output_type": "stream",
     "text": [
      "INFO:root:Epoch[1] Batch [33]\tSpeed: 4.645669 samples/sec\ttop1-err=0.802941\ttop5-err=0.295588\n"
     ]
    },
    {
     "name": "stdout",
     "output_type": "stream",
     "text": [
      "batch: 34\n",
      "forward pass\n",
      "backward pass\n",
      "update\n",
      "update loss\n"
     ]
    },
    {
     "name": "stderr",
     "output_type": "stream",
     "text": [
      "INFO:root:Epoch[1] Batch [34]\tSpeed: 4.605988 samples/sec\ttop1-err=0.807143\ttop5-err=0.294286\n"
     ]
    },
    {
     "name": "stdout",
     "output_type": "stream",
     "text": [
      "batch: 35\n",
      "forward pass\n",
      "backward pass\n",
      "update\n",
      "update loss\n"
     ]
    },
    {
     "name": "stderr",
     "output_type": "stream",
     "text": [
      "INFO:root:Epoch[1] Batch [35]\tSpeed: 4.672992 samples/sec\ttop1-err=0.801389\ttop5-err=0.293056\n"
     ]
    },
    {
     "name": "stdout",
     "output_type": "stream",
     "text": [
      "batch: 36\n",
      "forward pass\n",
      "backward pass\n",
      "update\n",
      "update loss\n"
     ]
    },
    {
     "name": "stderr",
     "output_type": "stream",
     "text": [
      "INFO:root:Epoch[1] Batch [36]\tSpeed: 4.697120 samples/sec\ttop1-err=0.801351\ttop5-err=0.289189\n"
     ]
    },
    {
     "name": "stdout",
     "output_type": "stream",
     "text": [
      "batch: 37\n",
      "forward pass\n",
      "backward pass\n",
      "update\n",
      "update loss\n"
     ]
    },
    {
     "name": "stderr",
     "output_type": "stream",
     "text": [
      "INFO:root:Epoch[1] Batch [37]\tSpeed: 4.614277 samples/sec\ttop1-err=0.803947\ttop5-err=0.294737\n"
     ]
    },
    {
     "name": "stdout",
     "output_type": "stream",
     "text": [
      "batch: 38\n",
      "forward pass\n",
      "backward pass\n",
      "update\n",
      "update loss\n"
     ]
    },
    {
     "name": "stderr",
     "output_type": "stream",
     "text": [
      "INFO:root:Epoch[1] Batch [38]\tSpeed: 4.657094 samples/sec\ttop1-err=0.802564\ttop5-err=0.297436\n"
     ]
    },
    {
     "name": "stdout",
     "output_type": "stream",
     "text": [
      "batch: 39\n",
      "forward pass\n",
      "backward pass\n",
      "update\n",
      "update loss\n"
     ]
    },
    {
     "name": "stderr",
     "output_type": "stream",
     "text": [
      "INFO:root:Epoch[1] Batch [39]\tSpeed: 4.554284 samples/sec\ttop1-err=0.807500\ttop5-err=0.298750\n"
     ]
    },
    {
     "name": "stdout",
     "output_type": "stream",
     "text": [
      "batch: 40\n",
      "forward pass\n",
      "backward pass\n",
      "update\n",
      "update loss\n"
     ]
    },
    {
     "name": "stderr",
     "output_type": "stream",
     "text": [
      "INFO:root:Epoch[1] Batch [40]\tSpeed: 4.084380 samples/sec\ttop1-err=0.809756\ttop5-err=0.297561\n"
     ]
    },
    {
     "name": "stdout",
     "output_type": "stream",
     "text": [
      "batch: 41\n",
      "forward pass\n",
      "backward pass\n",
      "update\n",
      "update loss\n"
     ]
    },
    {
     "name": "stderr",
     "output_type": "stream",
     "text": [
      "INFO:root:Epoch[1] Batch [41]\tSpeed: 4.341045 samples/sec\ttop1-err=0.809524\ttop5-err=0.292857\n"
     ]
    },
    {
     "name": "stdout",
     "output_type": "stream",
     "text": [
      "batch: 42\n",
      "forward pass\n",
      "backward pass\n",
      "update\n",
      "update loss\n"
     ]
    },
    {
     "name": "stderr",
     "output_type": "stream",
     "text": [
      "INFO:root:Epoch[1] Batch [42]\tSpeed: 4.375081 samples/sec\ttop1-err=0.811628\ttop5-err=0.293023\n"
     ]
    },
    {
     "name": "stdout",
     "output_type": "stream",
     "text": [
      "batch: 43\n",
      "forward pass\n",
      "backward pass\n",
      "update\n",
      "update loss\n"
     ]
    },
    {
     "name": "stderr",
     "output_type": "stream",
     "text": [
      "INFO:root:Epoch[1] Batch [43]\tSpeed: 4.529942 samples/sec\ttop1-err=0.811364\ttop5-err=0.290909\n"
     ]
    },
    {
     "name": "stdout",
     "output_type": "stream",
     "text": [
      "batch: 44\n",
      "forward pass\n",
      "backward pass\n",
      "update\n",
      "update loss\n"
     ]
    },
    {
     "name": "stderr",
     "output_type": "stream",
     "text": [
      "INFO:root:Epoch[1] Batch [44]\tSpeed: 4.645588 samples/sec\ttop1-err=0.808889\ttop5-err=0.291111\n"
     ]
    },
    {
     "name": "stdout",
     "output_type": "stream",
     "text": [
      "batch: 45\n",
      "forward pass\n",
      "backward pass\n",
      "update\n",
      "update loss\n"
     ]
    },
    {
     "name": "stderr",
     "output_type": "stream",
     "text": [
      "INFO:root:Epoch[1] Batch [45]\tSpeed: 4.611327 samples/sec\ttop1-err=0.809783\ttop5-err=0.289130\n"
     ]
    },
    {
     "name": "stdout",
     "output_type": "stream",
     "text": [
      "batch: 46\n",
      "forward pass\n",
      "backward pass\n",
      "update\n",
      "update loss\n"
     ]
    },
    {
     "name": "stderr",
     "output_type": "stream",
     "text": [
      "INFO:root:Epoch[1] Batch [46]\tSpeed: 4.650873 samples/sec\ttop1-err=0.807447\ttop5-err=0.287234\n"
     ]
    },
    {
     "name": "stdout",
     "output_type": "stream",
     "text": [
      "batch: 47\n",
      "forward pass\n",
      "backward pass\n",
      "update\n",
      "update loss\n"
     ]
    },
    {
     "name": "stderr",
     "output_type": "stream",
     "text": [
      "INFO:root:Epoch[1] Batch [47]\tSpeed: 4.614425 samples/sec\ttop1-err=0.807292\ttop5-err=0.287500\n"
     ]
    },
    {
     "name": "stdout",
     "output_type": "stream",
     "text": [
      "batch: 48\n",
      "forward pass\n",
      "backward pass\n",
      "update\n",
      "update loss\n"
     ]
    },
    {
     "name": "stderr",
     "output_type": "stream",
     "text": [
      "INFO:root:Epoch[1] Batch [48]\tSpeed: 4.234605 samples/sec\ttop1-err=0.807143\ttop5-err=0.287755\n"
     ]
    },
    {
     "name": "stdout",
     "output_type": "stream",
     "text": [
      "batch: 49\n",
      "forward pass\n",
      "backward pass\n",
      "update\n",
      "update loss\n"
     ]
    },
    {
     "name": "stderr",
     "output_type": "stream",
     "text": [
      "INFO:root:Epoch[1] Batch [49]\tSpeed: 4.382695 samples/sec\ttop1-err=0.807000\ttop5-err=0.286000\n"
     ]
    },
    {
     "name": "stdout",
     "output_type": "stream",
     "text": [
      "batch: 50\n",
      "forward pass\n",
      "backward pass\n",
      "update\n",
      "update loss\n"
     ]
    },
    {
     "name": "stderr",
     "output_type": "stream",
     "text": [
      "INFO:root:Epoch[1] Batch [50]\tSpeed: 4.535144 samples/sec\ttop1-err=0.805882\ttop5-err=0.285294\n"
     ]
    },
    {
     "name": "stdout",
     "output_type": "stream",
     "text": [
      "batch: 51\n",
      "forward pass\n",
      "backward pass\n",
      "update\n",
      "update loss\n"
     ]
    },
    {
     "name": "stderr",
     "output_type": "stream",
     "text": [
      "INFO:root:Epoch[1] Batch [51]\tSpeed: 4.584195 samples/sec\ttop1-err=0.802885\ttop5-err=0.282692\n"
     ]
    },
    {
     "name": "stdout",
     "output_type": "stream",
     "text": [
      "batch: 52\n",
      "forward pass\n",
      "backward pass\n",
      "update\n",
      "update loss\n"
     ]
    },
    {
     "name": "stderr",
     "output_type": "stream",
     "text": [
      "INFO:root:Epoch[1] Batch [52]\tSpeed: 4.641571 samples/sec\ttop1-err=0.802830\ttop5-err=0.281132\n"
     ]
    },
    {
     "name": "stdout",
     "output_type": "stream",
     "text": [
      "batch: 53\n",
      "forward pass\n",
      "backward pass\n",
      "update\n",
      "update loss\n"
     ]
    },
    {
     "name": "stderr",
     "output_type": "stream",
     "text": [
      "INFO:root:Epoch[1] Batch [53]\tSpeed: 4.678779 samples/sec\ttop1-err=0.801852\ttop5-err=0.284259\n"
     ]
    },
    {
     "name": "stdout",
     "output_type": "stream",
     "text": [
      "batch: 54\n",
      "forward pass\n",
      "backward pass\n",
      "update\n",
      "update loss\n"
     ]
    },
    {
     "name": "stderr",
     "output_type": "stream",
     "text": [
      "INFO:root:Epoch[1] Batch [54]\tSpeed: 4.654207 samples/sec\ttop1-err=0.802727\ttop5-err=0.287273\n"
     ]
    },
    {
     "name": "stdout",
     "output_type": "stream",
     "text": [
      "batch: 55\n",
      "forward pass\n",
      "backward pass\n",
      "update\n",
      "update loss\n"
     ]
    },
    {
     "name": "stderr",
     "output_type": "stream",
     "text": [
      "INFO:root:Epoch[1] Batch [55]\tSpeed: 4.601455 samples/sec\ttop1-err=0.803571\ttop5-err=0.287500\n"
     ]
    },
    {
     "name": "stdout",
     "output_type": "stream",
     "text": [
      "batch: 56\n",
      "forward pass\n",
      "backward pass\n",
      "update\n",
      "update loss\n"
     ]
    },
    {
     "name": "stderr",
     "output_type": "stream",
     "text": [
      "INFO:root:Epoch[1] Batch [56]\tSpeed: 4.602001 samples/sec\ttop1-err=0.802632\ttop5-err=0.288596\n"
     ]
    },
    {
     "name": "stdout",
     "output_type": "stream",
     "text": [
      "batch: 57\n",
      "forward pass\n",
      "backward pass\n",
      "update\n",
      "update loss\n"
     ]
    },
    {
     "name": "stderr",
     "output_type": "stream",
     "text": [
      "INFO:root:Epoch[1] Batch [57]\tSpeed: 4.512359 samples/sec\ttop1-err=0.800862\ttop5-err=0.287069\n"
     ]
    },
    {
     "name": "stdout",
     "output_type": "stream",
     "text": [
      "batch: 58\n",
      "forward pass\n",
      "backward pass\n",
      "update\n",
      "update loss\n"
     ]
    },
    {
     "name": "stderr",
     "output_type": "stream",
     "text": [
      "INFO:root:Epoch[1] Batch [58]\tSpeed: 4.490206 samples/sec\ttop1-err=0.802542\ttop5-err=0.284746\n"
     ]
    },
    {
     "name": "stdout",
     "output_type": "stream",
     "text": [
      "batch: 59\n",
      "forward pass\n",
      "backward pass\n",
      "update\n",
      "update loss\n"
     ]
    },
    {
     "name": "stderr",
     "output_type": "stream",
     "text": [
      "INFO:root:Epoch[1] Batch [59]\tSpeed: 4.622460 samples/sec\ttop1-err=0.800833\ttop5-err=0.284167\n"
     ]
    },
    {
     "name": "stdout",
     "output_type": "stream",
     "text": [
      "batch: 60\n",
      "forward pass\n",
      "backward pass\n",
      "update\n",
      "update loss\n"
     ]
    },
    {
     "name": "stderr",
     "output_type": "stream",
     "text": [
      "INFO:root:Epoch[1] Batch [60]\tSpeed: 4.636431 samples/sec\ttop1-err=0.800820\ttop5-err=0.286066\n"
     ]
    },
    {
     "name": "stdout",
     "output_type": "stream",
     "text": [
      "batch: 61\n",
      "forward pass\n",
      "backward pass\n",
      "update\n",
      "update loss\n"
     ]
    },
    {
     "name": "stderr",
     "output_type": "stream",
     "text": [
      "INFO:root:Epoch[1] Batch [61]\tSpeed: 4.582683 samples/sec\ttop1-err=0.798387\ttop5-err=0.284677\n"
     ]
    },
    {
     "name": "stdout",
     "output_type": "stream",
     "text": [
      "batch: 62\n",
      "forward pass\n",
      "backward pass\n",
      "update\n",
      "update loss\n"
     ]
    },
    {
     "name": "stderr",
     "output_type": "stream",
     "text": [
      "INFO:root:Epoch[1] Batch [62]\tSpeed: 4.697484 samples/sec\ttop1-err=0.799206\ttop5-err=0.284127\n"
     ]
    },
    {
     "name": "stdout",
     "output_type": "stream",
     "text": [
      "batch: 63\n",
      "forward pass\n",
      "backward pass\n",
      "update\n",
      "update loss\n"
     ]
    },
    {
     "name": "stderr",
     "output_type": "stream",
     "text": [
      "INFO:root:Epoch[1] Batch [63]\tSpeed: 4.635257 samples/sec\ttop1-err=0.800000\ttop5-err=0.283594\n"
     ]
    },
    {
     "name": "stdout",
     "output_type": "stream",
     "text": [
      "batch: 64\n",
      "forward pass\n",
      "backward pass\n",
      "update\n",
      "update loss\n"
     ]
    },
    {
     "name": "stderr",
     "output_type": "stream",
     "text": [
      "INFO:root:Epoch[1] Batch [64]\tSpeed: 4.630833 samples/sec\ttop1-err=0.800000\ttop5-err=0.282308\n"
     ]
    },
    {
     "name": "stdout",
     "output_type": "stream",
     "text": [
      "batch: 65\n",
      "forward pass\n",
      "backward pass\n",
      "update\n",
      "update loss\n"
     ]
    },
    {
     "name": "stderr",
     "output_type": "stream",
     "text": [
      "INFO:root:Epoch[1] Batch [65]\tSpeed: 4.677193 samples/sec\ttop1-err=0.800000\ttop5-err=0.279545\n"
     ]
    },
    {
     "name": "stdout",
     "output_type": "stream",
     "text": [
      "batch: 66\n",
      "forward pass\n",
      "backward pass\n",
      "update\n",
      "update loss\n"
     ]
    },
    {
     "name": "stderr",
     "output_type": "stream",
     "text": [
      "INFO:root:Epoch[1] Batch [66]\tSpeed: 4.713476 samples/sec\ttop1-err=0.800000\ttop5-err=0.279104\n"
     ]
    },
    {
     "name": "stdout",
     "output_type": "stream",
     "text": [
      "batch: 67\n",
      "forward pass\n",
      "backward pass\n",
      "update\n",
      "update loss\n"
     ]
    },
    {
     "name": "stderr",
     "output_type": "stream",
     "text": [
      "INFO:root:Epoch[1] Batch [67]\tSpeed: 4.604748 samples/sec\ttop1-err=0.800735\ttop5-err=0.277206\n"
     ]
    },
    {
     "name": "stdout",
     "output_type": "stream",
     "text": [
      "batch: 68\n",
      "forward pass\n",
      "backward pass\n",
      "update\n",
      "update loss\n"
     ]
    },
    {
     "name": "stderr",
     "output_type": "stream",
     "text": [
      "INFO:root:Epoch[1] Batch [68]\tSpeed: 4.640973 samples/sec\ttop1-err=0.801449\ttop5-err=0.277536\n"
     ]
    },
    {
     "name": "stdout",
     "output_type": "stream",
     "text": [
      "batch: 69\n",
      "forward pass\n",
      "backward pass\n",
      "update\n",
      "update loss\n"
     ]
    },
    {
     "name": "stderr",
     "output_type": "stream",
     "text": [
      "INFO:root:Epoch[1] Batch [69]\tSpeed: 4.639073 samples/sec\ttop1-err=0.799286\ttop5-err=0.277143\n"
     ]
    },
    {
     "name": "stdout",
     "output_type": "stream",
     "text": [
      "batch: 70\n",
      "forward pass\n",
      "backward pass\n",
      "update\n",
      "update loss\n"
     ]
    },
    {
     "name": "stderr",
     "output_type": "stream",
     "text": [
      "INFO:root:Epoch[1] Batch [70]\tSpeed: 4.578915 samples/sec\ttop1-err=0.800704\ttop5-err=0.276056\n"
     ]
    },
    {
     "name": "stdout",
     "output_type": "stream",
     "text": [
      "batch: 71\n",
      "forward pass\n",
      "backward pass\n",
      "update\n",
      "update loss\n"
     ]
    },
    {
     "name": "stderr",
     "output_type": "stream",
     "text": [
      "INFO:root:Epoch[1] Batch [71]\tSpeed: 4.563927 samples/sec\ttop1-err=0.800694\ttop5-err=0.275694\n"
     ]
    },
    {
     "name": "stdout",
     "output_type": "stream",
     "text": [
      "batch: 72\n",
      "forward pass\n",
      "backward pass\n",
      "update\n",
      "update loss\n"
     ]
    },
    {
     "name": "stderr",
     "output_type": "stream",
     "text": [
      "INFO:root:Epoch[1] Batch [72]\tSpeed: 1.809957 samples/sec\ttop1-err=0.801370\ttop5-err=0.277397\n"
     ]
    },
    {
     "name": "stdout",
     "output_type": "stream",
     "text": [
      "batch: 73\n",
      "forward pass\n",
      "backward pass\n",
      "update\n",
      "update loss\n"
     ]
    },
    {
     "name": "stderr",
     "output_type": "stream",
     "text": [
      "INFO:root:Epoch[1] Batch [73]\tSpeed: 4.861548 samples/sec\ttop1-err=0.802703\ttop5-err=0.275000\n"
     ]
    },
    {
     "name": "stdout",
     "output_type": "stream",
     "text": [
      "batch: 74\n",
      "forward pass\n",
      "backward pass\n",
      "update\n",
      "update loss\n"
     ]
    },
    {
     "name": "stderr",
     "output_type": "stream",
     "text": [
      "INFO:root:Epoch[1] Batch [74]\tSpeed: 4.795195 samples/sec\ttop1-err=0.800667\ttop5-err=0.274667\n",
      "INFO:root:[Epoch 1] training: err-top1=0.800667 err-top5=0.274667 loss=2.156865\n",
      "INFO:root:[Epoch 1] time cost: 380.509069\n",
      "INFO:root:[Epoch 1] validation: err-top1=0.827500 err-top5=0.280000\n"
     ]
    },
    {
     "name": "stdout",
     "output_type": "stream",
     "text": [
      "start epoch 2\n",
      "will do 75 batches\n",
      "set learning rate\n",
      "batch: 0\n",
      "forward pass\n",
      "backward pass\n",
      "update\n",
      "update loss\n"
     ]
    },
    {
     "name": "stderr",
     "output_type": "stream",
     "text": [
      "INFO:root:Epoch[2] Batch [0]\tSpeed: 4.572048 samples/sec\ttop1-err=0.900000\ttop5-err=0.250000\n"
     ]
    },
    {
     "name": "stdout",
     "output_type": "stream",
     "text": [
      "batch: 1\n",
      "forward pass\n",
      "backward pass\n",
      "update\n",
      "update loss\n"
     ]
    },
    {
     "name": "stderr",
     "output_type": "stream",
     "text": [
      "INFO:root:Epoch[2] Batch [1]\tSpeed: 4.819624 samples/sec\ttop1-err=0.725000\ttop5-err=0.200000\n"
     ]
    },
    {
     "name": "stdout",
     "output_type": "stream",
     "text": [
      "batch: 2\n",
      "forward pass\n",
      "backward pass\n",
      "update\n",
      "update loss\n"
     ]
    },
    {
     "name": "stderr",
     "output_type": "stream",
     "text": [
      "INFO:root:Epoch[2] Batch [2]\tSpeed: 4.690619 samples/sec\ttop1-err=0.750000\ttop5-err=0.200000\n"
     ]
    },
    {
     "name": "stdout",
     "output_type": "stream",
     "text": [
      "batch: 3\n",
      "forward pass\n",
      "backward pass\n",
      "update\n",
      "update loss\n"
     ]
    },
    {
     "name": "stderr",
     "output_type": "stream",
     "text": [
      "INFO:root:Epoch[2] Batch [3]\tSpeed: 4.591588 samples/sec\ttop1-err=0.737500\ttop5-err=0.187500\n"
     ]
    },
    {
     "name": "stdout",
     "output_type": "stream",
     "text": [
      "batch: 4\n",
      "forward pass\n",
      "backward pass\n",
      "update\n",
      "update loss\n"
     ]
    },
    {
     "name": "stderr",
     "output_type": "stream",
     "text": [
      "INFO:root:Epoch[2] Batch [4]\tSpeed: 4.688338 samples/sec\ttop1-err=0.710000\ttop5-err=0.180000\n"
     ]
    },
    {
     "name": "stdout",
     "output_type": "stream",
     "text": [
      "batch: 5\n",
      "forward pass\n",
      "backward pass\n",
      "update\n",
      "update loss\n"
     ]
    },
    {
     "name": "stderr",
     "output_type": "stream",
     "text": [
      "INFO:root:Epoch[2] Batch [5]\tSpeed: 4.594602 samples/sec\ttop1-err=0.741667\ttop5-err=0.175000\n"
     ]
    },
    {
     "name": "stdout",
     "output_type": "stream",
     "text": [
      "batch: 6\n",
      "forward pass\n",
      "backward pass\n",
      "update\n",
      "update loss\n"
     ]
    },
    {
     "name": "stderr",
     "output_type": "stream",
     "text": [
      "INFO:root:Epoch[2] Batch [6]\tSpeed: 4.648421 samples/sec\ttop1-err=0.742857\ttop5-err=0.192857\n"
     ]
    },
    {
     "name": "stdout",
     "output_type": "stream",
     "text": [
      "batch: 7\n",
      "forward pass\n",
      "backward pass\n",
      "update\n",
      "update loss\n"
     ]
    },
    {
     "name": "stderr",
     "output_type": "stream",
     "text": [
      "INFO:root:Epoch[2] Batch [7]\tSpeed: 4.680872 samples/sec\ttop1-err=0.762500\ttop5-err=0.175000\n"
     ]
    },
    {
     "name": "stdout",
     "output_type": "stream",
     "text": [
      "batch: 8\n",
      "forward pass\n",
      "backward pass\n",
      "update\n",
      "update loss\n"
     ]
    },
    {
     "name": "stderr",
     "output_type": "stream",
     "text": [
      "INFO:root:Epoch[2] Batch [8]\tSpeed: 4.656199 samples/sec\ttop1-err=0.766667\ttop5-err=0.188889\n"
     ]
    },
    {
     "name": "stdout",
     "output_type": "stream",
     "text": [
      "batch: 9\n",
      "forward pass\n",
      "backward pass\n",
      "update\n",
      "update loss\n"
     ]
    },
    {
     "name": "stderr",
     "output_type": "stream",
     "text": [
      "INFO:root:Epoch[2] Batch [9]\tSpeed: 4.659335 samples/sec\ttop1-err=0.755000\ttop5-err=0.185000\n"
     ]
    },
    {
     "name": "stdout",
     "output_type": "stream",
     "text": [
      "batch: 10\n",
      "forward pass\n",
      "backward pass\n",
      "update\n",
      "update loss\n"
     ]
    },
    {
     "name": "stderr",
     "output_type": "stream",
     "text": [
      "INFO:root:Epoch[2] Batch [10]\tSpeed: 4.606632 samples/sec\ttop1-err=0.754545\ttop5-err=0.190909\n"
     ]
    },
    {
     "name": "stdout",
     "output_type": "stream",
     "text": [
      "batch: 11\n",
      "forward pass\n",
      "backward pass\n",
      "update\n",
      "update loss\n"
     ]
    },
    {
     "name": "stderr",
     "output_type": "stream",
     "text": [
      "INFO:root:Epoch[2] Batch [11]\tSpeed: 2.139358 samples/sec\ttop1-err=0.745833\ttop5-err=0.191667\n"
     ]
    },
    {
     "name": "stdout",
     "output_type": "stream",
     "text": [
      "batch: 12\n",
      "forward pass\n",
      "backward pass\n",
      "update\n",
      "update loss\n"
     ]
    },
    {
     "name": "stderr",
     "output_type": "stream",
     "text": [
      "INFO:root:Epoch[2] Batch [12]\tSpeed: 3.555811 samples/sec\ttop1-err=0.742308\ttop5-err=0.180769\n"
     ]
    },
    {
     "name": "stdout",
     "output_type": "stream",
     "text": [
      "batch: 13\n",
      "forward pass\n",
      "backward pass\n",
      "update\n",
      "update loss\n"
     ]
    },
    {
     "name": "stderr",
     "output_type": "stream",
     "text": [
      "INFO:root:Epoch[2] Batch [13]\tSpeed: 4.719001 samples/sec\ttop1-err=0.750000\ttop5-err=0.185714\n"
     ]
    },
    {
     "name": "stdout",
     "output_type": "stream",
     "text": [
      "batch: 14\n",
      "forward pass\n",
      "backward pass\n",
      "update\n",
      "update loss\n"
     ]
    },
    {
     "name": "stderr",
     "output_type": "stream",
     "text": [
      "INFO:root:Epoch[2] Batch [14]\tSpeed: 4.781931 samples/sec\ttop1-err=0.743333\ttop5-err=0.180000\n"
     ]
    },
    {
     "name": "stdout",
     "output_type": "stream",
     "text": [
      "batch: 15\n",
      "forward pass\n",
      "backward pass\n",
      "update\n",
      "update loss\n"
     ]
    },
    {
     "name": "stderr",
     "output_type": "stream",
     "text": [
      "INFO:root:Epoch[2] Batch [15]\tSpeed: 4.751176 samples/sec\ttop1-err=0.743750\ttop5-err=0.190625\n"
     ]
    },
    {
     "name": "stdout",
     "output_type": "stream",
     "text": [
      "batch: 16\n",
      "forward pass\n",
      "backward pass\n",
      "update\n",
      "update loss\n"
     ]
    },
    {
     "name": "stderr",
     "output_type": "stream",
     "text": [
      "INFO:root:Epoch[2] Batch [16]\tSpeed: 4.809093 samples/sec\ttop1-err=0.732353\ttop5-err=0.185294\n"
     ]
    },
    {
     "name": "stdout",
     "output_type": "stream",
     "text": [
      "batch: 17\n",
      "forward pass\n",
      "backward pass\n",
      "update\n",
      "update loss\n"
     ]
    },
    {
     "name": "stderr",
     "output_type": "stream",
     "text": [
      "INFO:root:Epoch[2] Batch [17]\tSpeed: 4.649846 samples/sec\ttop1-err=0.727778\ttop5-err=0.183333\n"
     ]
    },
    {
     "name": "stdout",
     "output_type": "stream",
     "text": [
      "batch: 18\n",
      "forward pass\n",
      "backward pass\n",
      "update\n",
      "update loss\n"
     ]
    },
    {
     "name": "stderr",
     "output_type": "stream",
     "text": [
      "INFO:root:Epoch[2] Batch [18]\tSpeed: 4.569500 samples/sec\ttop1-err=0.723684\ttop5-err=0.189474\n"
     ]
    },
    {
     "name": "stdout",
     "output_type": "stream",
     "text": [
      "batch: 19\n",
      "forward pass\n",
      "backward pass\n",
      "update\n",
      "update loss\n"
     ]
    },
    {
     "name": "stderr",
     "output_type": "stream",
     "text": [
      "INFO:root:Epoch[2] Batch [19]\tSpeed: 4.686058 samples/sec\ttop1-err=0.725000\ttop5-err=0.187500\n"
     ]
    },
    {
     "name": "stdout",
     "output_type": "stream",
     "text": [
      "batch: 20\n",
      "forward pass\n",
      "backward pass\n",
      "update\n",
      "update loss\n"
     ]
    },
    {
     "name": "stderr",
     "output_type": "stream",
     "text": [
      "INFO:root:Epoch[2] Batch [20]\tSpeed: 4.647348 samples/sec\ttop1-err=0.726190\ttop5-err=0.197619\n"
     ]
    },
    {
     "name": "stdout",
     "output_type": "stream",
     "text": [
      "batch: 21\n",
      "forward pass\n",
      "backward pass\n",
      "update\n",
      "update loss\n"
     ]
    },
    {
     "name": "stderr",
     "output_type": "stream",
     "text": [
      "INFO:root:Epoch[2] Batch [21]\tSpeed: 4.506990 samples/sec\ttop1-err=0.718182\ttop5-err=0.190909\n"
     ]
    },
    {
     "name": "stdout",
     "output_type": "stream",
     "text": [
      "batch: 22\n",
      "forward pass\n",
      "backward pass\n",
      "update\n",
      "update loss\n"
     ]
    },
    {
     "name": "stderr",
     "output_type": "stream",
     "text": [
      "INFO:root:Epoch[2] Batch [22]\tSpeed: 4.740102 samples/sec\ttop1-err=0.721739\ttop5-err=0.193478\n"
     ]
    },
    {
     "name": "stdout",
     "output_type": "stream",
     "text": [
      "batch: 23\n",
      "forward pass\n",
      "backward pass\n",
      "update\n",
      "update loss\n"
     ]
    },
    {
     "name": "stderr",
     "output_type": "stream",
     "text": [
      "INFO:root:Epoch[2] Batch [23]\tSpeed: 4.622974 samples/sec\ttop1-err=0.720833\ttop5-err=0.191667\n"
     ]
    },
    {
     "name": "stdout",
     "output_type": "stream",
     "text": [
      "batch: 24\n",
      "forward pass\n",
      "backward pass\n",
      "update\n",
      "update loss\n"
     ]
    },
    {
     "name": "stderr",
     "output_type": "stream",
     "text": [
      "INFO:root:Epoch[2] Batch [24]\tSpeed: 4.291412 samples/sec\ttop1-err=0.726000\ttop5-err=0.200000\n"
     ]
    },
    {
     "name": "stdout",
     "output_type": "stream",
     "text": [
      "batch: 25\n",
      "forward pass\n",
      "backward pass\n",
      "update\n",
      "update loss\n"
     ]
    },
    {
     "name": "stderr",
     "output_type": "stream",
     "text": [
      "INFO:root:Epoch[2] Batch [25]\tSpeed: 1.666579 samples/sec\ttop1-err=0.726923\ttop5-err=0.209615\n"
     ]
    },
    {
     "name": "stdout",
     "output_type": "stream",
     "text": [
      "batch: 26\n",
      "forward pass\n",
      "backward pass\n",
      "update\n",
      "update loss\n"
     ]
    },
    {
     "name": "stderr",
     "output_type": "stream",
     "text": [
      "INFO:root:Epoch[2] Batch [26]\tSpeed: 4.795757 samples/sec\ttop1-err=0.729630\ttop5-err=0.207407\n"
     ]
    },
    {
     "name": "stdout",
     "output_type": "stream",
     "text": [
      "batch: 27\n",
      "forward pass\n",
      "backward pass\n",
      "update\n",
      "update loss\n"
     ]
    },
    {
     "name": "stderr",
     "output_type": "stream",
     "text": [
      "INFO:root:Epoch[2] Batch [27]\tSpeed: 4.747933 samples/sec\ttop1-err=0.725000\ttop5-err=0.205357\n"
     ]
    },
    {
     "name": "stdout",
     "output_type": "stream",
     "text": [
      "batch: 28\n",
      "forward pass\n",
      "backward pass\n",
      "update\n",
      "update loss\n"
     ]
    },
    {
     "name": "stderr",
     "output_type": "stream",
     "text": [
      "INFO:root:Epoch[2] Batch [28]\tSpeed: 4.663081 samples/sec\ttop1-err=0.724138\ttop5-err=0.208621\n"
     ]
    },
    {
     "name": "stdout",
     "output_type": "stream",
     "text": [
      "batch: 29\n",
      "forward pass\n",
      "backward pass\n",
      "update\n",
      "update loss\n"
     ]
    },
    {
     "name": "stderr",
     "output_type": "stream",
     "text": [
      "INFO:root:Epoch[2] Batch [29]\tSpeed: 4.727167 samples/sec\ttop1-err=0.725000\ttop5-err=0.206667\n"
     ]
    },
    {
     "name": "stdout",
     "output_type": "stream",
     "text": [
      "batch: 30\n",
      "forward pass\n",
      "backward pass\n",
      "update\n",
      "update loss\n"
     ]
    },
    {
     "name": "stderr",
     "output_type": "stream",
     "text": [
      "INFO:root:Epoch[2] Batch [30]\tSpeed: 4.619705 samples/sec\ttop1-err=0.727419\ttop5-err=0.209677\n"
     ]
    },
    {
     "name": "stdout",
     "output_type": "stream",
     "text": [
      "batch: 31\n",
      "forward pass\n",
      "backward pass\n",
      "update\n",
      "update loss\n"
     ]
    },
    {
     "name": "stderr",
     "output_type": "stream",
     "text": [
      "INFO:root:Epoch[2] Batch [31]\tSpeed: 4.704492 samples/sec\ttop1-err=0.728125\ttop5-err=0.214063\n"
     ]
    },
    {
     "name": "stdout",
     "output_type": "stream",
     "text": [
      "batch: 32\n",
      "forward pass\n",
      "backward pass\n",
      "update\n",
      "update loss\n"
     ]
    },
    {
     "name": "stderr",
     "output_type": "stream",
     "text": [
      "INFO:root:Epoch[2] Batch [32]\tSpeed: 4.661497 samples/sec\ttop1-err=0.730303\ttop5-err=0.216667\n"
     ]
    },
    {
     "name": "stdout",
     "output_type": "stream",
     "text": [
      "batch: 33\n",
      "forward pass\n",
      "backward pass\n",
      "update\n",
      "update loss\n"
     ]
    },
    {
     "name": "stderr",
     "output_type": "stream",
     "text": [
      "INFO:root:Epoch[2] Batch [33]\tSpeed: 4.661740 samples/sec\ttop1-err=0.732353\ttop5-err=0.217647\n"
     ]
    },
    {
     "name": "stdout",
     "output_type": "stream",
     "text": [
      "batch: 34\n",
      "forward pass\n",
      "backward pass\n",
      "update\n",
      "update loss\n"
     ]
    },
    {
     "name": "stderr",
     "output_type": "stream",
     "text": [
      "INFO:root:Epoch[2] Batch [34]\tSpeed: 4.617976 samples/sec\ttop1-err=0.735714\ttop5-err=0.214286\n"
     ]
    },
    {
     "name": "stdout",
     "output_type": "stream",
     "text": [
      "batch: 35\n",
      "forward pass\n",
      "backward pass\n",
      "update\n",
      "update loss\n"
     ]
    },
    {
     "name": "stderr",
     "output_type": "stream",
     "text": [
      "INFO:root:Epoch[2] Batch [35]\tSpeed: 4.683984 samples/sec\ttop1-err=0.733333\ttop5-err=0.213889\n"
     ]
    },
    {
     "name": "stdout",
     "output_type": "stream",
     "text": [
      "batch: 36\n",
      "forward pass\n",
      "backward pass\n",
      "update\n",
      "update loss\n"
     ]
    },
    {
     "name": "stderr",
     "output_type": "stream",
     "text": [
      "INFO:root:Epoch[2] Batch [36]\tSpeed: 4.544389 samples/sec\ttop1-err=0.739189\ttop5-err=0.213514\n"
     ]
    },
    {
     "name": "stdout",
     "output_type": "stream",
     "text": [
      "batch: 37\n",
      "forward pass\n",
      "backward pass\n",
      "update\n",
      "update loss\n"
     ]
    },
    {
     "name": "stderr",
     "output_type": "stream",
     "text": [
      "INFO:root:Epoch[2] Batch [37]\tSpeed: 4.626835 samples/sec\ttop1-err=0.739474\ttop5-err=0.217105\n"
     ]
    },
    {
     "name": "stdout",
     "output_type": "stream",
     "text": [
      "batch: 38\n",
      "forward pass\n",
      "backward pass\n",
      "update\n",
      "update loss\n"
     ]
    },
    {
     "name": "stderr",
     "output_type": "stream",
     "text": [
      "INFO:root:Epoch[2] Batch [38]\tSpeed: 4.609221 samples/sec\ttop1-err=0.738462\ttop5-err=0.220513\n"
     ]
    },
    {
     "name": "stdout",
     "output_type": "stream",
     "text": [
      "batch: 39\n",
      "forward pass\n",
      "backward pass\n",
      "update\n",
      "update loss\n"
     ]
    },
    {
     "name": "stderr",
     "output_type": "stream",
     "text": [
      "INFO:root:Epoch[2] Batch [39]\tSpeed: 4.646119 samples/sec\ttop1-err=0.736250\ttop5-err=0.216250\n"
     ]
    },
    {
     "name": "stdout",
     "output_type": "stream",
     "text": [
      "batch: 40\n",
      "forward pass\n",
      "backward pass\n",
      "update\n",
      "update loss\n"
     ]
    },
    {
     "name": "stderr",
     "output_type": "stream",
     "text": [
      "INFO:root:Epoch[2] Batch [40]\tSpeed: 4.645163 samples/sec\ttop1-err=0.734146\ttop5-err=0.213415\n"
     ]
    },
    {
     "name": "stdout",
     "output_type": "stream",
     "text": [
      "batch: 41\n",
      "forward pass\n",
      "backward pass\n",
      "update\n",
      "update loss\n"
     ]
    },
    {
     "name": "stderr",
     "output_type": "stream",
     "text": [
      "INFO:root:Epoch[2] Batch [41]\tSpeed: 4.559424 samples/sec\ttop1-err=0.733333\ttop5-err=0.213095\n"
     ]
    },
    {
     "name": "stdout",
     "output_type": "stream",
     "text": [
      "batch: 42\n",
      "forward pass\n",
      "backward pass\n",
      "update\n",
      "update loss\n"
     ]
    },
    {
     "name": "stderr",
     "output_type": "stream",
     "text": [
      "INFO:root:Epoch[2] Batch [42]\tSpeed: 4.566058 samples/sec\ttop1-err=0.733721\ttop5-err=0.216279\n"
     ]
    },
    {
     "name": "stdout",
     "output_type": "stream",
     "text": [
      "batch: 43\n",
      "forward pass\n",
      "backward pass\n",
      "update\n",
      "update loss\n"
     ]
    },
    {
     "name": "stderr",
     "output_type": "stream",
     "text": [
      "INFO:root:Epoch[2] Batch [43]\tSpeed: 4.535791 samples/sec\ttop1-err=0.732955\ttop5-err=0.217045\n"
     ]
    },
    {
     "name": "stdout",
     "output_type": "stream",
     "text": [
      "batch: 44\n",
      "forward pass\n",
      "backward pass\n",
      "update\n",
      "update loss\n"
     ]
    },
    {
     "name": "stderr",
     "output_type": "stream",
     "text": [
      "INFO:root:Epoch[2] Batch [44]\tSpeed: 4.509216 samples/sec\ttop1-err=0.733333\ttop5-err=0.215556\n"
     ]
    },
    {
     "name": "stdout",
     "output_type": "stream",
     "text": [
      "batch: 45\n",
      "forward pass\n",
      "backward pass\n",
      "update\n",
      "update loss\n"
     ]
    },
    {
     "name": "stderr",
     "output_type": "stream",
     "text": [
      "INFO:root:Epoch[2] Batch [45]\tSpeed: 4.570182 samples/sec\ttop1-err=0.735870\ttop5-err=0.218478\n"
     ]
    },
    {
     "name": "stdout",
     "output_type": "stream",
     "text": [
      "batch: 46\n",
      "forward pass\n",
      "backward pass\n",
      "update\n",
      "update loss\n"
     ]
    },
    {
     "name": "stderr",
     "output_type": "stream",
     "text": [
      "INFO:root:Epoch[2] Batch [46]\tSpeed: 4.565422 samples/sec\ttop1-err=0.738298\ttop5-err=0.219149\n"
     ]
    },
    {
     "name": "stdout",
     "output_type": "stream",
     "text": [
      "batch: 47\n",
      "forward pass\n",
      "backward pass\n",
      "update\n",
      "update loss\n"
     ]
    },
    {
     "name": "stderr",
     "output_type": "stream",
     "text": [
      "INFO:root:Epoch[2] Batch [47]\tSpeed: 1.829832 samples/sec\ttop1-err=0.735417\ttop5-err=0.215625\n"
     ]
    },
    {
     "name": "stdout",
     "output_type": "stream",
     "text": [
      "batch: 48\n",
      "forward pass\n",
      "backward pass\n",
      "update\n",
      "update loss\n"
     ]
    },
    {
     "name": "stderr",
     "output_type": "stream",
     "text": [
      "INFO:root:Epoch[2] Batch [48]\tSpeed: 4.826516 samples/sec\ttop1-err=0.735714\ttop5-err=0.217347\n"
     ]
    },
    {
     "name": "stdout",
     "output_type": "stream",
     "text": [
      "batch: 49\n",
      "forward pass\n",
      "backward pass\n",
      "update\n",
      "update loss\n"
     ]
    },
    {
     "name": "stderr",
     "output_type": "stream",
     "text": [
      "INFO:root:Epoch[2] Batch [49]\tSpeed: 4.813592 samples/sec\ttop1-err=0.736000\ttop5-err=0.219000\n"
     ]
    },
    {
     "name": "stdout",
     "output_type": "stream",
     "text": [
      "batch: 50\n",
      "forward pass\n",
      "backward pass\n",
      "update\n",
      "update loss\n"
     ]
    },
    {
     "name": "stderr",
     "output_type": "stream",
     "text": [
      "INFO:root:Epoch[2] Batch [50]\tSpeed: 4.796746 samples/sec\ttop1-err=0.737255\ttop5-err=0.216667\n"
     ]
    },
    {
     "name": "stdout",
     "output_type": "stream",
     "text": [
      "batch: 51\n",
      "forward pass\n",
      "backward pass\n",
      "update\n",
      "update loss\n"
     ]
    },
    {
     "name": "stderr",
     "output_type": "stream",
     "text": [
      "INFO:root:Epoch[2] Batch [51]\tSpeed: 4.711674 samples/sec\ttop1-err=0.737500\ttop5-err=0.220192\n"
     ]
    },
    {
     "name": "stdout",
     "output_type": "stream",
     "text": [
      "batch: 52\n",
      "forward pass\n",
      "backward pass\n",
      "update\n",
      "update loss\n"
     ]
    },
    {
     "name": "stderr",
     "output_type": "stream",
     "text": [
      "INFO:root:Epoch[2] Batch [52]\tSpeed: 4.711705 samples/sec\ttop1-err=0.737736\ttop5-err=0.222642\n"
     ]
    },
    {
     "name": "stdout",
     "output_type": "stream",
     "text": [
      "batch: 53\n",
      "forward pass\n",
      "backward pass\n",
      "update\n",
      "update loss\n"
     ]
    },
    {
     "name": "stderr",
     "output_type": "stream",
     "text": [
      "INFO:root:Epoch[2] Batch [53]\tSpeed: 4.769416 samples/sec\ttop1-err=0.739815\ttop5-err=0.222222\n"
     ]
    },
    {
     "name": "stdout",
     "output_type": "stream",
     "text": [
      "batch: 54\n",
      "forward pass\n",
      "backward pass\n",
      "update\n",
      "update loss\n"
     ]
    },
    {
     "name": "stderr",
     "output_type": "stream",
     "text": [
      "INFO:root:Epoch[2] Batch [54]\tSpeed: 4.581916 samples/sec\ttop1-err=0.740909\ttop5-err=0.222727\n"
     ]
    },
    {
     "name": "stdout",
     "output_type": "stream",
     "text": [
      "batch: 55\n",
      "forward pass\n",
      "backward pass\n",
      "update\n",
      "update loss\n"
     ]
    },
    {
     "name": "stderr",
     "output_type": "stream",
     "text": [
      "INFO:root:Epoch[2] Batch [55]\tSpeed: 4.691373 samples/sec\ttop1-err=0.737500\ttop5-err=0.223214\n"
     ]
    },
    {
     "name": "stdout",
     "output_type": "stream",
     "text": [
      "batch: 56\n",
      "forward pass\n",
      "backward pass\n",
      "update\n",
      "update loss\n"
     ]
    },
    {
     "name": "stderr",
     "output_type": "stream",
     "text": [
      "INFO:root:Epoch[2] Batch [56]\tSpeed: 4.636816 samples/sec\ttop1-err=0.736842\ttop5-err=0.222807\n"
     ]
    },
    {
     "name": "stdout",
     "output_type": "stream",
     "text": [
      "batch: 57\n",
      "forward pass\n",
      "backward pass\n",
      "update\n",
      "update loss\n"
     ]
    },
    {
     "name": "stderr",
     "output_type": "stream",
     "text": [
      "INFO:root:Epoch[2] Batch [57]\tSpeed: 4.609241 samples/sec\ttop1-err=0.740517\ttop5-err=0.223276\n"
     ]
    },
    {
     "name": "stdout",
     "output_type": "stream",
     "text": [
      "batch: 58\n",
      "forward pass\n",
      "backward pass\n",
      "update\n",
      "update loss\n"
     ]
    },
    {
     "name": "stderr",
     "output_type": "stream",
     "text": [
      "INFO:root:Epoch[2] Batch [58]\tSpeed: 4.650823 samples/sec\ttop1-err=0.740678\ttop5-err=0.220339\n"
     ]
    },
    {
     "name": "stdout",
     "output_type": "stream",
     "text": [
      "batch: 59\n",
      "forward pass\n",
      "backward pass\n",
      "update\n",
      "update loss\n"
     ]
    },
    {
     "name": "stderr",
     "output_type": "stream",
     "text": [
      "INFO:root:Epoch[2] Batch [59]\tSpeed: 4.642623 samples/sec\ttop1-err=0.740833\ttop5-err=0.218333\n"
     ]
    },
    {
     "name": "stdout",
     "output_type": "stream",
     "text": [
      "batch: 60\n",
      "forward pass\n",
      "backward pass\n",
      "update\n",
      "update loss\n"
     ]
    },
    {
     "name": "stderr",
     "output_type": "stream",
     "text": [
      "INFO:root:Epoch[2] Batch [60]\tSpeed: 4.594605 samples/sec\ttop1-err=0.741803\ttop5-err=0.219672\n"
     ]
    },
    {
     "name": "stdout",
     "output_type": "stream",
     "text": [
      "batch: 61\n",
      "forward pass\n",
      "backward pass\n",
      "update\n",
      "update loss\n"
     ]
    },
    {
     "name": "stderr",
     "output_type": "stream",
     "text": [
      "INFO:root:Epoch[2] Batch [61]\tSpeed: 1.834792 samples/sec\ttop1-err=0.742742\ttop5-err=0.220161\n"
     ]
    },
    {
     "name": "stdout",
     "output_type": "stream",
     "text": [
      "batch: 62\n",
      "forward pass\n",
      "backward pass\n",
      "update\n",
      "update loss\n"
     ]
    },
    {
     "name": "stderr",
     "output_type": "stream",
     "text": [
      "INFO:root:Epoch[2] Batch [62]\tSpeed: 4.826704 samples/sec\ttop1-err=0.742857\ttop5-err=0.218254\n"
     ]
    },
    {
     "name": "stdout",
     "output_type": "stream",
     "text": [
      "batch: 63\n",
      "forward pass\n",
      "backward pass\n",
      "update\n",
      "update loss\n"
     ]
    },
    {
     "name": "stderr",
     "output_type": "stream",
     "text": [
      "INFO:root:Epoch[2] Batch [63]\tSpeed: 4.782124 samples/sec\ttop1-err=0.742969\ttop5-err=0.221094\n"
     ]
    },
    {
     "name": "stdout",
     "output_type": "stream",
     "text": [
      "batch: 64\n",
      "forward pass\n",
      "backward pass\n",
      "update\n",
      "update loss\n"
     ]
    },
    {
     "name": "stderr",
     "output_type": "stream",
     "text": [
      "INFO:root:Epoch[2] Batch [64]\tSpeed: 4.820625 samples/sec\ttop1-err=0.743077\ttop5-err=0.223846\n"
     ]
    },
    {
     "name": "stdout",
     "output_type": "stream",
     "text": [
      "batch: 65\n",
      "forward pass\n",
      "backward pass\n",
      "update\n",
      "update loss\n"
     ]
    },
    {
     "name": "stderr",
     "output_type": "stream",
     "text": [
      "INFO:root:Epoch[2] Batch [65]\tSpeed: 4.736312 samples/sec\ttop1-err=0.743182\ttop5-err=0.225000\n"
     ]
    },
    {
     "name": "stdout",
     "output_type": "stream",
     "text": [
      "batch: 66\n",
      "forward pass\n",
      "backward pass\n",
      "update\n",
      "update loss\n"
     ]
    },
    {
     "name": "stderr",
     "output_type": "stream",
     "text": [
      "INFO:root:Epoch[2] Batch [66]\tSpeed: 4.722507 samples/sec\ttop1-err=0.741791\ttop5-err=0.224627\n"
     ]
    },
    {
     "name": "stdout",
     "output_type": "stream",
     "text": [
      "batch: 67\n",
      "forward pass\n",
      "backward pass\n",
      "update\n",
      "update loss\n"
     ]
    },
    {
     "name": "stderr",
     "output_type": "stream",
     "text": [
      "INFO:root:Epoch[2] Batch [67]\tSpeed: 4.688019 samples/sec\ttop1-err=0.740441\ttop5-err=0.223529\n"
     ]
    },
    {
     "name": "stdout",
     "output_type": "stream",
     "text": [
      "batch: 68\n",
      "forward pass\n",
      "backward pass\n",
      "update\n",
      "update loss\n"
     ]
    },
    {
     "name": "stderr",
     "output_type": "stream",
     "text": [
      "INFO:root:Epoch[2] Batch [68]\tSpeed: 4.663141 samples/sec\ttop1-err=0.740580\ttop5-err=0.223188\n"
     ]
    },
    {
     "name": "stdout",
     "output_type": "stream",
     "text": [
      "batch: 69\n",
      "forward pass\n",
      "backward pass\n",
      "update\n",
      "update loss\n"
     ]
    },
    {
     "name": "stderr",
     "output_type": "stream",
     "text": [
      "INFO:root:Epoch[2] Batch [69]\tSpeed: 4.672296 samples/sec\ttop1-err=0.740000\ttop5-err=0.224286\n"
     ]
    },
    {
     "name": "stdout",
     "output_type": "stream",
     "text": [
      "batch: 70\n",
      "forward pass\n",
      "backward pass\n",
      "update\n",
      "update loss\n"
     ]
    },
    {
     "name": "stderr",
     "output_type": "stream",
     "text": [
      "INFO:root:Epoch[2] Batch [70]\tSpeed: 4.662065 samples/sec\ttop1-err=0.741549\ttop5-err=0.225352\n"
     ]
    },
    {
     "name": "stdout",
     "output_type": "stream",
     "text": [
      "batch: 71\n",
      "forward pass\n",
      "backward pass\n",
      "update\n",
      "update loss\n"
     ]
    },
    {
     "name": "stderr",
     "output_type": "stream",
     "text": [
      "INFO:root:Epoch[2] Batch [71]\tSpeed: 4.641049 samples/sec\ttop1-err=0.740278\ttop5-err=0.225694\n"
     ]
    },
    {
     "name": "stdout",
     "output_type": "stream",
     "text": [
      "batch: 72\n",
      "forward pass\n",
      "backward pass\n",
      "update\n",
      "update loss\n"
     ]
    },
    {
     "name": "stderr",
     "output_type": "stream",
     "text": [
      "INFO:root:Epoch[2] Batch [72]\tSpeed: 4.672648 samples/sec\ttop1-err=0.740411\ttop5-err=0.223288\n"
     ]
    },
    {
     "name": "stdout",
     "output_type": "stream",
     "text": [
      "batch: 73\n",
      "forward pass\n",
      "backward pass\n",
      "update\n",
      "update loss\n"
     ]
    },
    {
     "name": "stderr",
     "output_type": "stream",
     "text": [
      "INFO:root:Epoch[2] Batch [73]\tSpeed: 4.742018 samples/sec\ttop1-err=0.739865\ttop5-err=0.222297\n"
     ]
    },
    {
     "name": "stdout",
     "output_type": "stream",
     "text": [
      "batch: 74\n",
      "forward pass\n",
      "backward pass\n",
      "update\n",
      "update loss\n"
     ]
    },
    {
     "name": "stderr",
     "output_type": "stream",
     "text": [
      "INFO:root:Epoch[2] Batch [74]\tSpeed: 4.643784 samples/sec\ttop1-err=0.736000\ttop5-err=0.220667\n",
      "INFO:root:[Epoch 2] training: err-top1=0.736000 err-top5=0.220667 loss=1.980883\n",
      "INFO:root:[Epoch 2] time cost: 381.845947\n",
      "INFO:root:[Epoch 2] validation: err-top1=0.702500 err-top5=0.202500\n"
     ]
    },
    {
     "name": "stdout",
     "output_type": "stream",
     "text": [
      "start epoch 3\n",
      "will do 75 batches\n",
      "set learning rate\n",
      "batch: 0\n",
      "forward pass\n",
      "backward pass\n",
      "update\n",
      "update loss\n"
     ]
    },
    {
     "name": "stderr",
     "output_type": "stream",
     "text": [
      "INFO:root:Epoch[3] Batch [0]\tSpeed: 4.330092 samples/sec\ttop1-err=0.650000\ttop5-err=0.150000\n"
     ]
    },
    {
     "name": "stdout",
     "output_type": "stream",
     "text": [
      "batch: 1\n",
      "forward pass\n",
      "backward pass\n",
      "update\n",
      "update loss\n"
     ]
    },
    {
     "name": "stderr",
     "output_type": "stream",
     "text": [
      "INFO:root:Epoch[3] Batch [1]\tSpeed: 4.589278 samples/sec\ttop1-err=0.725000\ttop5-err=0.175000\n"
     ]
    },
    {
     "name": "stdout",
     "output_type": "stream",
     "text": [
      "batch: 2\n",
      "forward pass\n",
      "backward pass\n",
      "update\n",
      "update loss\n"
     ]
    },
    {
     "name": "stderr",
     "output_type": "stream",
     "text": [
      "INFO:root:Epoch[3] Batch [2]\tSpeed: 4.556436 samples/sec\ttop1-err=0.666667\ttop5-err=0.150000\n"
     ]
    },
    {
     "name": "stdout",
     "output_type": "stream",
     "text": [
      "batch: 3\n",
      "forward pass\n",
      "backward pass\n",
      "update\n",
      "update loss\n"
     ]
    },
    {
     "name": "stderr",
     "output_type": "stream",
     "text": [
      "INFO:root:Epoch[3] Batch [3]\tSpeed: 4.528703 samples/sec\ttop1-err=0.637500\ttop5-err=0.137500\n"
     ]
    },
    {
     "name": "stdout",
     "output_type": "stream",
     "text": [
      "batch: 4\n",
      "forward pass\n",
      "backward pass\n",
      "update\n",
      "update loss\n"
     ]
    },
    {
     "name": "stderr",
     "output_type": "stream",
     "text": [
      "INFO:root:Epoch[3] Batch [4]\tSpeed: 4.533025 samples/sec\ttop1-err=0.640000\ttop5-err=0.140000\n"
     ]
    },
    {
     "name": "stdout",
     "output_type": "stream",
     "text": [
      "batch: 5\n",
      "forward pass\n",
      "backward pass\n",
      "update\n",
      "update loss\n"
     ]
    },
    {
     "name": "stderr",
     "output_type": "stream",
     "text": [
      "INFO:root:Epoch[3] Batch [5]\tSpeed: 4.612824 samples/sec\ttop1-err=0.650000\ttop5-err=0.158333\n"
     ]
    },
    {
     "name": "stdout",
     "output_type": "stream",
     "text": [
      "batch: 6\n",
      "forward pass\n",
      "backward pass\n",
      "update\n",
      "update loss\n"
     ]
    },
    {
     "name": "stderr",
     "output_type": "stream",
     "text": [
      "INFO:root:Epoch[3] Batch [6]\tSpeed: 4.591946 samples/sec\ttop1-err=0.678571\ttop5-err=0.164286\n"
     ]
    },
    {
     "name": "stdout",
     "output_type": "stream",
     "text": [
      "batch: 7\n",
      "forward pass\n",
      "backward pass\n",
      "update\n",
      "update loss\n"
     ]
    },
    {
     "name": "stderr",
     "output_type": "stream",
     "text": [
      "INFO:root:Epoch[3] Batch [7]\tSpeed: 4.584495 samples/sec\ttop1-err=0.687500\ttop5-err=0.156250\n"
     ]
    },
    {
     "name": "stdout",
     "output_type": "stream",
     "text": [
      "batch: 8\n",
      "forward pass\n",
      "backward pass\n",
      "update\n",
      "update loss\n"
     ]
    },
    {
     "name": "stderr",
     "output_type": "stream",
     "text": [
      "INFO:root:Epoch[3] Batch [8]\tSpeed: 4.463505 samples/sec\ttop1-err=0.694444\ttop5-err=0.161111\n"
     ]
    },
    {
     "name": "stdout",
     "output_type": "stream",
     "text": [
      "batch: 9\n",
      "forward pass\n",
      "backward pass\n",
      "update\n",
      "update loss\n"
     ]
    },
    {
     "name": "stderr",
     "output_type": "stream",
     "text": [
      "INFO:root:Epoch[3] Batch [9]\tSpeed: 4.490135 samples/sec\ttop1-err=0.680000\ttop5-err=0.155000\n"
     ]
    },
    {
     "name": "stdout",
     "output_type": "stream",
     "text": [
      "batch: 10\n",
      "forward pass\n",
      "backward pass\n",
      "update\n",
      "update loss\n"
     ]
    },
    {
     "name": "stderr",
     "output_type": "stream",
     "text": [
      "INFO:root:Epoch[3] Batch [10]\tSpeed: 4.573803 samples/sec\ttop1-err=0.677273\ttop5-err=0.168182\n"
     ]
    },
    {
     "name": "stdout",
     "output_type": "stream",
     "text": [
      "batch: 11\n",
      "forward pass\n",
      "backward pass\n",
      "update\n",
      "update loss\n"
     ]
    },
    {
     "name": "stderr",
     "output_type": "stream",
     "text": [
      "INFO:root:Epoch[3] Batch [11]\tSpeed: 4.618277 samples/sec\ttop1-err=0.670833\ttop5-err=0.179167\n"
     ]
    },
    {
     "name": "stdout",
     "output_type": "stream",
     "text": [
      "batch: 12\n",
      "forward pass\n",
      "backward pass\n",
      "update\n",
      "update loss\n"
     ]
    },
    {
     "name": "stderr",
     "output_type": "stream",
     "text": [
      "INFO:root:Epoch[3] Batch [12]\tSpeed: 4.621008 samples/sec\ttop1-err=0.684615\ttop5-err=0.169231\n"
     ]
    },
    {
     "name": "stdout",
     "output_type": "stream",
     "text": [
      "batch: 13\n",
      "forward pass\n",
      "backward pass\n",
      "update\n",
      "update loss\n"
     ]
    },
    {
     "name": "stderr",
     "output_type": "stream",
     "text": [
      "INFO:root:Epoch[3] Batch [13]\tSpeed: 4.593637 samples/sec\ttop1-err=0.685714\ttop5-err=0.171429\n"
     ]
    },
    {
     "name": "stdout",
     "output_type": "stream",
     "text": [
      "batch: 14\n",
      "forward pass\n",
      "backward pass\n",
      "update\n",
      "update loss\n"
     ]
    },
    {
     "name": "stderr",
     "output_type": "stream",
     "text": [
      "INFO:root:Epoch[3] Batch [14]\tSpeed: 4.600984 samples/sec\ttop1-err=0.690000\ttop5-err=0.176667\n"
     ]
    },
    {
     "name": "stdout",
     "output_type": "stream",
     "text": [
      "batch: 15\n",
      "forward pass\n",
      "backward pass\n",
      "update\n",
      "update loss\n"
     ]
    },
    {
     "name": "stderr",
     "output_type": "stream",
     "text": [
      "INFO:root:Epoch[3] Batch [15]\tSpeed: 4.569204 samples/sec\ttop1-err=0.700000\ttop5-err=0.175000\n"
     ]
    },
    {
     "name": "stdout",
     "output_type": "stream",
     "text": [
      "batch: 16\n",
      "forward pass\n",
      "backward pass\n",
      "update\n",
      "update loss\n"
     ]
    },
    {
     "name": "stderr",
     "output_type": "stream",
     "text": [
      "INFO:root:Epoch[3] Batch [16]\tSpeed: 4.540368 samples/sec\ttop1-err=0.697059\ttop5-err=0.173529\n"
     ]
    },
    {
     "name": "stdout",
     "output_type": "stream",
     "text": [
      "batch: 17\n",
      "forward pass\n",
      "backward pass\n",
      "update\n",
      "update loss\n"
     ]
    },
    {
     "name": "stderr",
     "output_type": "stream",
     "text": [
      "INFO:root:Epoch[3] Batch [17]\tSpeed: 4.666930 samples/sec\ttop1-err=0.691667\ttop5-err=0.172222\n"
     ]
    },
    {
     "name": "stdout",
     "output_type": "stream",
     "text": [
      "batch: 18\n",
      "forward pass\n",
      "backward pass\n",
      "update\n",
      "update loss\n"
     ]
    },
    {
     "name": "stderr",
     "output_type": "stream",
     "text": [
      "INFO:root:Epoch[3] Batch [18]\tSpeed: 4.017484 samples/sec\ttop1-err=0.689474\ttop5-err=0.173684\n"
     ]
    },
    {
     "name": "stdout",
     "output_type": "stream",
     "text": [
      "batch: 19\n",
      "forward pass\n",
      "backward pass\n",
      "update\n",
      "update loss\n"
     ]
    },
    {
     "name": "stderr",
     "output_type": "stream",
     "text": [
      "INFO:root:Epoch[3] Batch [19]\tSpeed: 4.516167 samples/sec\ttop1-err=0.685000\ttop5-err=0.170000\n"
     ]
    },
    {
     "name": "stdout",
     "output_type": "stream",
     "text": [
      "batch: 20\n",
      "forward pass\n",
      "backward pass\n",
      "update\n",
      "update loss\n"
     ]
    },
    {
     "name": "stderr",
     "output_type": "stream",
     "text": [
      "INFO:root:Epoch[3] Batch [20]\tSpeed: 3.757896 samples/sec\ttop1-err=0.690476\ttop5-err=0.171429\n"
     ]
    },
    {
     "name": "stdout",
     "output_type": "stream",
     "text": [
      "batch: 21\n",
      "forward pass\n",
      "backward pass\n",
      "update\n",
      "update loss\n"
     ]
    },
    {
     "name": "stderr",
     "output_type": "stream",
     "text": [
      "INFO:root:Epoch[3] Batch [21]\tSpeed: 4.458889 samples/sec\ttop1-err=0.688636\ttop5-err=0.175000\n"
     ]
    },
    {
     "name": "stdout",
     "output_type": "stream",
     "text": [
      "batch: 22\n",
      "forward pass\n",
      "backward pass\n",
      "update\n",
      "update loss\n"
     ]
    },
    {
     "name": "stderr",
     "output_type": "stream",
     "text": [
      "INFO:root:Epoch[3] Batch [22]\tSpeed: 4.693435 samples/sec\ttop1-err=0.689130\ttop5-err=0.171739\n"
     ]
    },
    {
     "name": "stdout",
     "output_type": "stream",
     "text": [
      "batch: 23\n",
      "forward pass\n",
      "backward pass\n",
      "update\n",
      "update loss\n"
     ]
    },
    {
     "name": "stderr",
     "output_type": "stream",
     "text": [
      "INFO:root:Epoch[3] Batch [23]\tSpeed: 4.448100 samples/sec\ttop1-err=0.683333\ttop5-err=0.175000\n"
     ]
    },
    {
     "name": "stdout",
     "output_type": "stream",
     "text": [
      "batch: 24\n",
      "forward pass\n",
      "backward pass\n",
      "update\n",
      "update loss\n"
     ]
    },
    {
     "name": "stderr",
     "output_type": "stream",
     "text": [
      "INFO:root:Epoch[3] Batch [24]\tSpeed: 4.657722 samples/sec\ttop1-err=0.682000\ttop5-err=0.180000\n"
     ]
    },
    {
     "name": "stdout",
     "output_type": "stream",
     "text": [
      "batch: 25\n",
      "forward pass\n",
      "backward pass\n",
      "update\n",
      "update loss\n"
     ]
    },
    {
     "name": "stderr",
     "output_type": "stream",
     "text": [
      "INFO:root:Epoch[3] Batch [25]\tSpeed: 4.623914 samples/sec\ttop1-err=0.680769\ttop5-err=0.175000\n"
     ]
    },
    {
     "name": "stdout",
     "output_type": "stream",
     "text": [
      "batch: 26\n",
      "forward pass\n",
      "backward pass\n",
      "update\n",
      "update loss\n"
     ]
    },
    {
     "name": "stderr",
     "output_type": "stream",
     "text": [
      "INFO:root:Epoch[3] Batch [26]\tSpeed: 4.729628 samples/sec\ttop1-err=0.688889\ttop5-err=0.181481\n"
     ]
    },
    {
     "name": "stdout",
     "output_type": "stream",
     "text": [
      "batch: 27\n",
      "forward pass\n",
      "backward pass\n",
      "update\n",
      "update loss\n"
     ]
    },
    {
     "name": "stderr",
     "output_type": "stream",
     "text": [
      "INFO:root:Epoch[3] Batch [27]\tSpeed: 4.735547 samples/sec\ttop1-err=0.694643\ttop5-err=0.189286\n"
     ]
    },
    {
     "name": "stdout",
     "output_type": "stream",
     "text": [
      "batch: 28\n",
      "forward pass\n",
      "backward pass\n",
      "update\n",
      "update loss\n"
     ]
    },
    {
     "name": "stderr",
     "output_type": "stream",
     "text": [
      "INFO:root:Epoch[3] Batch [28]\tSpeed: 4.700725 samples/sec\ttop1-err=0.696552\ttop5-err=0.186207\n"
     ]
    },
    {
     "name": "stdout",
     "output_type": "stream",
     "text": [
      "batch: 29\n",
      "forward pass\n",
      "backward pass\n",
      "update\n",
      "update loss\n"
     ]
    },
    {
     "name": "stderr",
     "output_type": "stream",
     "text": [
      "INFO:root:Epoch[3] Batch [29]\tSpeed: 4.702874 samples/sec\ttop1-err=0.698333\ttop5-err=0.186667\n"
     ]
    },
    {
     "name": "stdout",
     "output_type": "stream",
     "text": [
      "batch: 30\n",
      "forward pass\n",
      "backward pass\n",
      "update\n",
      "update loss\n"
     ]
    },
    {
     "name": "stderr",
     "output_type": "stream",
     "text": [
      "INFO:root:Epoch[3] Batch [30]\tSpeed: 4.749077 samples/sec\ttop1-err=0.698387\ttop5-err=0.187097\n"
     ]
    },
    {
     "name": "stdout",
     "output_type": "stream",
     "text": [
      "batch: 31\n",
      "forward pass\n",
      "backward pass\n",
      "update\n",
      "update loss\n"
     ]
    },
    {
     "name": "stderr",
     "output_type": "stream",
     "text": [
      "INFO:root:Epoch[3] Batch [31]\tSpeed: 3.990874 samples/sec\ttop1-err=0.700000\ttop5-err=0.185937\n"
     ]
    },
    {
     "name": "stdout",
     "output_type": "stream",
     "text": [
      "batch: 32\n",
      "forward pass\n",
      "backward pass\n",
      "update\n",
      "update loss\n"
     ]
    },
    {
     "name": "stderr",
     "output_type": "stream",
     "text": [
      "INFO:root:Epoch[3] Batch [32]\tSpeed: 4.381624 samples/sec\ttop1-err=0.701515\ttop5-err=0.184848\n"
     ]
    },
    {
     "name": "stdout",
     "output_type": "stream",
     "text": [
      "batch: 33\n",
      "forward pass\n",
      "backward pass\n",
      "update\n",
      "update loss\n"
     ]
    },
    {
     "name": "stderr",
     "output_type": "stream",
     "text": [
      "INFO:root:Epoch[3] Batch [33]\tSpeed: 4.492084 samples/sec\ttop1-err=0.701471\ttop5-err=0.186765\n"
     ]
    },
    {
     "name": "stdout",
     "output_type": "stream",
     "text": [
      "batch: 34\n",
      "forward pass\n",
      "backward pass\n",
      "update\n",
      "update loss\n"
     ]
    },
    {
     "name": "stderr",
     "output_type": "stream",
     "text": [
      "INFO:root:Epoch[3] Batch [34]\tSpeed: 4.111032 samples/sec\ttop1-err=0.701429\ttop5-err=0.182857\n"
     ]
    },
    {
     "name": "stdout",
     "output_type": "stream",
     "text": [
      "batch: 35\n",
      "forward pass\n",
      "backward pass\n",
      "update\n",
      "update loss\n"
     ]
    },
    {
     "name": "stderr",
     "output_type": "stream",
     "text": [
      "INFO:root:Epoch[3] Batch [35]\tSpeed: 1.521707 samples/sec\ttop1-err=0.704167\ttop5-err=0.181944\n"
     ]
    },
    {
     "name": "stdout",
     "output_type": "stream",
     "text": [
      "batch: 36\n",
      "forward pass\n",
      "backward pass\n",
      "update\n",
      "update loss\n"
     ]
    },
    {
     "name": "stderr",
     "output_type": "stream",
     "text": [
      "INFO:root:Epoch[3] Batch [36]\tSpeed: 4.398685 samples/sec\ttop1-err=0.698649\ttop5-err=0.178378\n"
     ]
    },
    {
     "name": "stdout",
     "output_type": "stream",
     "text": [
      "batch: 37\n",
      "forward pass\n",
      "backward pass\n",
      "update\n",
      "update loss\n"
     ]
    },
    {
     "name": "stderr",
     "output_type": "stream",
     "text": [
      "INFO:root:Epoch[3] Batch [37]\tSpeed: 4.284700 samples/sec\ttop1-err=0.700000\ttop5-err=0.178947\n"
     ]
    },
    {
     "name": "stdout",
     "output_type": "stream",
     "text": [
      "batch: 38\n",
      "forward pass\n",
      "backward pass\n",
      "update\n",
      "update loss\n"
     ]
    },
    {
     "name": "stderr",
     "output_type": "stream",
     "text": [
      "INFO:root:Epoch[3] Batch [38]\tSpeed: 4.271244 samples/sec\ttop1-err=0.697436\ttop5-err=0.176923\n"
     ]
    },
    {
     "name": "stdout",
     "output_type": "stream",
     "text": [
      "batch: 39\n",
      "forward pass\n",
      "backward pass\n",
      "update\n",
      "update loss\n"
     ]
    },
    {
     "name": "stderr",
     "output_type": "stream",
     "text": [
      "INFO:root:Epoch[3] Batch [39]\tSpeed: 4.281676 samples/sec\ttop1-err=0.701250\ttop5-err=0.180000\n"
     ]
    },
    {
     "name": "stdout",
     "output_type": "stream",
     "text": [
      "batch: 40\n",
      "forward pass\n",
      "backward pass\n",
      "update\n",
      "update loss\n"
     ]
    },
    {
     "name": "stderr",
     "output_type": "stream",
     "text": [
      "INFO:root:Epoch[3] Batch [40]\tSpeed: 4.086583 samples/sec\ttop1-err=0.697561\ttop5-err=0.181707\n"
     ]
    },
    {
     "name": "stdout",
     "output_type": "stream",
     "text": [
      "batch: 41\n",
      "forward pass\n",
      "backward pass\n",
      "update\n",
      "update loss\n"
     ]
    },
    {
     "name": "stderr",
     "output_type": "stream",
     "text": [
      "INFO:root:Epoch[3] Batch [41]\tSpeed: 4.100622 samples/sec\ttop1-err=0.696429\ttop5-err=0.180952\n"
     ]
    },
    {
     "name": "stdout",
     "output_type": "stream",
     "text": [
      "batch: 42\n",
      "forward pass\n",
      "backward pass\n",
      "update\n",
      "update loss\n"
     ]
    },
    {
     "name": "stderr",
     "output_type": "stream",
     "text": [
      "INFO:root:Epoch[3] Batch [42]\tSpeed: 4.207013 samples/sec\ttop1-err=0.696512\ttop5-err=0.182558\n"
     ]
    },
    {
     "name": "stdout",
     "output_type": "stream",
     "text": [
      "batch: 43\n",
      "forward pass\n",
      "backward pass\n",
      "update\n",
      "update loss\n"
     ]
    },
    {
     "name": "stderr",
     "output_type": "stream",
     "text": [
      "INFO:root:Epoch[3] Batch [43]\tSpeed: 4.175592 samples/sec\ttop1-err=0.696591\ttop5-err=0.184091\n"
     ]
    },
    {
     "name": "stdout",
     "output_type": "stream",
     "text": [
      "batch: 44\n",
      "forward pass\n",
      "backward pass\n",
      "update\n",
      "update loss\n"
     ]
    },
    {
     "name": "stderr",
     "output_type": "stream",
     "text": [
      "INFO:root:Epoch[3] Batch [44]\tSpeed: 4.034992 samples/sec\ttop1-err=0.694444\ttop5-err=0.185556\n"
     ]
    },
    {
     "name": "stdout",
     "output_type": "stream",
     "text": [
      "batch: 45\n",
      "forward pass\n",
      "backward pass\n",
      "update\n",
      "update loss\n"
     ]
    },
    {
     "name": "stderr",
     "output_type": "stream",
     "text": [
      "INFO:root:Epoch[3] Batch [45]\tSpeed: 1.604732 samples/sec\ttop1-err=0.694565\ttop5-err=0.186957\n"
     ]
    },
    {
     "name": "stdout",
     "output_type": "stream",
     "text": [
      "batch: 46\n",
      "forward pass\n",
      "backward pass\n",
      "update\n",
      "update loss\n"
     ]
    },
    {
     "name": "stderr",
     "output_type": "stream",
     "text": [
      "INFO:root:Epoch[3] Batch [46]\tSpeed: 4.424114 samples/sec\ttop1-err=0.694681\ttop5-err=0.187234\n"
     ]
    },
    {
     "name": "stdout",
     "output_type": "stream",
     "text": [
      "batch: 47\n",
      "forward pass\n",
      "backward pass\n",
      "update\n",
      "update loss\n"
     ]
    },
    {
     "name": "stderr",
     "output_type": "stream",
     "text": [
      "INFO:root:Epoch[3] Batch [47]\tSpeed: 4.334506 samples/sec\ttop1-err=0.695833\ttop5-err=0.185417\n"
     ]
    },
    {
     "name": "stdout",
     "output_type": "stream",
     "text": [
      "batch: 48\n",
      "forward pass\n",
      "backward pass\n",
      "update\n",
      "update loss\n"
     ]
    },
    {
     "name": "stderr",
     "output_type": "stream",
     "text": [
      "INFO:root:Epoch[3] Batch [48]\tSpeed: 4.251991 samples/sec\ttop1-err=0.693878\ttop5-err=0.188776\n"
     ]
    },
    {
     "name": "stdout",
     "output_type": "stream",
     "text": [
      "batch: 49\n",
      "forward pass\n",
      "backward pass\n",
      "update\n",
      "update loss\n"
     ]
    },
    {
     "name": "stderr",
     "output_type": "stream",
     "text": [
      "INFO:root:Epoch[3] Batch [49]\tSpeed: 4.209144 samples/sec\ttop1-err=0.694000\ttop5-err=0.191000\n"
     ]
    },
    {
     "name": "stdout",
     "output_type": "stream",
     "text": [
      "batch: 50\n",
      "forward pass\n",
      "backward pass\n",
      "update\n",
      "update loss\n"
     ]
    },
    {
     "name": "stderr",
     "output_type": "stream",
     "text": [
      "INFO:root:Epoch[3] Batch [50]\tSpeed: 4.038691 samples/sec\ttop1-err=0.696078\ttop5-err=0.191176\n"
     ]
    },
    {
     "name": "stdout",
     "output_type": "stream",
     "text": [
      "batch: 51\n",
      "forward pass\n",
      "backward pass\n",
      "update\n",
      "update loss\n"
     ]
    },
    {
     "name": "stderr",
     "output_type": "stream",
     "text": [
      "INFO:root:Epoch[3] Batch [51]\tSpeed: 4.020501 samples/sec\ttop1-err=0.700962\ttop5-err=0.191346\n"
     ]
    },
    {
     "name": "stdout",
     "output_type": "stream",
     "text": [
      "batch: 52\n",
      "forward pass\n",
      "backward pass\n",
      "update\n",
      "update loss\n"
     ]
    },
    {
     "name": "stderr",
     "output_type": "stream",
     "text": [
      "INFO:root:Epoch[3] Batch [52]\tSpeed: 4.021861 samples/sec\ttop1-err=0.700943\ttop5-err=0.188679\n"
     ]
    },
    {
     "name": "stdout",
     "output_type": "stream",
     "text": [
      "batch: 53\n",
      "forward pass\n",
      "backward pass\n",
      "update\n",
      "update loss\n"
     ]
    },
    {
     "name": "stderr",
     "output_type": "stream",
     "text": [
      "INFO:root:Epoch[3] Batch [53]\tSpeed: 1.827554 samples/sec\ttop1-err=0.700000\ttop5-err=0.187037\n"
     ]
    },
    {
     "name": "stdout",
     "output_type": "stream",
     "text": [
      "batch: 54\n",
      "forward pass\n",
      "backward pass\n",
      "update\n",
      "update loss\n"
     ]
    },
    {
     "name": "stderr",
     "output_type": "stream",
     "text": [
      "INFO:root:Epoch[3] Batch [54]\tSpeed: 3.987447 samples/sec\ttop1-err=0.701818\ttop5-err=0.184545\n"
     ]
    },
    {
     "name": "stdout",
     "output_type": "stream",
     "text": [
      "batch: 55\n",
      "forward pass\n",
      "backward pass\n",
      "update\n",
      "update loss\n"
     ]
    },
    {
     "name": "stderr",
     "output_type": "stream",
     "text": [
      "INFO:root:Epoch[3] Batch [55]\tSpeed: 4.345667 samples/sec\ttop1-err=0.700893\ttop5-err=0.182143\n"
     ]
    },
    {
     "name": "stdout",
     "output_type": "stream",
     "text": [
      "batch: 56\n",
      "forward pass\n",
      "backward pass\n",
      "update\n",
      "update loss\n"
     ]
    },
    {
     "name": "stderr",
     "output_type": "stream",
     "text": [
      "INFO:root:Epoch[3] Batch [56]\tSpeed: 4.363183 samples/sec\ttop1-err=0.701754\ttop5-err=0.182456\n"
     ]
    },
    {
     "name": "stdout",
     "output_type": "stream",
     "text": [
      "batch: 57\n",
      "forward pass\n",
      "backward pass\n",
      "update\n",
      "update loss\n"
     ]
    },
    {
     "name": "stderr",
     "output_type": "stream",
     "text": [
      "INFO:root:Epoch[3] Batch [57]\tSpeed: 4.245394 samples/sec\ttop1-err=0.701724\ttop5-err=0.181897\n"
     ]
    },
    {
     "name": "stdout",
     "output_type": "stream",
     "text": [
      "batch: 58\n",
      "forward pass\n",
      "backward pass\n",
      "update\n",
      "update loss\n"
     ]
    },
    {
     "name": "stderr",
     "output_type": "stream",
     "text": [
      "INFO:root:Epoch[3] Batch [58]\tSpeed: 4.164419 samples/sec\ttop1-err=0.701695\ttop5-err=0.183051\n"
     ]
    },
    {
     "name": "stdout",
     "output_type": "stream",
     "text": [
      "batch: 59\n",
      "forward pass\n",
      "backward pass\n",
      "update\n",
      "update loss\n"
     ]
    },
    {
     "name": "stderr",
     "output_type": "stream",
     "text": [
      "INFO:root:Epoch[3] Batch [59]\tSpeed: 4.208972 samples/sec\ttop1-err=0.702500\ttop5-err=0.183333\n"
     ]
    },
    {
     "name": "stdout",
     "output_type": "stream",
     "text": [
      "batch: 60\n",
      "forward pass\n",
      "backward pass\n",
      "update\n",
      "update loss\n"
     ]
    },
    {
     "name": "stderr",
     "output_type": "stream",
     "text": [
      "INFO:root:Epoch[3] Batch [60]\tSpeed: 4.055039 samples/sec\ttop1-err=0.701639\ttop5-err=0.181148\n"
     ]
    },
    {
     "name": "stdout",
     "output_type": "stream",
     "text": [
      "batch: 61\n",
      "forward pass\n",
      "backward pass\n",
      "update\n",
      "update loss\n"
     ]
    },
    {
     "name": "stderr",
     "output_type": "stream",
     "text": [
      "INFO:root:Epoch[3] Batch [61]\tSpeed: 1.620104 samples/sec\ttop1-err=0.704032\ttop5-err=0.183871\n"
     ]
    },
    {
     "name": "stdout",
     "output_type": "stream",
     "text": [
      "batch: 62\n",
      "forward pass\n",
      "backward pass\n",
      "update\n",
      "update loss\n"
     ]
    },
    {
     "name": "stderr",
     "output_type": "stream",
     "text": [
      "INFO:root:Epoch[3] Batch [62]\tSpeed: 4.385361 samples/sec\ttop1-err=0.700794\ttop5-err=0.182540\n"
     ]
    },
    {
     "name": "stdout",
     "output_type": "stream",
     "text": [
      "batch: 63\n",
      "forward pass\n",
      "backward pass\n",
      "update\n",
      "update loss\n"
     ]
    },
    {
     "name": "stderr",
     "output_type": "stream",
     "text": [
      "INFO:root:Epoch[3] Batch [63]\tSpeed: 4.270676 samples/sec\ttop1-err=0.699219\ttop5-err=0.182813\n"
     ]
    },
    {
     "name": "stdout",
     "output_type": "stream",
     "text": [
      "batch: 64\n",
      "forward pass\n",
      "backward pass\n",
      "update\n",
      "update loss\n"
     ]
    },
    {
     "name": "stderr",
     "output_type": "stream",
     "text": [
      "INFO:root:Epoch[3] Batch [64]\tSpeed: 4.233292 samples/sec\ttop1-err=0.700000\ttop5-err=0.183077\n"
     ]
    },
    {
     "name": "stdout",
     "output_type": "stream",
     "text": [
      "batch: 65\n",
      "forward pass\n",
      "backward pass\n",
      "update\n",
      "update loss\n"
     ]
    },
    {
     "name": "stderr",
     "output_type": "stream",
     "text": [
      "INFO:root:Epoch[3] Batch [65]\tSpeed: 1.762043 samples/sec\ttop1-err=0.700000\ttop5-err=0.181818\n"
     ]
    },
    {
     "name": "stdout",
     "output_type": "stream",
     "text": [
      "batch: 66\n",
      "forward pass\n",
      "backward pass\n",
      "update\n",
      "update loss\n"
     ]
    },
    {
     "name": "stderr",
     "output_type": "stream",
     "text": [
      "INFO:root:Epoch[3] Batch [66]\tSpeed: 4.413373 samples/sec\ttop1-err=0.700746\ttop5-err=0.183582\n"
     ]
    },
    {
     "name": "stdout",
     "output_type": "stream",
     "text": [
      "batch: 67\n",
      "forward pass\n",
      "backward pass\n",
      "update\n",
      "update loss\n"
     ]
    },
    {
     "name": "stderr",
     "output_type": "stream",
     "text": [
      "INFO:root:Epoch[3] Batch [67]\tSpeed: 4.332864 samples/sec\ttop1-err=0.700735\ttop5-err=0.184559\n"
     ]
    },
    {
     "name": "stdout",
     "output_type": "stream",
     "text": [
      "batch: 68\n",
      "forward pass\n",
      "backward pass\n",
      "update\n",
      "update loss\n"
     ]
    },
    {
     "name": "stderr",
     "output_type": "stream",
     "text": [
      "INFO:root:Epoch[3] Batch [68]\tSpeed: 4.307561 samples/sec\ttop1-err=0.700000\ttop5-err=0.181884\n"
     ]
    },
    {
     "name": "stdout",
     "output_type": "stream",
     "text": [
      "batch: 69\n",
      "forward pass\n",
      "backward pass\n",
      "update\n",
      "update loss\n"
     ]
    },
    {
     "name": "stderr",
     "output_type": "stream",
     "text": [
      "INFO:root:Epoch[3] Batch [69]\tSpeed: 4.263416 samples/sec\ttop1-err=0.699286\ttop5-err=0.182857\n"
     ]
    },
    {
     "name": "stdout",
     "output_type": "stream",
     "text": [
      "batch: 70\n",
      "forward pass\n",
      "backward pass\n",
      "update\n",
      "update loss\n"
     ]
    },
    {
     "name": "stderr",
     "output_type": "stream",
     "text": [
      "INFO:root:Epoch[3] Batch [70]\tSpeed: 4.252523 samples/sec\ttop1-err=0.698592\ttop5-err=0.181690\n"
     ]
    },
    {
     "name": "stdout",
     "output_type": "stream",
     "text": [
      "batch: 71\n",
      "forward pass\n",
      "backward pass\n",
      "update\n",
      "update loss\n"
     ]
    },
    {
     "name": "stderr",
     "output_type": "stream",
     "text": [
      "INFO:root:Epoch[3] Batch [71]\tSpeed: 4.263423 samples/sec\ttop1-err=0.697222\ttop5-err=0.181944\n"
     ]
    },
    {
     "name": "stdout",
     "output_type": "stream",
     "text": [
      "batch: 72\n",
      "forward pass\n",
      "backward pass\n",
      "update\n",
      "update loss\n"
     ]
    },
    {
     "name": "stderr",
     "output_type": "stream",
     "text": [
      "INFO:root:Epoch[3] Batch [72]\tSpeed: 4.009962 samples/sec\ttop1-err=0.695890\ttop5-err=0.181507\n"
     ]
    },
    {
     "name": "stdout",
     "output_type": "stream",
     "text": [
      "batch: 73\n",
      "forward pass\n",
      "backward pass\n",
      "update\n",
      "update loss\n"
     ]
    },
    {
     "name": "stderr",
     "output_type": "stream",
     "text": [
      "INFO:root:Epoch[3] Batch [73]\tSpeed: 3.546182 samples/sec\ttop1-err=0.695270\ttop5-err=0.181757\n"
     ]
    },
    {
     "name": "stdout",
     "output_type": "stream",
     "text": [
      "batch: 74\n",
      "forward pass\n",
      "backward pass\n",
      "update\n",
      "update loss\n"
     ]
    },
    {
     "name": "stderr",
     "output_type": "stream",
     "text": [
      "INFO:root:Epoch[3] Batch [74]\tSpeed: 3.971308 samples/sec\ttop1-err=0.696000\ttop5-err=0.182667\n",
      "INFO:root:[Epoch 3] training: err-top1=0.696000 err-top5=0.182667 loss=1.887716\n",
      "INFO:root:[Epoch 3] time cost: 422.775354\n",
      "INFO:root:[Epoch 3] validation: err-top1=0.720000 err-top5=0.220000\n"
     ]
    },
    {
     "name": "stdout",
     "output_type": "stream",
     "text": [
      "start epoch 4\n",
      "will do 75 batches\n",
      "set learning rate\n",
      "batch: 0\n",
      "forward pass\n",
      "backward pass\n",
      "update\n",
      "update loss\n"
     ]
    },
    {
     "name": "stderr",
     "output_type": "stream",
     "text": [
      "INFO:root:Epoch[4] Batch [0]\tSpeed: 4.449197 samples/sec\ttop1-err=0.700000\ttop5-err=0.100000\n"
     ]
    },
    {
     "name": "stdout",
     "output_type": "stream",
     "text": [
      "batch: 1\n",
      "forward pass\n",
      "backward pass\n",
      "update\n",
      "update loss\n"
     ]
    },
    {
     "name": "stderr",
     "output_type": "stream",
     "text": [
      "INFO:root:Epoch[4] Batch [1]\tSpeed: 4.729810 samples/sec\ttop1-err=0.725000\ttop5-err=0.250000\n"
     ]
    },
    {
     "name": "stdout",
     "output_type": "stream",
     "text": [
      "batch: 2\n",
      "forward pass\n",
      "backward pass\n",
      "update\n",
      "update loss\n"
     ]
    },
    {
     "name": "stderr",
     "output_type": "stream",
     "text": [
      "INFO:root:Epoch[4] Batch [2]\tSpeed: 4.665674 samples/sec\ttop1-err=0.750000\ttop5-err=0.316667\n"
     ]
    },
    {
     "name": "stdout",
     "output_type": "stream",
     "text": [
      "batch: 3\n",
      "forward pass\n",
      "backward pass\n",
      "update\n",
      "update loss\n"
     ]
    },
    {
     "name": "stderr",
     "output_type": "stream",
     "text": [
      "INFO:root:Epoch[4] Batch [3]\tSpeed: 3.678360 samples/sec\ttop1-err=0.675000\ttop5-err=0.250000\n"
     ]
    },
    {
     "name": "stdout",
     "output_type": "stream",
     "text": [
      "batch: 4\n",
      "forward pass\n",
      "backward pass\n",
      "update\n",
      "update loss\n"
     ]
    },
    {
     "name": "stderr",
     "output_type": "stream",
     "text": [
      "INFO:root:Epoch[4] Batch [4]\tSpeed: 2.111868 samples/sec\ttop1-err=0.650000\ttop5-err=0.230000\n"
     ]
    },
    {
     "name": "stdout",
     "output_type": "stream",
     "text": [
      "batch: 5\n",
      "forward pass\n",
      "backward pass\n",
      "update\n",
      "update loss\n"
     ]
    },
    {
     "name": "stderr",
     "output_type": "stream",
     "text": [
      "INFO:root:Epoch[4] Batch [5]\tSpeed: 4.835361 samples/sec\ttop1-err=0.650000\ttop5-err=0.216667\n"
     ]
    },
    {
     "name": "stdout",
     "output_type": "stream",
     "text": [
      "batch: 6\n",
      "forward pass\n",
      "backward pass\n",
      "update\n",
      "update loss\n"
     ]
    },
    {
     "name": "stderr",
     "output_type": "stream",
     "text": [
      "INFO:root:Epoch[4] Batch [6]\tSpeed: 4.556224 samples/sec\ttop1-err=0.671429\ttop5-err=0.207143\n"
     ]
    },
    {
     "name": "stdout",
     "output_type": "stream",
     "text": [
      "batch: 7\n",
      "forward pass\n",
      "backward pass\n",
      "update\n",
      "update loss\n"
     ]
    },
    {
     "name": "stderr",
     "output_type": "stream",
     "text": [
      "INFO:root:Epoch[4] Batch [7]\tSpeed: 4.316799 samples/sec\ttop1-err=0.681250\ttop5-err=0.200000\n"
     ]
    },
    {
     "name": "stdout",
     "output_type": "stream",
     "text": [
      "batch: 8\n",
      "forward pass\n",
      "backward pass\n",
      "update\n",
      "update loss\n"
     ]
    },
    {
     "name": "stderr",
     "output_type": "stream",
     "text": [
      "INFO:root:Epoch[4] Batch [8]\tSpeed: 4.195578 samples/sec\ttop1-err=0.677778\ttop5-err=0.200000\n"
     ]
    },
    {
     "name": "stdout",
     "output_type": "stream",
     "text": [
      "batch: 9\n",
      "forward pass\n",
      "backward pass\n",
      "update\n",
      "update loss\n"
     ]
    },
    {
     "name": "stderr",
     "output_type": "stream",
     "text": [
      "INFO:root:Epoch[4] Batch [9]\tSpeed: 4.266352 samples/sec\ttop1-err=0.695000\ttop5-err=0.200000\n"
     ]
    },
    {
     "name": "stdout",
     "output_type": "stream",
     "text": [
      "batch: 10\n",
      "forward pass\n",
      "backward pass\n",
      "update\n",
      "update loss\n"
     ]
    },
    {
     "name": "stderr",
     "output_type": "stream",
     "text": [
      "INFO:root:Epoch[4] Batch [10]\tSpeed: 4.313153 samples/sec\ttop1-err=0.713636\ttop5-err=0.204545\n"
     ]
    },
    {
     "name": "stdout",
     "output_type": "stream",
     "text": [
      "batch: 11\n",
      "forward pass\n",
      "backward pass\n",
      "update\n",
      "update loss\n"
     ]
    },
    {
     "name": "stderr",
     "output_type": "stream",
     "text": [
      "INFO:root:Epoch[4] Batch [11]\tSpeed: 4.105917 samples/sec\ttop1-err=0.716667\ttop5-err=0.204167\n"
     ]
    },
    {
     "name": "stdout",
     "output_type": "stream",
     "text": [
      "batch: 12\n",
      "forward pass\n",
      "backward pass\n",
      "update\n",
      "update loss\n"
     ]
    },
    {
     "name": "stderr",
     "output_type": "stream",
     "text": [
      "INFO:root:Epoch[4] Batch [12]\tSpeed: 4.270042 samples/sec\ttop1-err=0.707692\ttop5-err=0.200000\n"
     ]
    },
    {
     "name": "stdout",
     "output_type": "stream",
     "text": [
      "batch: 13\n",
      "forward pass\n",
      "backward pass\n",
      "update\n",
      "update loss\n"
     ]
    },
    {
     "name": "stderr",
     "output_type": "stream",
     "text": [
      "INFO:root:Epoch[4] Batch [13]\tSpeed: 4.314033 samples/sec\ttop1-err=0.703571\ttop5-err=0.192857\n"
     ]
    },
    {
     "name": "stdout",
     "output_type": "stream",
     "text": [
      "batch: 14\n",
      "forward pass\n",
      "backward pass\n",
      "update\n",
      "update loss\n"
     ]
    },
    {
     "name": "stderr",
     "output_type": "stream",
     "text": [
      "INFO:root:Epoch[4] Batch [14]\tSpeed: 4.128200 samples/sec\ttop1-err=0.700000\ttop5-err=0.186667\n"
     ]
    },
    {
     "name": "stdout",
     "output_type": "stream",
     "text": [
      "batch: 15\n",
      "forward pass\n",
      "backward pass\n",
      "update\n",
      "update loss\n"
     ]
    },
    {
     "name": "stderr",
     "output_type": "stream",
     "text": [
      "INFO:root:Epoch[4] Batch [15]\tSpeed: 1.747891 samples/sec\ttop1-err=0.690625\ttop5-err=0.184375\n"
     ]
    },
    {
     "name": "stdout",
     "output_type": "stream",
     "text": [
      "batch: 16\n",
      "forward pass\n",
      "backward pass\n",
      "update\n",
      "update loss\n"
     ]
    },
    {
     "name": "stderr",
     "output_type": "stream",
     "text": [
      "INFO:root:Epoch[4] Batch [16]\tSpeed: 4.388671 samples/sec\ttop1-err=0.697059\ttop5-err=0.185294\n"
     ]
    },
    {
     "name": "stdout",
     "output_type": "stream",
     "text": [
      "batch: 17\n",
      "forward pass\n",
      "backward pass\n",
      "update\n",
      "update loss\n"
     ]
    },
    {
     "name": "stderr",
     "output_type": "stream",
     "text": [
      "INFO:root:Epoch[4] Batch [17]\tSpeed: 4.368626 samples/sec\ttop1-err=0.697222\ttop5-err=0.186111\n"
     ]
    },
    {
     "name": "stdout",
     "output_type": "stream",
     "text": [
      "batch: 18\n",
      "forward pass\n",
      "backward pass\n",
      "update\n",
      "update loss\n"
     ]
    },
    {
     "name": "stderr",
     "output_type": "stream",
     "text": [
      "INFO:root:Epoch[4] Batch [18]\tSpeed: 4.394510 samples/sec\ttop1-err=0.705263\ttop5-err=0.184211\n"
     ]
    },
    {
     "name": "stdout",
     "output_type": "stream",
     "text": [
      "batch: 19\n",
      "forward pass\n",
      "backward pass\n",
      "update\n",
      "update loss\n"
     ]
    },
    {
     "name": "stderr",
     "output_type": "stream",
     "text": [
      "INFO:root:Epoch[4] Batch [19]\tSpeed: 4.355754 samples/sec\ttop1-err=0.707500\ttop5-err=0.182500\n"
     ]
    },
    {
     "name": "stdout",
     "output_type": "stream",
     "text": [
      "batch: 20\n",
      "forward pass\n",
      "backward pass\n",
      "update\n",
      "update loss\n"
     ]
    },
    {
     "name": "stderr",
     "output_type": "stream",
     "text": [
      "INFO:root:Epoch[4] Batch [20]\tSpeed: 1.816000 samples/sec\ttop1-err=0.709524\ttop5-err=0.185714\n"
     ]
    },
    {
     "name": "stdout",
     "output_type": "stream",
     "text": [
      "batch: 21\n",
      "forward pass\n",
      "backward pass\n",
      "update\n",
      "update loss\n"
     ]
    },
    {
     "name": "stderr",
     "output_type": "stream",
     "text": [
      "INFO:root:Epoch[4] Batch [21]\tSpeed: 4.445172 samples/sec\ttop1-err=0.709091\ttop5-err=0.184091\n"
     ]
    },
    {
     "name": "stdout",
     "output_type": "stream",
     "text": [
      "batch: 22\n",
      "forward pass\n",
      "backward pass\n",
      "update\n",
      "update loss\n"
     ]
    },
    {
     "name": "stderr",
     "output_type": "stream",
     "text": [
      "INFO:root:Epoch[4] Batch [22]\tSpeed: 4.009437 samples/sec\ttop1-err=0.697826\ttop5-err=0.184783\n"
     ]
    },
    {
     "name": "stdout",
     "output_type": "stream",
     "text": [
      "batch: 23\n",
      "forward pass\n",
      "backward pass\n",
      "update\n",
      "update loss\n"
     ]
    },
    {
     "name": "stderr",
     "output_type": "stream",
     "text": [
      "INFO:root:Epoch[4] Batch [23]\tSpeed: 4.252363 samples/sec\ttop1-err=0.693750\ttop5-err=0.179167\n"
     ]
    },
    {
     "name": "stdout",
     "output_type": "stream",
     "text": [
      "batch: 24\n",
      "forward pass\n",
      "backward pass\n",
      "update\n",
      "update loss\n"
     ]
    },
    {
     "name": "stderr",
     "output_type": "stream",
     "text": [
      "INFO:root:Epoch[4] Batch [24]\tSpeed: 3.878247 samples/sec\ttop1-err=0.702000\ttop5-err=0.188000\n"
     ]
    },
    {
     "name": "stdout",
     "output_type": "stream",
     "text": [
      "batch: 25\n",
      "forward pass\n",
      "backward pass\n",
      "update\n",
      "update loss\n"
     ]
    },
    {
     "name": "stderr",
     "output_type": "stream",
     "text": [
      "INFO:root:Epoch[4] Batch [25]\tSpeed: 4.117151 samples/sec\ttop1-err=0.700000\ttop5-err=0.186538\n"
     ]
    },
    {
     "name": "stdout",
     "output_type": "stream",
     "text": [
      "batch: 26\n",
      "forward pass\n",
      "backward pass\n",
      "update\n",
      "update loss\n"
     ]
    },
    {
     "name": "stderr",
     "output_type": "stream",
     "text": [
      "INFO:root:Epoch[4] Batch [26]\tSpeed: 4.168530 samples/sec\ttop1-err=0.703704\ttop5-err=0.192593\n"
     ]
    },
    {
     "name": "stdout",
     "output_type": "stream",
     "text": [
      "batch: 27\n",
      "forward pass\n",
      "backward pass\n",
      "update\n",
      "update loss\n"
     ]
    },
    {
     "name": "stderr",
     "output_type": "stream",
     "text": [
      "INFO:root:Epoch[4] Batch [27]\tSpeed: 4.097277 samples/sec\ttop1-err=0.703571\ttop5-err=0.191071\n"
     ]
    },
    {
     "name": "stdout",
     "output_type": "stream",
     "text": [
      "batch: 28\n",
      "forward pass\n",
      "backward pass\n",
      "update\n",
      "update loss\n"
     ]
    },
    {
     "name": "stderr",
     "output_type": "stream",
     "text": [
      "INFO:root:Epoch[4] Batch [28]\tSpeed: 4.167514 samples/sec\ttop1-err=0.700000\ttop5-err=0.191379\n"
     ]
    },
    {
     "name": "stdout",
     "output_type": "stream",
     "text": [
      "batch: 29\n",
      "forward pass\n",
      "backward pass\n",
      "update\n",
      "update loss\n"
     ]
    },
    {
     "name": "stderr",
     "output_type": "stream",
     "text": [
      "INFO:root:Epoch[4] Batch [29]\tSpeed: 3.939954 samples/sec\ttop1-err=0.696667\ttop5-err=0.188333\n"
     ]
    },
    {
     "name": "stdout",
     "output_type": "stream",
     "text": [
      "batch: 30\n",
      "forward pass\n",
      "backward pass\n",
      "update\n",
      "update loss\n"
     ]
    },
    {
     "name": "stderr",
     "output_type": "stream",
     "text": [
      "INFO:root:Epoch[4] Batch [30]\tSpeed: 4.467258 samples/sec\ttop1-err=0.696774\ttop5-err=0.188710\n"
     ]
    },
    {
     "name": "stdout",
     "output_type": "stream",
     "text": [
      "batch: 31\n",
      "forward pass\n",
      "backward pass\n",
      "update\n",
      "update loss\n"
     ]
    },
    {
     "name": "stderr",
     "output_type": "stream",
     "text": [
      "INFO:root:Epoch[4] Batch [31]\tSpeed: 4.436075 samples/sec\ttop1-err=0.700000\ttop5-err=0.189063\n"
     ]
    },
    {
     "name": "stdout",
     "output_type": "stream",
     "text": [
      "batch: 32\n",
      "forward pass\n",
      "backward pass\n",
      "update\n",
      "update loss\n"
     ]
    },
    {
     "name": "stderr",
     "output_type": "stream",
     "text": [
      "INFO:root:Epoch[4] Batch [32]\tSpeed: 4.502013 samples/sec\ttop1-err=0.696970\ttop5-err=0.187879\n"
     ]
    },
    {
     "name": "stdout",
     "output_type": "stream",
     "text": [
      "batch: 33\n",
      "forward pass\n",
      "backward pass\n",
      "update\n",
      "update loss\n"
     ]
    },
    {
     "name": "stderr",
     "output_type": "stream",
     "text": [
      "INFO:root:Epoch[4] Batch [33]\tSpeed: 4.583715 samples/sec\ttop1-err=0.698529\ttop5-err=0.183824\n"
     ]
    },
    {
     "name": "stdout",
     "output_type": "stream",
     "text": [
      "batch: 34\n",
      "forward pass\n",
      "backward pass\n",
      "update\n",
      "update loss\n"
     ]
    },
    {
     "name": "stderr",
     "output_type": "stream",
     "text": [
      "INFO:root:Epoch[4] Batch [34]\tSpeed: 4.674363 samples/sec\ttop1-err=0.695714\ttop5-err=0.180000\n"
     ]
    },
    {
     "name": "stdout",
     "output_type": "stream",
     "text": [
      "batch: 35\n",
      "forward pass\n",
      "backward pass\n",
      "update\n",
      "update loss\n"
     ]
    },
    {
     "name": "stderr",
     "output_type": "stream",
     "text": [
      "INFO:root:Epoch[4] Batch [35]\tSpeed: 1.883164 samples/sec\ttop1-err=0.701389\ttop5-err=0.184722\n"
     ]
    },
    {
     "name": "stdout",
     "output_type": "stream",
     "text": [
      "batch: 36\n",
      "forward pass\n",
      "backward pass\n",
      "update\n",
      "update loss\n"
     ]
    },
    {
     "name": "stderr",
     "output_type": "stream",
     "text": [
      "INFO:root:Epoch[4] Batch [36]\tSpeed: 4.613296 samples/sec\ttop1-err=0.700000\ttop5-err=0.182432\n"
     ]
    },
    {
     "name": "stdout",
     "output_type": "stream",
     "text": [
      "batch: 37\n",
      "forward pass\n",
      "backward pass\n",
      "update\n",
      "update loss\n"
     ]
    },
    {
     "name": "stderr",
     "output_type": "stream",
     "text": [
      "INFO:root:Epoch[4] Batch [37]\tSpeed: 1.848775 samples/sec\ttop1-err=0.700000\ttop5-err=0.184211\n"
     ]
    },
    {
     "name": "stdout",
     "output_type": "stream",
     "text": [
      "batch: 38\n",
      "forward pass\n",
      "backward pass\n",
      "update\n",
      "update loss\n"
     ]
    },
    {
     "name": "stderr",
     "output_type": "stream",
     "text": [
      "INFO:root:Epoch[4] Batch [38]\tSpeed: 4.793783 samples/sec\ttop1-err=0.700000\ttop5-err=0.184615\n"
     ]
    },
    {
     "name": "stdout",
     "output_type": "stream",
     "text": [
      "batch: 39\n",
      "forward pass\n",
      "backward pass\n",
      "update\n",
      "update loss\n"
     ]
    },
    {
     "name": "stderr",
     "output_type": "stream",
     "text": [
      "INFO:root:Epoch[4] Batch [39]\tSpeed: 4.918956 samples/sec\ttop1-err=0.697500\ttop5-err=0.182500\n"
     ]
    },
    {
     "name": "stdout",
     "output_type": "stream",
     "text": [
      "batch: 40\n",
      "forward pass\n",
      "backward pass\n",
      "update\n",
      "update loss\n"
     ]
    },
    {
     "name": "stderr",
     "output_type": "stream",
     "text": [
      "INFO:root:Epoch[4] Batch [40]\tSpeed: 4.921541 samples/sec\ttop1-err=0.696341\ttop5-err=0.181707\n"
     ]
    },
    {
     "name": "stdout",
     "output_type": "stream",
     "text": [
      "batch: 41\n",
      "forward pass\n",
      "backward pass\n",
      "update\n",
      "update loss\n"
     ]
    },
    {
     "name": "stderr",
     "output_type": "stream",
     "text": [
      "INFO:root:Epoch[4] Batch [41]\tSpeed: 4.886975 samples/sec\ttop1-err=0.694048\ttop5-err=0.180952\n"
     ]
    },
    {
     "name": "stdout",
     "output_type": "stream",
     "text": [
      "batch: 42\n",
      "forward pass\n",
      "backward pass\n",
      "update\n",
      "update loss\n"
     ]
    },
    {
     "name": "stderr",
     "output_type": "stream",
     "text": [
      "INFO:root:Epoch[4] Batch [42]\tSpeed: 4.879881 samples/sec\ttop1-err=0.693023\ttop5-err=0.180233\n"
     ]
    },
    {
     "name": "stdout",
     "output_type": "stream",
     "text": [
      "batch: 43\n",
      "forward pass\n",
      "backward pass\n",
      "update\n",
      "update loss\n"
     ]
    },
    {
     "name": "stderr",
     "output_type": "stream",
     "text": [
      "INFO:root:Epoch[4] Batch [43]\tSpeed: 4.785108 samples/sec\ttop1-err=0.694318\ttop5-err=0.179545\n"
     ]
    },
    {
     "name": "stdout",
     "output_type": "stream",
     "text": [
      "batch: 44\n",
      "forward pass\n",
      "backward pass\n",
      "update\n",
      "update loss\n"
     ]
    },
    {
     "name": "stderr",
     "output_type": "stream",
     "text": [
      "INFO:root:Epoch[4] Batch [44]\tSpeed: 4.571385 samples/sec\ttop1-err=0.694444\ttop5-err=0.176667\n"
     ]
    },
    {
     "name": "stdout",
     "output_type": "stream",
     "text": [
      "batch: 45\n",
      "forward pass\n",
      "backward pass\n",
      "update\n",
      "update loss\n"
     ]
    },
    {
     "name": "stderr",
     "output_type": "stream",
     "text": [
      "INFO:root:Epoch[4] Batch [45]\tSpeed: 4.716354 samples/sec\ttop1-err=0.694565\ttop5-err=0.175000\n"
     ]
    },
    {
     "name": "stdout",
     "output_type": "stream",
     "text": [
      "batch: 46\n",
      "forward pass\n",
      "backward pass\n",
      "update\n",
      "update loss\n"
     ]
    },
    {
     "name": "stderr",
     "output_type": "stream",
     "text": [
      "INFO:root:Epoch[4] Batch [46]\tSpeed: 4.782369 samples/sec\ttop1-err=0.697872\ttop5-err=0.173404\n"
     ]
    },
    {
     "name": "stdout",
     "output_type": "stream",
     "text": [
      "batch: 47\n",
      "forward pass\n",
      "backward pass\n",
      "update\n",
      "update loss\n"
     ]
    },
    {
     "name": "stderr",
     "output_type": "stream",
     "text": [
      "INFO:root:Epoch[4] Batch [47]\tSpeed: 4.805025 samples/sec\ttop1-err=0.700000\ttop5-err=0.177083\n"
     ]
    },
    {
     "name": "stdout",
     "output_type": "stream",
     "text": [
      "batch: 48\n",
      "forward pass\n",
      "backward pass\n",
      "update\n",
      "update loss\n"
     ]
    },
    {
     "name": "stderr",
     "output_type": "stream",
     "text": [
      "INFO:root:Epoch[4] Batch [48]\tSpeed: 4.676816 samples/sec\ttop1-err=0.700000\ttop5-err=0.180612\n"
     ]
    },
    {
     "name": "stdout",
     "output_type": "stream",
     "text": [
      "batch: 49\n",
      "forward pass\n",
      "backward pass\n",
      "update\n",
      "update loss\n"
     ]
    },
    {
     "name": "stderr",
     "output_type": "stream",
     "text": [
      "INFO:root:Epoch[4] Batch [49]\tSpeed: 4.794893 samples/sec\ttop1-err=0.701000\ttop5-err=0.179000\n"
     ]
    },
    {
     "name": "stdout",
     "output_type": "stream",
     "text": [
      "batch: 50\n",
      "forward pass\n",
      "backward pass\n",
      "update\n",
      "update loss\n"
     ]
    },
    {
     "name": "stderr",
     "output_type": "stream",
     "text": [
      "INFO:root:Epoch[4] Batch [50]\tSpeed: 4.583794 samples/sec\ttop1-err=0.701961\ttop5-err=0.177451\n"
     ]
    },
    {
     "name": "stdout",
     "output_type": "stream",
     "text": [
      "batch: 51\n",
      "forward pass\n",
      "backward pass\n",
      "update\n",
      "update loss\n"
     ]
    },
    {
     "name": "stderr",
     "output_type": "stream",
     "text": [
      "INFO:root:Epoch[4] Batch [51]\tSpeed: 4.761376 samples/sec\ttop1-err=0.703846\ttop5-err=0.178846\n"
     ]
    },
    {
     "name": "stdout",
     "output_type": "stream",
     "text": [
      "batch: 52\n",
      "forward pass\n",
      "backward pass\n",
      "update\n",
      "update loss\n"
     ]
    },
    {
     "name": "stderr",
     "output_type": "stream",
     "text": [
      "INFO:root:Epoch[4] Batch [52]\tSpeed: 4.788480 samples/sec\ttop1-err=0.703774\ttop5-err=0.179245\n"
     ]
    },
    {
     "name": "stdout",
     "output_type": "stream",
     "text": [
      "batch: 53\n",
      "forward pass\n",
      "backward pass\n",
      "update\n",
      "update loss\n"
     ]
    },
    {
     "name": "stderr",
     "output_type": "stream",
     "text": [
      "INFO:root:Epoch[4] Batch [53]\tSpeed: 4.806817 samples/sec\ttop1-err=0.703704\ttop5-err=0.180556\n"
     ]
    },
    {
     "name": "stdout",
     "output_type": "stream",
     "text": [
      "batch: 54\n",
      "forward pass\n",
      "backward pass\n",
      "update\n",
      "update loss\n"
     ]
    },
    {
     "name": "stderr",
     "output_type": "stream",
     "text": [
      "INFO:root:Epoch[4] Batch [54]\tSpeed: 4.462073 samples/sec\ttop1-err=0.703636\ttop5-err=0.182727\n"
     ]
    },
    {
     "name": "stdout",
     "output_type": "stream",
     "text": [
      "batch: 55\n",
      "forward pass\n",
      "backward pass\n",
      "update\n",
      "update loss\n"
     ]
    },
    {
     "name": "stderr",
     "output_type": "stream",
     "text": [
      "INFO:root:Epoch[4] Batch [55]\tSpeed: 4.671429 samples/sec\ttop1-err=0.702679\ttop5-err=0.183036\n"
     ]
    },
    {
     "name": "stdout",
     "output_type": "stream",
     "text": [
      "batch: 56\n",
      "forward pass\n",
      "backward pass\n",
      "update\n",
      "update loss\n"
     ]
    },
    {
     "name": "stderr",
     "output_type": "stream",
     "text": [
      "INFO:root:Epoch[4] Batch [56]\tSpeed: 4.762420 samples/sec\ttop1-err=0.703509\ttop5-err=0.180702\n"
     ]
    },
    {
     "name": "stdout",
     "output_type": "stream",
     "text": [
      "batch: 57\n",
      "forward pass\n",
      "backward pass\n",
      "update\n",
      "update loss\n"
     ]
    },
    {
     "name": "stderr",
     "output_type": "stream",
     "text": [
      "INFO:root:Epoch[4] Batch [57]\tSpeed: 4.682249 samples/sec\ttop1-err=0.706897\ttop5-err=0.181034\n"
     ]
    },
    {
     "name": "stdout",
     "output_type": "stream",
     "text": [
      "batch: 58\n",
      "forward pass\n",
      "backward pass\n",
      "update\n",
      "update loss\n"
     ]
    },
    {
     "name": "stderr",
     "output_type": "stream",
     "text": [
      "INFO:root:Epoch[4] Batch [58]\tSpeed: 4.540141 samples/sec\ttop1-err=0.706780\ttop5-err=0.182203\n"
     ]
    },
    {
     "name": "stdout",
     "output_type": "stream",
     "text": [
      "batch: 59\n",
      "forward pass\n",
      "backward pass\n",
      "update\n",
      "update loss\n"
     ]
    },
    {
     "name": "stderr",
     "output_type": "stream",
     "text": [
      "INFO:root:Epoch[4] Batch [59]\tSpeed: 4.733545 samples/sec\ttop1-err=0.704167\ttop5-err=0.181667\n"
     ]
    },
    {
     "name": "stdout",
     "output_type": "stream",
     "text": [
      "batch: 60\n",
      "forward pass\n",
      "backward pass\n",
      "update\n",
      "update loss\n"
     ]
    },
    {
     "name": "stderr",
     "output_type": "stream",
     "text": [
      "INFO:root:Epoch[4] Batch [60]\tSpeed: 4.635494 samples/sec\ttop1-err=0.705738\ttop5-err=0.181148\n"
     ]
    },
    {
     "name": "stdout",
     "output_type": "stream",
     "text": [
      "batch: 61\n",
      "forward pass\n",
      "backward pass\n",
      "update\n",
      "update loss\n"
     ]
    },
    {
     "name": "stderr",
     "output_type": "stream",
     "text": [
      "INFO:root:Epoch[4] Batch [61]\tSpeed: 4.502850 samples/sec\ttop1-err=0.703226\ttop5-err=0.179839\n"
     ]
    },
    {
     "name": "stdout",
     "output_type": "stream",
     "text": [
      "batch: 62\n",
      "forward pass\n",
      "backward pass\n",
      "update\n",
      "update loss\n"
     ]
    },
    {
     "name": "stderr",
     "output_type": "stream",
     "text": [
      "INFO:root:Epoch[4] Batch [62]\tSpeed: 4.832964 samples/sec\ttop1-err=0.701587\ttop5-err=0.179365\n"
     ]
    },
    {
     "name": "stdout",
     "output_type": "stream",
     "text": [
      "batch: 63\n",
      "forward pass\n",
      "backward pass\n",
      "update\n",
      "update loss\n"
     ]
    },
    {
     "name": "stderr",
     "output_type": "stream",
     "text": [
      "INFO:root:Epoch[4] Batch [63]\tSpeed: 1.872983 samples/sec\ttop1-err=0.700000\ttop5-err=0.180469\n"
     ]
    },
    {
     "name": "stdout",
     "output_type": "stream",
     "text": [
      "batch: 64\n",
      "forward pass\n",
      "backward pass\n",
      "update\n",
      "update loss\n"
     ]
    },
    {
     "name": "stderr",
     "output_type": "stream",
     "text": [
      "INFO:root:Epoch[4] Batch [64]\tSpeed: 4.956477 samples/sec\ttop1-err=0.698462\ttop5-err=0.180000\n"
     ]
    },
    {
     "name": "stdout",
     "output_type": "stream",
     "text": [
      "batch: 65\n",
      "forward pass\n",
      "backward pass\n",
      "update\n",
      "update loss\n"
     ]
    },
    {
     "name": "stderr",
     "output_type": "stream",
     "text": [
      "INFO:root:Epoch[4] Batch [65]\tSpeed: 4.881930 samples/sec\ttop1-err=0.699242\ttop5-err=0.180303\n"
     ]
    },
    {
     "name": "stdout",
     "output_type": "stream",
     "text": [
      "batch: 66\n",
      "forward pass\n",
      "backward pass\n",
      "update\n",
      "update loss\n"
     ]
    },
    {
     "name": "stderr",
     "output_type": "stream",
     "text": [
      "INFO:root:Epoch[4] Batch [66]\tSpeed: 4.944047 samples/sec\ttop1-err=0.700000\ttop5-err=0.179104\n"
     ]
    },
    {
     "name": "stdout",
     "output_type": "stream",
     "text": [
      "batch: 67\n",
      "forward pass\n",
      "backward pass\n",
      "update\n",
      "update loss\n"
     ]
    },
    {
     "name": "stderr",
     "output_type": "stream",
     "text": [
      "INFO:root:Epoch[4] Batch [67]\tSpeed: 4.811516 samples/sec\ttop1-err=0.699265\ttop5-err=0.178676\n"
     ]
    },
    {
     "name": "stdout",
     "output_type": "stream",
     "text": [
      "batch: 68\n",
      "forward pass\n",
      "backward pass\n",
      "update\n",
      "update loss\n"
     ]
    },
    {
     "name": "stderr",
     "output_type": "stream",
     "text": [
      "INFO:root:Epoch[4] Batch [68]\tSpeed: 4.866938 samples/sec\ttop1-err=0.697826\ttop5-err=0.177536\n"
     ]
    },
    {
     "name": "stdout",
     "output_type": "stream",
     "text": [
      "batch: 69\n",
      "forward pass\n",
      "backward pass\n",
      "update\n",
      "update loss\n"
     ]
    },
    {
     "name": "stderr",
     "output_type": "stream",
     "text": [
      "INFO:root:Epoch[4] Batch [69]\tSpeed: 4.781055 samples/sec\ttop1-err=0.700714\ttop5-err=0.177857\n"
     ]
    },
    {
     "name": "stdout",
     "output_type": "stream",
     "text": [
      "batch: 70\n",
      "forward pass\n",
      "backward pass\n",
      "update\n",
      "update loss\n"
     ]
    },
    {
     "name": "stderr",
     "output_type": "stream",
     "text": [
      "INFO:root:Epoch[4] Batch [70]\tSpeed: 4.647936 samples/sec\ttop1-err=0.697887\ttop5-err=0.178873\n"
     ]
    },
    {
     "name": "stdout",
     "output_type": "stream",
     "text": [
      "batch: 71\n",
      "forward pass\n",
      "backward pass\n",
      "update\n",
      "update loss\n"
     ]
    },
    {
     "name": "stderr",
     "output_type": "stream",
     "text": [
      "INFO:root:Epoch[4] Batch [71]\tSpeed: 1.832766 samples/sec\ttop1-err=0.697917\ttop5-err=0.179861\n"
     ]
    },
    {
     "name": "stdout",
     "output_type": "stream",
     "text": [
      "batch: 72\n",
      "forward pass\n",
      "backward pass\n",
      "update\n",
      "update loss\n"
     ]
    },
    {
     "name": "stderr",
     "output_type": "stream",
     "text": [
      "INFO:root:Epoch[4] Batch [72]\tSpeed: 4.506088 samples/sec\ttop1-err=0.696575\ttop5-err=0.180822\n"
     ]
    },
    {
     "name": "stdout",
     "output_type": "stream",
     "text": [
      "batch: 73\n",
      "forward pass\n",
      "backward pass\n",
      "update\n",
      "update loss\n"
     ]
    },
    {
     "name": "stderr",
     "output_type": "stream",
     "text": [
      "INFO:root:Epoch[4] Batch [73]\tSpeed: 4.364406 samples/sec\ttop1-err=0.696622\ttop5-err=0.179730\n"
     ]
    },
    {
     "name": "stdout",
     "output_type": "stream",
     "text": [
      "batch: 74\n",
      "forward pass\n",
      "backward pass\n",
      "update\n",
      "update loss\n"
     ]
    },
    {
     "name": "stderr",
     "output_type": "stream",
     "text": [
      "INFO:root:Epoch[4] Batch [74]\tSpeed: 4.461520 samples/sec\ttop1-err=0.695333\ttop5-err=0.179333\n",
      "INFO:root:[Epoch 4] training: err-top1=0.695333 err-top5=0.179333 loss=1.873062\n",
      "INFO:root:[Epoch 4] time cost: 408.431010\n",
      "INFO:root:[Epoch 4] validation: err-top1=0.692500 err-top5=0.230000\n"
     ]
    }
   ],
   "source": [
    "def main():\n",
    "    print(batch_size)\n",
    "    net.hybridize()\n",
    "    train(num_epochs, context)\n",
    "if __name__ == '__main__':\n",
    "    main()"
   ]
  },
  {
   "cell_type": "markdown",
   "metadata": {},
   "source": [
    "### Export model to ONNX format\n",
    "The conversion of the model to ONNX format is done using an internal converter which will be released soon. The notebook will be updated with the code for the export once the converter is released."
   ]
  },
  {
   "cell_type": "code",
   "execution_count": 117,
   "metadata": {},
   "outputs": [
    {
     "name": "stdout",
     "output_type": "stream",
     "text": [
      "0\n",
      "1\n",
      "2\n",
      "3\n",
      "4\n",
      "5\n",
      "6\n",
      "7\n",
      "8\n",
      "9\n",
      "10\n",
      "11\n",
      "12\n",
      "13\n",
      "14\n",
      "15\n",
      "16\n",
      "17\n",
      "18\n",
      "19\n",
      "\n",
      "\n",
      "\n",
      "\n",
      "predicted:\n",
      " [[2, 1, 2, 2, 1, 3, 2, 6, 2, 2, 6, 2, 2, 6, 2, 5, 2, 3, 3, 5], [2, 6, 3, 5, 1, 2, 6, 1, 6, 6, 2, 2, 5, 2, 2, 1, 2, 5, 1, 6], [2, 2, 3, 2, 1, 2, 5, 3, 3, 2, 1, 2, 2, 1, 2, 1, 1, 1, 2, 1], [2, 1, 1, 2, 2, 1, 1, 1, 2, 1, 1, 2, 2, 1, 1, 1, 1, 1, 2, 1], [2, 1, 2, 5, 1, 2, 1, 1, 1, 1, 1, 1, 1, 1, 1, 1, 2, 1, 2, 1], [2, 5, 2, 2, 2, 2, 2, 2, 3, 2, 2, 2, 5, 2, 2, 2, 2, 2, 2, 2], [2, 2, 2, 2, 2, 2, 2, 2, 2, 2, 2, 2, 2, 2, 3, 3, 2, 2, 2, 2], [2, 2, 2, 2, 1, 2, 2, 2, 2, 6, 2, 2, 1, 2, 5, 2, 1, 2, 6, 6], [5, 2, 1, 5, 6, 2, 2, 1, 5, 2, 2, 2, 2, 0, 3, 1, 2, 3, 2, 5], [1, 3, 2, 2, 3, 6, 4, 3, 2, 2, 1, 6, 3, 6, 6, 3, 2, 2, 2, 6], [6, 1, 2, 2, 6, 2, 1, 2, 5, 6, 2, 2, 1, 1, 4, 6, 3, 1, 2, 2], [2, 2, 4, 2, 2, 1, 5, 2, 2, 2, 5, 5, 2, 1, 4, 6, 1, 2, 2, 2], [1, 2, 4, 2, 5, 2, 1, 2, 4, 1, 5, 5, 5, 1, 6, 6, 5, 5, 5, 5], [5, 1, 5, 5, 1, 5, 6, 5, 5, 2, 1, 5, 2, 5, 1, 5, 5, 2, 5, 2], [2, 5, 5, 1, 3, 6, 5, 5, 6, 5, 5, 6, 5, 5, 5, 1, 6, 1, 5, 2], [1, 6, 5, 5, 5, 2, 1, 1, 1, 1, 6, 2, 1, 2, 6, 1, 1, 1, 5, 1], [1, 2, 6, 6, 5, 6, 1, 1, 1, 2, 4, 1, 5, 5, 1, 3, 2, 5, 5, 1], [2, 3, 5, 2, 1, 6, 5, 1, 1, 5, 1, 6, 6, 6, 3, 6, 1, 2, 6, 6], [2, 2, 5, 6, 6, 2, 1, 2, 5, 1, 2, 3, 1, 4, 2, 2, 3, 2, 1, 5], [1, 5, 6, 4, 3, 4, 4, 5, 5, 6, 2, 2, 2, 1, 6, 1, 6, 2, 6, 1]]\n",
      "expected:\n",
      " [[0, 0, 0, 0, 0, 0, 0, 0, 0, 0, 0, 0, 0, 0, 0, 0, 0, 0, 0, 0], [0, 0, 0, 0, 0, 0, 0, 0, 0, 0, 0, 0, 0, 0, 0, 0, 0, 0, 0, 0], [0, 0, 0, 0, 0, 0, 0, 0, 0, 0, 1, 1, 1, 1, 1, 1, 1, 1, 1, 1], [1, 1, 1, 1, 1, 1, 1, 1, 1, 1, 1, 1, 1, 1, 1, 1, 1, 1, 1, 1], [1, 1, 1, 1, 1, 1, 1, 1, 1, 1, 1, 1, 1, 1, 1, 1, 1, 1, 1, 1], [2, 2, 2, 2, 2, 2, 2, 2, 2, 2, 2, 2, 2, 2, 2, 2, 2, 2, 2, 2], [2, 2, 2, 2, 2, 2, 2, 2, 2, 2, 2, 2, 2, 2, 2, 2, 2, 2, 2, 2], [2, 2, 2, 2, 2, 2, 2, 2, 2, 2, 3, 3, 3, 3, 3, 3, 3, 3, 3, 3], [3, 3, 3, 3, 3, 3, 3, 3, 3, 3, 3, 3, 3, 3, 3, 3, 3, 3, 3, 3], [3, 3, 3, 3, 3, 3, 3, 3, 3, 3, 3, 3, 3, 3, 3, 3, 3, 3, 3, 3], [4, 4, 4, 4, 4, 4, 4, 4, 4, 4, 4, 4, 4, 4, 4, 4, 4, 4, 4, 4], [4, 4, 4, 4, 4, 4, 4, 4, 4, 4, 4, 4, 4, 4, 4, 4, 4, 4, 4, 4], [4, 4, 4, 4, 4, 4, 4, 4, 4, 4, 5, 5, 5, 5, 5, 5, 5, 5, 5, 5], [5, 5, 5, 5, 5, 5, 5, 5, 5, 5, 5, 5, 5, 5, 5, 5, 5, 5, 5, 5], [5, 5, 5, 5, 5, 5, 5, 5, 5, 5, 5, 5, 5, 5, 5, 5, 5, 5, 5, 5], [6, 6, 6, 6, 6, 6, 6, 6, 6, 6, 6, 6, 6, 6, 6, 6, 6, 6, 6, 6], [6, 6, 6, 6, 6, 6, 6, 6, 6, 6, 6, 6, 6, 6, 6, 6, 6, 6, 6, 6], [6, 6, 6, 6, 6, 6, 6, 6, 6, 6, 7, 7, 7, 7, 7, 7, 7, 7, 7, 7], [7, 7, 7, 7, 7, 7, 7, 7, 7, 7, 7, 7, 7, 7, 7, 7, 7, 7, 7, 7], [7, 7, 7, 7, 7, 7, 7, 7, 7, 7, 7, 7, 7, 7, 7, 7, 7, 7, 7, 7]]\n"
     ]
    }
   ],
   "source": [
    "transform_test = preprocess_test_data(normalize)\n",
    "val_data = gluon.data.DataLoader(\n",
    "        imagenet.classification.ImageNet(data_dir, train=False).transform_first(transform_test),\n",
    "        batch_size=batch_size, shuffle=False, num_workers=num_workers)\n",
    "batch = val_data\n",
    "import re\n",
    "\n",
    "expected = []\n",
    "predicted = []\n",
    "for i, batch in enumerate(val_data):\n",
    "    #print(i)\n",
    "    data = gluon.utils.split_and_load(batch[0], ctx_list=context, batch_axis=0)[0]\n",
    "    label = gluon.utils.split_and_load(batch[1], ctx_list=context, batch_axis=0)[0]\n",
    "\n",
    "    outputs = net(data)\n",
    "    \n",
    "    expected.append([int(re.findall('\\d+', str(l))[0]) for l in label])\n",
    "    maxes = [list(X.softmax()) for X in outputs]\n",
    "    predicted.append([X.index(max(X)) for X in maxes])\n",
    "    print(i)\n",
    "    #pred = net(data[0])[0].softmax()\n",
    "    #print(pred[0])\n",
    "#     predicted.append(list(pred).index(max(pred)))\n",
    "#     print(list(label[0]))\n",
    "#     break\n",
    "\n",
    "print(\"\\n\\n\\n\")\n",
    "print(\"predicted:\\n\", predicted)\n",
    "print(\"expected:\\n\", expected)"
   ]
  },
  {
   "cell_type": "code",
   "execution_count": 118,
   "metadata": {},
   "outputs": [
    {
     "name": "stdout",
     "output_type": "stream",
     "text": [
      "predicted:  [2, 1, 2, 2, 1, 3, 2, 6, 2, 2, 6, 2, 2, 6, 2, 5, 2, 3, 3, 5]\n",
      "expected:  [0, 0, 0, 0, 0, 0, 0, 0, 0, 0, 0, 0, 0, 0, 0, 0, 0, 0, 0, 0]\n",
      "\n",
      "\n",
      "predicted:  [2, 6, 3, 5, 1, 2, 6, 1, 6, 6, 2, 2, 5, 2, 2, 1, 2, 5, 1, 6]\n",
      "expected:  [0, 0, 0, 0, 0, 0, 0, 0, 0, 0, 0, 0, 0, 0, 0, 0, 0, 0, 0, 0]\n",
      "\n",
      "\n",
      "predicted:  [2, 2, 3, 2, 1, 2, 5, 3, 3, 2, 1, 2, 2, 1, 2, 1, 1, 1, 2, 1]\n",
      "expected:  [0, 0, 0, 0, 0, 0, 0, 0, 0, 0, 1, 1, 1, 1, 1, 1, 1, 1, 1, 1]\n",
      "\n",
      "\n",
      "predicted:  [2, 1, 1, 2, 2, 1, 1, 1, 2, 1, 1, 2, 2, 1, 1, 1, 1, 1, 2, 1]\n",
      "expected:  [1, 1, 1, 1, 1, 1, 1, 1, 1, 1, 1, 1, 1, 1, 1, 1, 1, 1, 1, 1]\n",
      "\n",
      "\n",
      "predicted:  [2, 1, 2, 5, 1, 2, 1, 1, 1, 1, 1, 1, 1, 1, 1, 1, 2, 1, 2, 1]\n",
      "expected:  [1, 1, 1, 1, 1, 1, 1, 1, 1, 1, 1, 1, 1, 1, 1, 1, 1, 1, 1, 1]\n",
      "\n",
      "\n",
      "predicted:  [2, 5, 2, 2, 2, 2, 2, 2, 3, 2, 2, 2, 5, 2, 2, 2, 2, 2, 2, 2]\n",
      "expected:  [2, 2, 2, 2, 2, 2, 2, 2, 2, 2, 2, 2, 2, 2, 2, 2, 2, 2, 2, 2]\n",
      "\n",
      "\n",
      "predicted:  [2, 2, 2, 2, 2, 2, 2, 2, 2, 2, 2, 2, 2, 2, 3, 3, 2, 2, 2, 2]\n",
      "expected:  [2, 2, 2, 2, 2, 2, 2, 2, 2, 2, 2, 2, 2, 2, 2, 2, 2, 2, 2, 2]\n",
      "\n",
      "\n",
      "predicted:  [2, 2, 2, 2, 1, 2, 2, 2, 2, 6, 2, 2, 1, 2, 5, 2, 1, 2, 6, 6]\n",
      "expected:  [2, 2, 2, 2, 2, 2, 2, 2, 2, 2, 3, 3, 3, 3, 3, 3, 3, 3, 3, 3]\n",
      "\n",
      "\n",
      "predicted:  [5, 2, 1, 5, 6, 2, 2, 1, 5, 2, 2, 2, 2, 0, 3, 1, 2, 3, 2, 5]\n",
      "expected:  [3, 3, 3, 3, 3, 3, 3, 3, 3, 3, 3, 3, 3, 3, 3, 3, 3, 3, 3, 3]\n",
      "\n",
      "\n",
      "predicted:  [1, 3, 2, 2, 3, 6, 4, 3, 2, 2, 1, 6, 3, 6, 6, 3, 2, 2, 2, 6]\n",
      "expected:  [3, 3, 3, 3, 3, 3, 3, 3, 3, 3, 3, 3, 3, 3, 3, 3, 3, 3, 3, 3]\n",
      "\n",
      "\n",
      "predicted:  [6, 1, 2, 2, 6, 2, 1, 2, 5, 6, 2, 2, 1, 1, 4, 6, 3, 1, 2, 2]\n",
      "expected:  [4, 4, 4, 4, 4, 4, 4, 4, 4, 4, 4, 4, 4, 4, 4, 4, 4, 4, 4, 4]\n",
      "\n",
      "\n",
      "predicted:  [2, 2, 4, 2, 2, 1, 5, 2, 2, 2, 5, 5, 2, 1, 4, 6, 1, 2, 2, 2]\n",
      "expected:  [4, 4, 4, 4, 4, 4, 4, 4, 4, 4, 4, 4, 4, 4, 4, 4, 4, 4, 4, 4]\n",
      "\n",
      "\n",
      "predicted:  [1, 2, 4, 2, 5, 2, 1, 2, 4, 1, 5, 5, 5, 1, 6, 6, 5, 5, 5, 5]\n",
      "expected:  [4, 4, 4, 4, 4, 4, 4, 4, 4, 4, 5, 5, 5, 5, 5, 5, 5, 5, 5, 5]\n",
      "\n",
      "\n",
      "predicted:  [5, 1, 5, 5, 1, 5, 6, 5, 5, 2, 1, 5, 2, 5, 1, 5, 5, 2, 5, 2]\n",
      "expected:  [5, 5, 5, 5, 5, 5, 5, 5, 5, 5, 5, 5, 5, 5, 5, 5, 5, 5, 5, 5]\n",
      "\n",
      "\n",
      "predicted:  [2, 5, 5, 1, 3, 6, 5, 5, 6, 5, 5, 6, 5, 5, 5, 1, 6, 1, 5, 2]\n",
      "expected:  [5, 5, 5, 5, 5, 5, 5, 5, 5, 5, 5, 5, 5, 5, 5, 5, 5, 5, 5, 5]\n",
      "\n",
      "\n",
      "predicted:  [1, 6, 5, 5, 5, 2, 1, 1, 1, 1, 6, 2, 1, 2, 6, 1, 1, 1, 5, 1]\n",
      "expected:  [6, 6, 6, 6, 6, 6, 6, 6, 6, 6, 6, 6, 6, 6, 6, 6, 6, 6, 6, 6]\n",
      "\n",
      "\n",
      "predicted:  [1, 2, 6, 6, 5, 6, 1, 1, 1, 2, 4, 1, 5, 5, 1, 3, 2, 5, 5, 1]\n",
      "expected:  [6, 6, 6, 6, 6, 6, 6, 6, 6, 6, 6, 6, 6, 6, 6, 6, 6, 6, 6, 6]\n",
      "\n",
      "\n",
      "predicted:  [2, 3, 5, 2, 1, 6, 5, 1, 1, 5, 1, 6, 6, 6, 3, 6, 1, 2, 6, 6]\n",
      "expected:  [6, 6, 6, 6, 6, 6, 6, 6, 6, 6, 7, 7, 7, 7, 7, 7, 7, 7, 7, 7]\n",
      "\n",
      "\n",
      "predicted:  [2, 2, 5, 6, 6, 2, 1, 2, 5, 1, 2, 3, 1, 4, 2, 2, 3, 2, 1, 5]\n",
      "expected:  [7, 7, 7, 7, 7, 7, 7, 7, 7, 7, 7, 7, 7, 7, 7, 7, 7, 7, 7, 7]\n",
      "\n",
      "\n",
      "predicted:  [1, 5, 6, 4, 3, 4, 4, 5, 5, 6, 2, 2, 2, 1, 6, 1, 6, 2, 6, 1]\n",
      "expected:  [7, 7, 7, 7, 7, 7, 7, 7, 7, 7, 7, 7, 7, 7, 7, 7, 7, 7, 7, 7]\n",
      "\n",
      "\n"
     ]
    }
   ],
   "source": [
    "for i in range(20):\n",
    "    print(\"predicted: \", predicted[i])\n",
    "    print(\"expected: \", expected[i])\n",
    "    print(\"\\n\")"
   ]
  },
  {
   "cell_type": "code",
   "execution_count": null,
   "metadata": {},
   "outputs": [],
   "source": []
  }
 ],
 "metadata": {
  "anaconda-cloud": {},
  "display_name": "",
  "kernelspec": {
   "display_name": "Python 3",
   "language": "python",
   "name": "python3"
  },
  "language_info": {
   "codemirror_mode": {
    "name": "ipython",
    "version": 3
   },
   "file_extension": ".py",
   "mimetype": "text/x-python",
   "name": "python",
   "nbconvert_exporter": "python",
   "pygments_lexer": "ipython3",
   "version": "3.6.9"
  },
  "name": ""
 },
 "nbformat": 4,
 "nbformat_minor": 2
}
