{
 "cells": [
  {
   "cell_type": "code",
   "execution_count": 1,
   "metadata": {},
   "outputs": [
    {
     "name": "stdout",
     "output_type": "stream",
     "text": [
      "Download 'mobilenetv2-1.0.onnx'...\n",
      "Done.\n",
      "Download 'imagenet_class_index.json'...\n",
      "Done.\n",
      "(1, 3, 224, 224)\n",
      "(1, 3, 224, 224) 0.0 1.0\n",
      "(1000,)\n",
      "[985, 584, 892, 729, 818, 828, 916, 310, 451, 446]\n",
      "   index       label      score\n",
      "0    985       daisy  11.125216\n",
      "1    584  hair_slide   7.783502\n",
      "2    892  wall_clock   7.076154\n",
      "3    729  plate_rack   7.066480\n",
      "4    818   spotlight   7.032015\n",
      "5    828    strainer   6.537438\n",
      "6    916    web_site   6.018525\n",
      "7    310         ant   5.946991\n",
      "8    451    bolo_tie   5.880325\n",
      "9    446      binder   5.861617\n"
     ]
    }
   ],
   "source": [
    "import os\n",
    "from PIL import Image, ImageDraw\n",
    "import matplotlib.pyplot as plt\n",
    "import numpy\n",
    "from skonnxrt.sklapi import OnnxTransformer\n",
    "model_file = \"mobilenetv2-1.0.onnx\"\n",
    "if not os.path.exists(model_file):\n",
    "    print(\"Download '{0}'...\".format(model_file))\n",
    "    import urllib.request\n",
    "    url = \"https://s3.amazonaws.com/onnx-model-zoo/mobilenet/mobilenetv2-1.0/mobilenetv2-1.0.onnx\"\n",
    "    urllib.request.urlretrieve(url, model_file)\n",
    "    print(\"Done.\")\n",
    "\n",
    "class_names = \"imagenet_class_index.json\"\n",
    "if not os.path.exists(class_names):\n",
    "    print(\"Download '{0}'...\".format(class_names))\n",
    "    import urllib.request\n",
    "    url = \"https://s3.amazonaws.com/deep-learning-models/image-models/imagenet_class_index.json\"\n",
    "    urllib.request.urlretrieve(url, class_names)\n",
    "    print(\"Done.\")\n",
    "\n",
    "import json\n",
    "with open(class_names, \"r\", encoding=\"utf-8\") as f:\n",
    "    content_classes = f.read()\n",
    "labels = json.loads(content_classes)\n",
    "\n",
    "with open(model_file, \"rb\") as f:\n",
    "    model_bytes = f.read()\n",
    "\n",
    "ot = OnnxTransformer(model_bytes)\n",
    "\n",
    "img = Image.open('/home/data/test/img.jpg')\n",
    "img2 = img.resize((224, 224))\n",
    "X = numpy.asarray(img2).transpose((2, 0, 1))\n",
    "X = X[numpy.newaxis, :, :, :] / 255.0\n",
    "print(X.shape)\n",
    "print(X.shape, X.min(), X.max())\n",
    "\n",
    "pred = ot.fit_transform(X)[0, :]\n",
    "print(pred.shape)\n",
    "\n",
    "from heapq import nlargest\n",
    "results = nlargest(10, range(pred.shape[0]), pred.take)\n",
    "print(results)\n",
    "\n",
    "import pandas\n",
    "data=[{\"index\": i, \"label\": labels.get(str(i), ('?', '?'))[1], 'score': pred[i]} \\\n",
    "      for i in results]\n",
    "df = pandas.DataFrame(data)\n",
    "print(df)\n"
   ]
  },
  {
   "cell_type": "code",
   "execution_count": null,
   "metadata": {},
   "outputs": [],
   "source": []
  }
 ],
 "metadata": {
  "kernelspec": {
   "display_name": "Python 3",
   "language": "python",
   "name": "python3"
  },
  "language_info": {
   "codemirror_mode": {
    "name": "ipython",
    "version": 3
   },
   "file_extension": ".py",
   "mimetype": "text/x-python",
   "name": "python",
   "nbconvert_exporter": "python",
   "pygments_lexer": "ipython3",
   "version": "3.6.9"
  }
 },
 "nbformat": 4,
 "nbformat_minor": 4
}
